{
 "cells": [
  {
   "cell_type": "markdown",
   "id": "5eb653e1",
   "metadata": {
    "papermill": {
     "duration": 0.015827,
     "end_time": "2023-08-21T20:20:47.707840",
     "exception": false,
     "start_time": "2023-08-21T20:20:47.692013",
     "status": "completed"
    },
    "tags": []
   },
   "source": [
    "Learning pytorch using CAFA5 as an example.\n",
    "\n",
    "Here we implement simple neural network (multi-layer perceptron) in pytorch, train it on CAFA5 data to submit predictions\n",
    "\n",
    "Using already computed emebdding for the proteins sequences created by Andrey Shevtsov esm2-model: ( https://www.kaggle.com/competitions/cafa-5-protein-function-prediction/discussion/406168 - Might use multiple embedding models in future work.\n",
    "\n",
    "This model was prepared especially for use in this Cafa5 task and may be more relevant than the previously used T5 model\n",
    "\n",
    "**Ongoing task:** Change parameters for the neural network and try to improve the score.\n",
    "Later on try understand/modify/apply to CAFA5:\n",
    "\n",
    "https://www.kaggle.com/code/romanvinogradov/cafa-mlp-inference\n",
    "\n",
    "Idea by \"tmp\" - use cnn for such types of data, but make a first dense layer which arranges data to be suitable for cnn: https://www.kaggle.com/competitions/lish-moa/discussion/202256\n",
    "\n",
    "Related ideas: Senkin13: https://www.kaggle.com/code/senkin13/2nd-place-gru-cite , modifications by Dmitry Ershov: https://www.kaggle.com/code/bejeweled/rotate-2nd-place-cite-2d-cnn and other 3 notebooks by him (top-scored on Kaggle Open Problems (late submissions)): https://www.kaggle.com/competitions/open-problems-multimodal/code?competitionId=38128&sortBy=scoreDescending"
   ]
  },
  {
   "cell_type": "code",
   "execution_count": 1,
   "id": "17b6befa",
   "metadata": {
    "_cell_guid": "b1076dfc-b9ad-4769-8c92-a6c4dae69d19",
    "_uuid": "8f2839f25d086af736a60e9eeb907d3b93b6e0e5",
    "execution": {
     "iopub.execute_input": "2023-08-21T20:20:47.740139Z",
     "iopub.status.busy": "2023-08-21T20:20:47.739272Z",
     "iopub.status.idle": "2023-08-21T20:20:49.332505Z",
     "shell.execute_reply": "2023-08-21T20:20:49.331656Z"
    },
    "papermill": {
     "duration": 1.612984,
     "end_time": "2023-08-21T20:20:49.335774",
     "exception": false,
     "start_time": "2023-08-21T20:20:47.722790",
     "status": "completed"
    },
    "tags": []
   },
   "outputs": [
    {
     "name": "stderr",
     "output_type": "stream",
     "text": [
      "/opt/conda/lib/python3.10/site-packages/scipy/__init__.py:146: UserWarning: A NumPy version >=1.16.5 and <1.23.0 is required for this version of SciPy (detected version 1.23.5\n",
      "  warnings.warn(f\"A NumPy version >={np_minversion} and <{np_maxversion}\"\n"
     ]
    },
    {
     "name": "stdout",
     "output_type": "stream",
     "text": [
      "/kaggle/input/23468234/train_ids_esm2_t33_650M_UR50D.npy\n",
      "/kaggle/input/23468234/test_ids_esm2_t33_650M_UR50D.npy\n",
      "/kaggle/input/23468234/test_embeds_esm2_t33_650M_UR50D.npy\n",
      "/kaggle/input/23468234/train_embeds_esm2_t33_650M_UR50D.npy\n",
      "/kaggle/input/cafa5-features-etc/T5_train_embeds_float32.npy\n",
      "/kaggle/input/cafa5-features-etc/Y_1499_sparse.npz\n",
      "/kaggle/input/cafa5-features-etc/Y_31466_labels.npy\n",
      "/kaggle/input/cafa5-features-etc/df_Y_1499.csv\n",
      "/kaggle/input/cafa5-features-etc/train_ids.npy\n",
      "/kaggle/input/cafa5-features-etc/df_Levenshtein_distance_100_features_train.csv\n",
      "/kaggle/input/cafa5-features-etc/T5_test_embeds_float32.npy\n",
      "/kaggle/input/cafa5-features-etc/df_scores_with_descriptions.csv\n",
      "/kaggle/input/cafa5-features-etc/df_train_eda.csv\n",
      "/kaggle/input/cafa5-features-etc/Y_1499.npy\n",
      "/kaggle/input/cafa5-features-etc/df_terms_counts_weights_names_etc.csv\n",
      "/kaggle/input/cafa5-features-etc/df_Levenshtein_distance_100_features_test.csv\n",
      "/kaggle/input/cafa5-features-etc/test_ids.npy\n",
      "/kaggle/input/cafa5-features-etc/df_Levenshtein_distance_1000_features_test.csv\n",
      "/kaggle/input/cafa5-features-etc/df_folds_Nsims6_evalue0d001.csv\n",
      "/kaggle/input/cafa5-features-etc/df_aligners_benchmark.csv\n",
      "/kaggle/input/cafa5-features-etc/Y_31466_sparse_float32.npz\n",
      "/kaggle/input/cafa5-features-etc/df_Levenshtein_distance_1000_features_train.csv\n",
      "/kaggle/input/cafa5-features-etc/train_ids_cut43k.npy\n",
      "/kaggle/input/cafa5-features-etc/Y_1499_labels.npy\n",
      "/kaggle/input/cafa5-features-etc/df_groups_Nsims6_evalue0d001.csv\n",
      "/kaggle/input/cafa5-features-etc/df_diamond_stat.csv\n",
      "/kaggle/input/cafa5-features-etc/matches_train_diamond_ultra_sensitive/matches_train_diamond_ultra_sensitive.tsv\n",
      "/kaggle/input/cafa5-features-etc/random_folds/folds_gkf.npy\n",
      "/kaggle/input/4637427/test_ids_esm2_t36_3B_UR50D.npy\n",
      "/kaggle/input/4637427/train_ids_esm2_t36_3B_UR50D.npy\n",
      "/kaggle/input/4637427/test_embeds_esm2_t36_3B_UR50D.npy\n",
      "/kaggle/input/4637427/train_embeds_esm2_t36_3B_UR50D.npy\n",
      "/kaggle/input/t5embeds/train_ids.npy\n",
      "/kaggle/input/t5embeds/test_embeds.npy\n",
      "/kaggle/input/t5embeds/train_embeds.npy\n",
      "/kaggle/input/t5embeds/test_ids.npy\n",
      "/kaggle/input/cafa-5-protein-function-prediction/sample_submission.tsv\n",
      "/kaggle/input/cafa-5-protein-function-prediction/IA.txt\n",
      "/kaggle/input/cafa-5-protein-function-prediction/Test (Targets)/testsuperset.fasta\n",
      "/kaggle/input/cafa-5-protein-function-prediction/Test (Targets)/testsuperset-taxon-list.tsv\n",
      "/kaggle/input/cafa-5-protein-function-prediction/Train/train_terms.tsv\n",
      "/kaggle/input/cafa-5-protein-function-prediction/Train/train_sequences.fasta\n",
      "/kaggle/input/cafa-5-protein-function-prediction/Train/train_taxonomy.tsv\n",
      "/kaggle/input/cafa-5-protein-function-prediction/Train/go-basic.obo\n"
     ]
    }
   ],
   "source": [
    "# This Python 3 environment comes with many helpful analytics libraries installed\n",
    "# It is defined by the kaggle/python Docker image: https://github.com/kaggle/docker-python\n",
    "# For example, here's several helpful packages to load\n",
    "\n",
    "import time\n",
    "t0start = time.time()\n",
    "\n",
    "import numpy as np # linear algebra\n",
    "import pandas as pd # data processing, CSV file I/O (e.g. pd.read_csv)\n",
    "\n",
    "import matplotlib.pyplot as plt\n",
    "import seaborn as sns\n",
    "\n",
    "# Input data files are available in the read-only \"../input/\" directory\n",
    "# For example, running this (by clicking run or pressing Shift+Enter) will list all files under the input directory\n",
    "\n",
    "import os\n",
    "for dirname, _, filenames in os.walk('/kaggle/input'):\n",
    "    for filename in filenames:\n",
    "        print(os.path.join(dirname, filename))\n",
    "\n",
    "# You can write up to 20GB to the current directory (/kaggle/working/) that gets preserved as output when you create a version using \"Save & Run All\" \n",
    "# You can also write temporary files to /kaggle/temp/, but they won't be saved outside of the current session"
   ]
  },
  {
   "cell_type": "code",
   "execution_count": 2,
   "id": "4c560499",
   "metadata": {
    "execution": {
     "iopub.execute_input": "2023-08-21T20:20:49.372016Z",
     "iopub.status.busy": "2023-08-21T20:20:49.371322Z",
     "iopub.status.idle": "2023-08-21T20:21:04.270860Z",
     "shell.execute_reply": "2023-08-21T20:21:04.268818Z"
    },
    "papermill": {
     "duration": 14.921415,
     "end_time": "2023-08-21T20:21:04.274468",
     "exception": false,
     "start_time": "2023-08-21T20:20:49.353053",
     "status": "completed"
    },
    "tags": []
   },
   "outputs": [],
   "source": [
    "%%capture \n",
    "!pip install torchmetrics"
   ]
  },
  {
   "cell_type": "code",
   "execution_count": 3,
   "id": "1d7eee29",
   "metadata": {
    "execution": {
     "iopub.execute_input": "2023-08-21T20:21:04.310879Z",
     "iopub.status.busy": "2023-08-21T20:21:04.310329Z",
     "iopub.status.idle": "2023-08-21T20:21:17.973023Z",
     "shell.execute_reply": "2023-08-21T20:21:17.971254Z"
    },
    "papermill": {
     "duration": 13.683894,
     "end_time": "2023-08-21T20:21:17.976138",
     "exception": false,
     "start_time": "2023-08-21T20:21:04.292244",
     "status": "completed"
    },
    "tags": []
   },
   "outputs": [],
   "source": [
    "%%capture\n",
    "!pip install torchsummary"
   ]
  },
  {
   "cell_type": "code",
   "execution_count": 4,
   "id": "73f30a2a",
   "metadata": {
    "execution": {
     "iopub.execute_input": "2023-08-21T20:21:18.013400Z",
     "iopub.status.busy": "2023-08-21T20:21:18.011503Z",
     "iopub.status.idle": "2023-08-21T20:21:35.783160Z",
     "shell.execute_reply": "2023-08-21T20:21:35.781416Z"
    },
    "papermill": {
     "duration": 17.794593,
     "end_time": "2023-08-21T20:21:35.786326",
     "exception": false,
     "start_time": "2023-08-21T20:21:17.991733",
     "status": "completed"
    },
    "tags": []
   },
   "outputs": [],
   "source": [
    "## https://www.kaggle.com/code/alexandervc/baseline-multilabel-to-multitarget-binary#Load-train-features---precalculated-embeddings-for-the-proteins\n",
    "import os\n",
    "import gc\n",
    "from sklearn.model_selection import train_test_split\n",
    "import numpy as np\n",
    "import pandas as pd\n",
    "import seaborn as sns\n",
    "import matplotlib.pyplot as plt\n",
    "from tqdm.notebook import tqdm\n",
    "tqdm.pandas()\n",
    "import torch\n",
    "import warnings\n",
    "warnings.filterwarnings('ignore')\n",
    "from sklearn.model_selection import train_test_split\n",
    "import torch.nn.functional as F\n",
    "from torch.utils.data import Dataset, DataLoader\n",
    "from torchmetrics import AUROC,F1Score\n",
    "from torchmetrics.classification import BinaryF1Score\n",
    "from torchsummary import summary as torchsummary"
   ]
  },
  {
   "cell_type": "markdown",
   "id": "45128d2c",
   "metadata": {
    "papermill": {
     "duration": 0.015001,
     "end_time": "2023-08-21T20:21:35.817762",
     "exception": false,
     "start_time": "2023-08-21T20:21:35.802761",
     "status": "completed"
    },
    "tags": []
   },
   "source": [
    "**Metrics**\n",
    "\"torchmetrics\" - is additional package to pytorch - contains many metrics which basic pytorch does not\n",
    "\n",
    "Pay attention: input arguments should be torch.tensor not lists or np.arrays\n",
    "\n",
    "Pay attention: auc function - order of arguments is opposite to sklearn rocauc function, and on some other details of intialization - different from the sklearn syntax. The syntax is auroc - not auCroc - as one may expect\n",
    "\n",
    "Funny note: same losses e.g. BCE can be imported from different modelues with differnt names, but they are the same - e.g. torch.nn.functional under the name binary_cross_entropy and import torch.nn as nn - as nn.BCELoss()"
   ]
  },
  {
   "cell_type": "code",
   "execution_count": 5,
   "id": "bbd586c0",
   "metadata": {
    "execution": {
     "iopub.execute_input": "2023-08-21T20:21:35.850436Z",
     "iopub.status.busy": "2023-08-21T20:21:35.850034Z",
     "iopub.status.idle": "2023-08-21T20:21:36.034178Z",
     "shell.execute_reply": "2023-08-21T20:21:36.031982Z"
    },
    "papermill": {
     "duration": 0.203821,
     "end_time": "2023-08-21T20:21:36.037038",
     "exception": false,
     "start_time": "2023-08-21T20:21:35.833217",
     "status": "completed"
    },
    "tags": []
   },
   "outputs": [
    {
     "name": "stdout",
     "output_type": "stream",
     "text": [
      "tensor(0.2310)\n",
      "None\n",
      "tensor(0.2310)\n",
      "None\n",
      "tensor(0.0833)\n",
      "None\n",
      "\n",
      " AUC\n",
      "tensor(0.7500)\n",
      "None\n",
      "tensor(0.8333)\n",
      "tensor(0.8333)\n",
      "\n",
      "tensor(0.8333)\n",
      "None\n",
      "tensor(0.8571)\n",
      "None\n"
     ]
    }
   ],
   "source": [
    "import torch.nn.functional as F\n",
    "\n",
    "# F.binary_cross_entropy(out, labels)   # Calculate loss\n",
    "s =  F.binary_cross_entropy( torch.tensor([0.,1,0.5]), torch.tensor([0,1.,1] ) )  # Important to have float - on [0,1] it crashes - \"Long not supported\"\n",
    "print( s )\n",
    "print( s.grad_fn )\n",
    "\n",
    "import torch.nn as nn\n",
    "preds = torch.tensor([0.,1,0.5])\n",
    "target = torch.tensor([0,1.,1])\n",
    "loss_func = nn.BCELoss()\n",
    "s = loss_func(preds, target )\n",
    "print( s )\n",
    "print( s.grad_fn )\n",
    "\n",
    "import torch.nn as nn\n",
    "preds = torch.tensor([0.,1,0.5])\n",
    "target = torch.tensor([0,1.,1])\n",
    "loss_func  = torch.nn.MSELoss() \n",
    "s = loss_func(preds, target )\n",
    "print( s )\n",
    "print( s.grad_fn )\n",
    "\n",
    "\n",
    "from torchmetrics import AUROC,F1Score\n",
    "\n",
    "auroc = AUROC(task = 'binary')\n",
    "# order of arguments is different from the sklearn : sklearn - y_true, y_score, while in pytorch - y_score, y_true\n",
    "# Also we first need to initialize  aucroc = AUROC(task = 'binary'), and only then apply  \n",
    "s = auroc(torch.tensor([0,.6,0]), torch.tensor([0,1,1]) ) \n",
    "print('\\n AUC')\n",
    "print( s )\n",
    "print( s.grad_fn )\n",
    "s = auroc(torch.tensor([0,.01,0.02,0]), torch.tensor([0,1,1,1]) ) \n",
    "print( s )\n",
    "s = auroc(torch.tensor([0,.1,0.2,0]), torch.tensor([0,1,1,1]) ) \n",
    "print( s )\n",
    "print()\n",
    "\n",
    "target = torch.tensor([0, 1, 1, 0, 1, 1])\n",
    "preds = torch.tensor([0, 1, 1, 0, 0, 1])\n",
    "f1 = F1Score(task=\"multiclass\", num_classes=2)\n",
    "s = f1(preds, target)\n",
    "print( s )\n",
    "print( s.grad_fn )\n",
    "\n",
    "from torchmetrics.classification import BinaryF1Score\n",
    "f1 = BinaryF1Score(threshold=0.5, multidim_average= 'global'  )\n",
    "s = f1(preds, target)\n",
    "print( s )\n",
    "print( s.grad_fn )"
   ]
  },
  {
   "cell_type": "markdown",
   "id": "bac0aada",
   "metadata": {
    "papermill": {
     "duration": 0.014825,
     "end_time": "2023-08-21T20:21:36.067084",
     "exception": false,
     "start_time": "2023-08-21T20:21:36.052259",
     "status": "completed"
    },
    "tags": []
   },
   "source": [
    "**How multi-target cases are computed**\n",
    "Many metrics support cases of many tartgets, i.e. Y_pred and Y_true are both matrices : n_samples x n_targets\n",
    "\n",
    "There is NO such support in e.g. sklearn.metrics - where we typically work with single target tasks.\n",
    "\n",
    "There are several ways how standard metrics can be extended to multi-target cases, and for some metrics there is a parameter \"multidim_average\", taking values 'global' / 'samplewise' which control what way to choose.\n",
    "\n",
    "The other detail - for the metrics like F1 predictions expected to be in [0,1] interval , if this fail, then torch and sklearn metrics may disagree. In standard case the agree as shown below."
   ]
  },
  {
   "cell_type": "code",
   "execution_count": 6,
   "id": "c96dee4e",
   "metadata": {
    "execution": {
     "iopub.execute_input": "2023-08-21T20:21:36.099990Z",
     "iopub.status.busy": "2023-08-21T20:21:36.099509Z",
     "iopub.status.idle": "2023-08-21T20:21:36.297921Z",
     "shell.execute_reply": "2023-08-21T20:21:36.296463Z"
    },
    "papermill": {
     "duration": 0.218876,
     "end_time": "2023-08-21T20:21:36.301168",
     "exception": false,
     "start_time": "2023-08-21T20:21:36.082292",
     "status": "completed"
    },
    "tags": []
   },
   "outputs": [
    {
     "name": "stdout",
     "output_type": "stream",
     "text": [
      " multidim_average= 'global'    Scalar will be returned\n",
      "torch.Size([])\n",
      "tensor(0.4985)\n",
      "\n",
      " multidim_average= 'samplewise'   vector of values for each sample will be returned\n",
      "torch.Size([100])\n",
      "tensor(0.4674)\n",
      "tensor([0.5000, 0.7500, 0.3333, 0.6667, 0.0000, 0.0000, 0.2857, 0.6667, 0.4000,\n",
      "        0.3636, 0.6000, 0.4615, 0.6000, 0.5714, 0.6667, 0.7692, 0.2857, 0.4000,\n",
      "        0.6667, 0.2000, 0.5000, 0.3636, 0.5000, 0.6000, 0.3333, 0.7143, 0.5000,\n",
      "        0.0000, 0.6667, 0.4000, 0.5000, 0.4000, 0.5455, 0.6154, 0.6000, 0.2222,\n",
      "        0.4444, 0.2857, 0.0000, 0.2222, 0.5455, 0.6000, 0.5714, 0.0000, 0.8333,\n",
      "        0.6154, 0.2000, 0.5000, 0.6154, 0.6154, 0.4000, 0.4000, 0.2500, 0.2857,\n",
      "        0.4444, 0.4444, 0.5455, 0.4000, 0.9091, 0.5000, 0.5714, 0.5714, 0.6154,\n",
      "        0.2500, 0.7273, 0.4000, 0.7692, 0.8235, 0.4444, 0.0000, 0.6667, 0.5000,\n",
      "        0.8571, 0.4444, 0.2500, 0.6000, 0.2222, 0.3333, 0.5455, 0.5714, 0.0000,\n",
      "        0.6667, 0.7500, 0.2222, 0.2857, 0.5714, 0.5714, 0.7500, 0.6154, 0.4444,\n",
      "        0.2500, 0.3636, 0.3636, 0.0000, 0.9333, 0.4444, 0.6667, 0.5455, 0.2857,\n",
      "        0.5714])\n",
      "\n",
      "\n",
      "Implement the same with sklearn\n",
      "Global case \n",
      "0.4985\n",
      "Samplewise case:\n",
      "0.4674\n"
     ]
    }
   ],
   "source": [
    "target =  torch.tensor( (np.random.randn(100,10)>0).astype(float) )\n",
    "preds = torch.tensor( np.clip( np.random.randn(100,10) + 0.5, 0 ,1) )\n",
    "\n",
    "#  multidim_average= 'global'\n",
    "print( \" multidim_average= 'global'   \", 'Scalar will be returned')\n",
    "f1 = BinaryF1Score(threshold=0.5, multidim_average= 'global'  )\n",
    "s = f1(preds, target)\n",
    "print(s.shape)\n",
    "print( s )\n",
    "\n",
    "print()\n",
    "print(\" multidim_average= 'samplewise'  \", 'vector of values for each sample will be returned')\n",
    "f1 = BinaryF1Score(threshold=0.5, multidim_average= 'samplewise'  )\n",
    "s = f1(preds, target)\n",
    "print(s.shape)\n",
    "print(s.mean() )\n",
    "print( s )\n",
    "\n",
    "\n",
    "print()\n",
    "print()\n",
    "print('Implement the same with sklearn')\n",
    "from sklearn.metrics import f1_score\n",
    "print('Global case ')\n",
    "s = f1_score( target.numpy().ravel() ,   preds.numpy().ravel() >= 0.5  )\n",
    "print(np.round(s,4))\n",
    "\n",
    "print('Samplewise case:')\n",
    "l = [ f1_score( target.numpy()[i,:], preds.numpy()[i,:] >= 0.5 ) for i in range(preds.shape[0]) ]\n",
    "s = np.mean(l)\n",
    "print( np.round(s,4))"
   ]
  },
  {
   "cell_type": "code",
   "execution_count": 7,
   "id": "d28b872c",
   "metadata": {
    "execution": {
     "iopub.execute_input": "2023-08-21T20:21:36.339042Z",
     "iopub.status.busy": "2023-08-21T20:21:36.338562Z",
     "iopub.status.idle": "2023-08-21T20:21:36.361370Z",
     "shell.execute_reply": "2023-08-21T20:21:36.360170Z"
    },
    "papermill": {
     "duration": 0.045741,
     "end_time": "2023-08-21T20:21:36.364654",
     "exception": false,
     "start_time": "2023-08-21T20:21:36.318913",
     "status": "completed"
    },
    "tags": []
   },
   "outputs": [
    {
     "name": "stdout",
     "output_type": "stream",
     "text": [
      "tensor(0.4935)\n",
      "0.4935\n",
      "CPU times: user 7.17 ms, sys: 847 µs, total: 8.02 ms\n",
      "Wall time: 15.8 ms\n"
     ]
    }
   ],
   "source": [
    "%%time\n",
    "s = auroc(preds, target ) \n",
    "print( s )\n",
    "\n",
    "\n",
    "from sklearn.metrics import roc_auc_score\n",
    "s = roc_auc_score(target.numpy().ravel() , preds.numpy().ravel()) \n",
    "print( np.round(s,4) )"
   ]
  },
  {
   "cell_type": "markdown",
   "id": "ef798927",
   "metadata": {
    "papermill": {
     "duration": 0.015798,
     "end_time": "2023-08-21T20:21:36.396473",
     "exception": false,
     "start_time": "2023-08-21T20:21:36.380675",
     "status": "completed"
    },
    "tags": []
   },
   "source": [
    "^doesn't work- cannot apply metrics to list/np.arrays etc - we can apply metrics to pytorch tensors only"
   ]
  },
  {
   "cell_type": "code",
   "execution_count": 8,
   "id": "4a99a7b7",
   "metadata": {
    "execution": {
     "iopub.execute_input": "2023-08-21T20:21:36.430109Z",
     "iopub.status.busy": "2023-08-21T20:21:36.429702Z",
     "iopub.status.idle": "2023-08-21T20:21:36.439488Z",
     "shell.execute_reply": "2023-08-21T20:21:36.437775Z"
    },
    "papermill": {
     "duration": 0.030048,
     "end_time": "2023-08-21T20:21:36.442312",
     "exception": false,
     "start_time": "2023-08-21T20:21:36.412264",
     "status": "completed"
    },
    "tags": []
   },
   "outputs": [
    {
     "name": "stdout",
     "output_type": "stream",
     "text": [
      "<class 'TypeError'>\n",
      "(\"'int' object is not callable\",)\n",
      "'int' object is not callable\n"
     ]
    }
   ],
   "source": [
    "try: \n",
    "    F.binary_cross_entropy( np.array([0.,1.,0.5]), np.array([0.,1.,1.] ) )\n",
    "    F.binary_cross_entropy( [0.,1.,0.5] ,  [0.,1.,1.]  )\n",
    "    aucroc(([0,.6,0]), ([0,1,1]) )\n",
    "    aucroc(np.array([0,.6,0]), np.array([0,1,1]) )\n",
    "except Exception as inst:\n",
    "    print(type(inst))    # the exception type\n",
    "    print(inst.args)     # arguments stored in .args\n",
    "    print(inst)      "
   ]
  },
  {
   "cell_type": "markdown",
   "id": "20676580",
   "metadata": {
    "papermill": {
     "duration": 0.015326,
     "end_time": "2023-08-21T20:21:36.473496",
     "exception": false,
     "start_time": "2023-08-21T20:21:36.458170",
     "status": "completed"
    },
    "tags": []
   },
   "source": [
    "Loading precalulcated features - embeddings and targets transformed in 0,1 multi-target task.\n",
    "\n",
    "We use already computed emebdding for the proteins sequences 'esm2-model' - thanks to Andrey Shevtsov \n",
    "\n",
    "We load targets matrix \"Y\" which contains NOT all the CAFA5 targets but only top 1499. That is quite enough to get not so bad score. Note: original input file text describing targets have been trasnformed to np.array Y. See the notebook https://www.kaggle.com/code/alexandervc/baseline-multilabel-to-multitarget-binary for details."
   ]
  },
  {
   "cell_type": "code",
   "execution_count": 9,
   "id": "2a7cb665",
   "metadata": {
    "execution": {
     "iopub.execute_input": "2023-08-21T20:21:36.507552Z",
     "iopub.status.busy": "2023-08-21T20:21:36.506989Z",
     "iopub.status.idle": "2023-08-21T20:22:31.341317Z",
     "shell.execute_reply": "2023-08-21T20:22:31.338458Z"
    },
    "papermill": {
     "duration": 54.856598,
     "end_time": "2023-08-21T20:22:31.345860",
     "exception": false,
     "start_time": "2023-08-21T20:21:36.489262",
     "status": "completed"
    },
    "tags": []
   },
   "outputs": [
    {
     "name": "stdout",
     "output_type": "stream",
     "text": [
      "(142246, 2560)\n",
      "[[-0.00693172  0.00793555  0.00273201]\n",
      " [-0.00823162 -0.07488033 -0.00828702]]\n",
      "(142246,)\n",
      "['P20536' 'O73864' 'O95231' 'A0A0B4J1F4' 'P54366' 'P33681' 'P77596'\n",
      " 'Q16787' 'Q59VP0' 'P13508' 'Q96S79' 'Q9VSA3' 'O94652' 'P35669' 'Q5MNZ6']\n",
      "(1499,)\n",
      "['GO:0005575' 'GO:0008150' 'GO:0110165' 'GO:0003674' 'GO:0005622'\n",
      " 'GO:0009987' 'GO:0043226' 'GO:0043229' 'GO:0005488' 'GO:0043227'\n",
      " 'GO:0005737' 'GO:0043231' 'GO:0005515' 'GO:0065007' 'GO:0050789'\n",
      " 'GO:0050794' 'GO:0050896' 'GO:0008152' 'GO:0032501' 'GO:0005634']\n",
      "(142246, 1499)\n",
      "[[0. 1. 0. ... 0. 0. 0.]\n",
      " [1. 1. 1. ... 0. 0. 0.]\n",
      " [1. 1. 1. ... 0. 0. 0.]\n",
      " ...\n",
      " [1. 1. 1. ... 0. 0. 0.]\n",
      " [1. 0. 1. ... 0. 0. 0.]\n",
      " [1. 1. 1. ... 0. 0. 0.]]\n"
     ]
    },
    {
     "data": {
      "image/png": "[encoded data removed]",
      "text/plain": [
       "<Figure size 2000x600 with 1 Axes>"
      ]
     },
     "metadata": {},
     "output_type": "display_data"
    },
    {
     "name": "stdout",
     "output_type": "stream",
     "text": [
      "CPU times: user 1.35 s, sys: 5.8 s, total: 7.15 s\n",
      "Wall time: 54.8 s\n"
     ]
    }
   ],
   "source": [
    "%%time \n",
    "################ load  features #########################\n",
    "\n",
    "fn = '/kaggle/input/4637427/train_embeds_esm2_t36_3B_UR50D.npy'\n",
    "X = np.load(fn).astype(np.float32)\n",
    "print(X.shape)\n",
    "print(X[:2,:3])\n",
    "prot_ids  = np.load('/kaggle/input/4637427/train_ids_esm2_t36_3B_UR50D.npy')\n",
    "print(prot_ids.shape)\n",
    "print(prot_ids[:15])\n",
    "\n",
    "############################ load targets and their ids  ######################################\n",
    "fn = '/kaggle/input/cafa5-features-etc/Y_1499_labels.npy'\n",
    "Y_labels = np.load(fn)\n",
    "print(Y_labels.shape)\n",
    "print(Y_labels[:20])\n",
    "# %%time \n",
    "fn = '/kaggle/input/cafa5-features-etc/Y_1499.npy'\n",
    "Y = np.load(fn)\n",
    "print(Y.shape)\n",
    "print(Y[:20])\n",
    "# %%time\n",
    "if 1:\n",
    "    v = Y.sum(axis = 0)\n",
    "    plt.figure(figsize = (20,6))\n",
    "    plt.plot(v[:500], '*-')\n",
    "    plt.grid()\n",
    "    plt.title(' Number of 1 in targets',fontsize = 20 )\n",
    "    plt.xlabel('target index', fontsize = 20 )\n",
    "    plt.show()\n",
    "\n",
    "    \n",
    "# fn_train_terms = '/kaggle/input/cafa-5-protein-function-prediction/Train/train_terms.tsv'\n",
    "# fn_train_taxonomy ='/kaggle/input/cafa-5-protein-function-prediction/Train/train_taxonomy.tsv'"
   ]
  },
  {
   "cell_type": "markdown",
   "id": "e6841dc8",
   "metadata": {
    "papermill": {
     "duration": 0.018254,
     "end_time": "2023-08-21T20:22:31.390406",
     "exception": false,
     "start_time": "2023-08-21T20:22:31.372152",
     "status": "completed"
    },
    "tags": []
   },
   "source": [
    "**Define neural network**\n",
    "This is a simple pytourch NN\n",
    "It will need to be optimised for Cafa5 in future versions"
   ]
  },
  {
   "cell_type": "code",
   "execution_count": 10,
   "id": "62e6b06e",
   "metadata": {
    "execution": {
     "iopub.execute_input": "2023-08-21T20:22:31.431144Z",
     "iopub.status.busy": "2023-08-21T20:22:31.430527Z",
     "iopub.status.idle": "2023-08-21T20:22:31.438621Z",
     "shell.execute_reply": "2023-08-21T20:22:31.437030Z"
    },
    "papermill": {
     "duration": 0.033167,
     "end_time": "2023-08-21T20:22:31.441602",
     "exception": false,
     "start_time": "2023-08-21T20:22:31.408435",
     "status": "completed"
    },
    "tags": []
   },
   "outputs": [],
   "source": [
    "import torch.nn as nn"
   ]
  },
  {
   "cell_type": "code",
   "execution_count": 11,
   "id": "1768eaa3",
   "metadata": {
    "execution": {
     "iopub.execute_input": "2023-08-21T20:22:31.481140Z",
     "iopub.status.busy": "2023-08-21T20:22:31.480668Z",
     "iopub.status.idle": "2023-08-21T20:22:31.496495Z",
     "shell.execute_reply": "2023-08-21T20:22:31.495447Z"
    },
    "papermill": {
     "duration": 0.040202,
     "end_time": "2023-08-21T20:22:31.501443",
     "exception": false,
     "start_time": "2023-08-21T20:22:31.461241",
     "status": "completed"
    },
    "tags": []
   },
   "outputs": [],
   "source": [
    "class MyModel(nn.Module): # The parent class for the models is nn.Module \n",
    "    \n",
    "    def __init__(self, in_features, out_features): # constructor \n",
    "        \n",
    "        super().__init__() # the constructor of the upper class is first called\n",
    "\n",
    "        self.in_features = in_features\n",
    "        self.out_features = out_features\n",
    "\n",
    "        self.model = nn.Sequential( #  Sequential addition of layers -  multi-layer perceptron \n",
    "            nn.BatchNorm1d(in_features),\n",
    "            nn.Linear(in_features, 800),\n",
    "            nn.ReLU(),\n",
    "\n",
    "            nn.BatchNorm1d(800),            # nn.Dropout(0.1),\n",
    "            nn.Linear(800, 600),\n",
    "            nn.ReLU(),\n",
    "\n",
    "            nn.BatchNorm1d(600),            # nn.Dropout(0.1),\n",
    "            nn.Linear(600, 400),\n",
    "            nn.ReLU(),\n",
    "\n",
    "            nn.BatchNorm1d(400),\n",
    "            nn.Linear(400, out_features),\n",
    "            nn.Sigmoid()\n",
    "        )\n",
    "\n",
    "    def forward(self, x): # \n",
    "        return self.model(x)"
   ]
  },
  {
   "cell_type": "markdown",
   "id": "40589f8f",
   "metadata": {
    "papermill": {
     "duration": 0.02244,
     "end_time": "2023-08-21T20:22:31.548531",
     "exception": false,
     "start_time": "2023-08-21T20:22:31.526091",
     "status": "completed"
    },
    "tags": []
   },
   "source": [
    "Choose device, CPU or GPU"
   ]
  },
  {
   "cell_type": "code",
   "execution_count": 12,
   "id": "8e793564",
   "metadata": {
    "execution": {
     "iopub.execute_input": "2023-08-21T20:22:31.590834Z",
     "iopub.status.busy": "2023-08-21T20:22:31.589478Z",
     "iopub.status.idle": "2023-08-21T20:22:31.597248Z",
     "shell.execute_reply": "2023-08-21T20:22:31.595939Z"
    },
    "papermill": {
     "duration": 0.035369,
     "end_time": "2023-08-21T20:22:31.605129",
     "exception": false,
     "start_time": "2023-08-21T20:22:31.569760",
     "status": "completed"
    },
    "tags": []
   },
   "outputs": [
    {
     "name": "stdout",
     "output_type": "stream",
     "text": [
      "cpu\n"
     ]
    }
   ],
   "source": [
    "device = torch.device(\"cuda:0\" if torch.cuda.is_available() else \"cpu\")\n",
    "print(device)"
   ]
  },
  {
   "cell_type": "markdown",
   "id": "c69d6446",
   "metadata": {
    "papermill": {
     "duration": 0.019813,
     "end_time": "2023-08-21T20:22:31.649751",
     "exception": false,
     "start_time": "2023-08-21T20:22:31.629938",
     "status": "completed"
    },
    "tags": []
   },
   "source": [
    "Model to deice"
   ]
  },
  {
   "cell_type": "code",
   "execution_count": 13,
   "id": "714f0a26",
   "metadata": {
    "execution": {
     "iopub.execute_input": "2023-08-21T20:22:31.697331Z",
     "iopub.status.busy": "2023-08-21T20:22:31.696583Z",
     "iopub.status.idle": "2023-08-21T20:22:31.777436Z",
     "shell.execute_reply": "2023-08-21T20:22:31.776491Z"
    },
    "papermill": {
     "duration": 0.104503,
     "end_time": "2023-08-21T20:22:31.781288",
     "exception": false,
     "start_time": "2023-08-21T20:22:31.676785",
     "status": "completed"
    },
    "tags": []
   },
   "outputs": [
    {
     "data": {
      "text/plain": [
       "MyModel(\n",
       "  (model): Sequential(\n",
       "    (0): BatchNorm1d(2560, eps=1e-05, momentum=0.1, affine=True, track_running_stats=True)\n",
       "    (1): Linear(in_features=2560, out_features=800, bias=True)\n",
       "    (2): ReLU()\n",
       "    (3): BatchNorm1d(800, eps=1e-05, momentum=0.1, affine=True, track_running_stats=True)\n",
       "    (4): Linear(in_features=800, out_features=600, bias=True)\n",
       "    (5): ReLU()\n",
       "    (6): BatchNorm1d(600, eps=1e-05, momentum=0.1, affine=True, track_running_stats=True)\n",
       "    (7): Linear(in_features=600, out_features=400, bias=True)\n",
       "    (8): ReLU()\n",
       "    (9): BatchNorm1d(400, eps=1e-05, momentum=0.1, affine=True, track_running_stats=True)\n",
       "    (10): Linear(in_features=400, out_features=1499, bias=True)\n",
       "    (11): Sigmoid()\n",
       "  )\n",
       ")"
      ]
     },
     "execution_count": 13,
     "metadata": {},
     "output_type": "execute_result"
    }
   ],
   "source": [
    "model = MyModel(X.shape[1],Y.shape[1])\n",
    "model.to(device)"
   ]
  },
  {
   "cell_type": "code",
   "execution_count": 14,
   "id": "77a61cca",
   "metadata": {
    "execution": {
     "iopub.execute_input": "2023-08-21T20:22:31.824175Z",
     "iopub.status.busy": "2023-08-21T20:22:31.823731Z",
     "iopub.status.idle": "2023-08-21T20:22:31.831459Z",
     "shell.execute_reply": "2023-08-21T20:22:31.830200Z"
    },
    "papermill": {
     "duration": 0.032888,
     "end_time": "2023-08-21T20:22:31.835198",
     "exception": false,
     "start_time": "2023-08-21T20:22:31.802310",
     "status": "completed"
    },
    "tags": []
   },
   "outputs": [
    {
     "name": "stdout",
     "output_type": "stream",
     "text": [
      "<class 'NameError'>\n",
      "(\"name 'XX' is not defined\",)\n",
      "name 'XX' is not defined\n"
     ]
    }
   ],
   "source": [
    "try:\n",
    "    torchsummary(model, XX.size(), batch_size=-1, device= 'cuda')\n",
    "except    Exception as inst:\n",
    "    print(type(inst))    # the exception type\n",
    "    print(inst.args)     # arguments stored in .args\n",
    "    print(inst)          # __str__ allows args to be printed directly,\n",
    "                         # but may be overridden in exception subclasse"
   ]
  },
  {
   "cell_type": "markdown",
   "id": "901e6c8e",
   "metadata": {
    "papermill": {
     "duration": 0.016953,
     "end_time": "2023-08-21T20:22:31.869367",
     "exception": false,
     "start_time": "2023-08-21T20:22:31.852414",
     "status": "completed"
    },
    "tags": []
   },
   "source": [
    "Train test split"
   ]
  },
  {
   "cell_type": "code",
   "execution_count": 15,
   "id": "cc802d75",
   "metadata": {
    "execution": {
     "iopub.execute_input": "2023-08-21T20:22:31.907050Z",
     "iopub.status.busy": "2023-08-21T20:22:31.906605Z",
     "iopub.status.idle": "2023-08-21T20:22:31.929370Z",
     "shell.execute_reply": "2023-08-21T20:22:31.927464Z"
    },
    "papermill": {
     "duration": 0.044819,
     "end_time": "2023-08-21T20:22:31.932468",
     "exception": false,
     "start_time": "2023-08-21T20:22:31.887649",
     "status": "completed"
    },
    "tags": []
   },
   "outputs": [
    {
     "name": "stdout",
     "output_type": "stream",
     "text": [
      "(99572,) (42674,)\n",
      "CPU times: user 12.1 ms, sys: 1.53 ms, total: 13.6 ms\n",
      "Wall time: 13.6 ms\n"
     ]
    }
   ],
   "source": [
    "%%time \n",
    "from sklearn.model_selection import train_test_split\n",
    "\n",
    "IX_train,IX_val = train_test_split( np.arange(len(X)), train_size=0.7, random_state=42)\n",
    "print(IX_train.shape,IX_val.shape) "
   ]
  },
  {
   "cell_type": "markdown",
   "id": "7e4116e2",
   "metadata": {
    "papermill": {
     "duration": 0.018777,
     "end_time": "2023-08-21T20:22:31.969828",
     "exception": false,
     "start_time": "2023-08-21T20:22:31.951051",
     "status": "completed"
    },
    "tags": []
   },
   "source": [
    "Create X/Y_train, X/Y_val as pytorch tensors and send to device"
   ]
  },
  {
   "cell_type": "code",
   "execution_count": 16,
   "id": "3e150db2",
   "metadata": {
    "execution": {
     "iopub.execute_input": "2023-08-21T20:22:32.009711Z",
     "iopub.status.busy": "2023-08-21T20:22:32.008538Z",
     "iopub.status.idle": "2023-08-21T20:22:42.646823Z",
     "shell.execute_reply": "2023-08-21T20:22:42.645388Z"
    },
    "papermill": {
     "duration": 10.662879,
     "end_time": "2023-08-21T20:22:42.649842",
     "exception": false,
     "start_time": "2023-08-21T20:22:31.986963",
     "status": "completed"
    },
    "tags": []
   },
   "outputs": [
    {
     "name": "stdout",
     "output_type": "stream",
     "text": [
      "torch.Size([99572, 2560]) torch.Size([99572, 1499]) torch.Size([42674, 2560]) torch.Size([42674, 1499])\n",
      "CPU times: user 1.85 s, sys: 11.7 s, total: 13.5 s\n",
      "Wall time: 10.6 s\n"
     ]
    }
   ],
   "source": [
    "%%time\n",
    "X_train = torch.tensor(X[IX_train,:], dtype=torch.float32).to(device)\n",
    "Y_train = torch.tensor(Y[IX_train,:], dtype=torch.float32).to(device)\n",
    "\n",
    "X_val = torch.tensor(X[IX_val,:], dtype=torch.float32).to(device)\n",
    "Y_val = torch.tensor(Y[IX_val,:], dtype=torch.float32).to(device)\n",
    "\n",
    "print(X_train.shape, Y_train.shape,X_val.shape, Y_val.shape )"
   ]
  },
  {
   "cell_type": "markdown",
   "id": "a84dbbf4",
   "metadata": {
    "papermill": {
     "duration": 0.017157,
     "end_time": "2023-08-21T20:22:42.685103",
     "exception": false,
     "start_time": "2023-08-21T20:22:42.667946",
     "status": "completed"
    },
    "tags": []
   },
   "source": [
    "Wrap X,Y into \"TensorDataset\" and create \"DataLoader\""
   ]
  },
  {
   "cell_type": "markdown",
   "id": "0496bae8",
   "metadata": {
    "papermill": {
     "duration": 0.016898,
     "end_time": "2023-08-21T20:22:42.719347",
     "exception": false,
     "start_time": "2023-08-21T20:22:42.702449",
     "status": "completed"
    },
    "tags": []
   },
   "source": [
    "TensorDataset\" allows to unify several arrays to work with them as a whole. For example for pair X_train and Y_train we can create \"train_dataset\" which combines both.\n",
    "\n",
    "As a next step we create \"DataLoader\" object from \"train_dataset\" which automatically take care about batches - see the main training loop of the neural network"
   ]
  },
  {
   "cell_type": "code",
   "execution_count": 17,
   "id": "06e245c7",
   "metadata": {
    "execution": {
     "iopub.execute_input": "2023-08-21T20:22:42.755725Z",
     "iopub.status.busy": "2023-08-21T20:22:42.755286Z",
     "iopub.status.idle": "2023-08-21T20:22:42.760867Z",
     "shell.execute_reply": "2023-08-21T20:22:42.759590Z"
    },
    "papermill": {
     "duration": 0.027151,
     "end_time": "2023-08-21T20:22:42.763645",
     "exception": false,
     "start_time": "2023-08-21T20:22:42.736494",
     "status": "completed"
    },
    "tags": []
   },
   "outputs": [],
   "source": [
    "# BATCH_SIZE = 5120\n",
    "# EPOCHS = 50\n",
    "# LEARNING_RATE = 0.001\n",
    "# MOMENTUM = 0.9\n",
    "# OPT_FUNC = torch.optim.Adam"
   ]
  },
  {
   "cell_type": "code",
   "execution_count": 18,
   "id": "2bf580b9",
   "metadata": {
    "execution": {
     "iopub.execute_input": "2023-08-21T20:22:42.801173Z",
     "iopub.status.busy": "2023-08-21T20:22:42.799921Z",
     "iopub.status.idle": "2023-08-21T20:22:42.810049Z",
     "shell.execute_reply": "2023-08-21T20:22:42.808259Z"
    },
    "papermill": {
     "duration": 0.031405,
     "end_time": "2023-08-21T20:22:42.812618",
     "exception": false,
     "start_time": "2023-08-21T20:22:42.781213",
     "status": "completed"
    },
    "tags": []
   },
   "outputs": [
    {
     "name": "stdout",
     "output_type": "stream",
     "text": [
      "CPU times: user 1.02 ms, sys: 16 µs, total: 1.04 ms\n",
      "Wall time: 1.05 ms\n"
     ]
    }
   ],
   "source": [
    "%%time \n",
    "BATCH_SIZE = 256\n",
    "\n",
    "from torch.utils.data import DataLoader, TensorDataset\n",
    "train_dataset = TensorDataset(X_train, Y_train)\n",
    "train_dataloader = DataLoader(train_dataset, batch_size=BATCH_SIZE, shuffle=True)\n",
    "\n",
    "# val_dataset = TensorDataset(X_val, Y_val)\n",
    "# val_dataloader = DataLoader(val_dataset, batch_size=BATCH_SIZE, shuffle=True)"
   ]
  },
  {
   "cell_type": "markdown",
   "id": "fcc271c0",
   "metadata": {
    "papermill": {
     "duration": 0.017641,
     "end_time": "2023-08-21T20:22:42.847711",
     "exception": false,
     "start_time": "2023-08-21T20:22:42.830070",
     "status": "completed"
    },
    "tags": []
   },
   "source": [
    "**Training**"
   ]
  },
  {
   "cell_type": "markdown",
   "id": "300c7e1c",
   "metadata": {
    "papermill": {
     "duration": 0.017102,
     "end_time": "2023-08-21T20:22:42.882405",
     "exception": false,
     "start_time": "2023-08-21T20:22:42.865303",
     "status": "completed"
    },
    "tags": []
   },
   "source": [
    "Training Pytorch NNs is relatively simple. Training implements the gradient descent method. Each step updates the weights of the NN to minimize loss function. Pytorch essentially is a blackbox which automatically calculates gradients and user should not care about that part. We just only need to do several steps:"
   ]
  },
  {
   "cell_type": "markdown",
   "id": "af9a7b7f",
   "metadata": {
    "papermill": {
     "duration": 0.017498,
     "end_time": "2023-08-21T20:22:42.917229",
     "exception": false,
     "start_time": "2023-08-21T20:22:42.899731",
     "status": "completed"
    },
    "tags": []
   },
   "source": [
    "model.train() - turns model into the standard mode when gradients will be computed - it is opposite to \"model.eval()\"\n",
    "\n",
    "model.eval() - turns model into the mode when gradients are NOT computed - that is done when we for example want NOT to train model, but just look what we get and evaluate metrics. So when we turn off graidents computate we do not waster resources - speed and RAM on their computation.\n",
    "with torch.no_grad(): - similar "
   ]
  },
  {
   "cell_type": "markdown",
   "id": "b9ad0207",
   "metadata": {
    "papermill": {
     "duration": 0.017789,
     "end_time": "2023-08-21T20:22:42.953072",
     "exception": false,
     "start_time": "2023-08-21T20:22:42.935283",
     "status": "completed"
    },
    "tags": []
   },
   "source": [
    "1) We need to write loop over epochs, and the inner loop over batches. \n",
    "\n",
    "2) Technical step - optimizer.zero_grad() - set gradients to zero for each step \n",
    "\n",
    "3) Calcualte model predictions on each batch:   preds = model(x_batch) \n",
    "\n",
    "4) Calculate the for that batch:  loss = criterion(preds, y_batch) \n",
    "\n",
    "5) loss.backward() - calulation of the gradient (i.e. loss function with respect to weights of the neural network)\n",
    "\n",
    "6)  optimizer.step() - update the weights along the gradients"
   ]
  },
  {
   "cell_type": "code",
   "execution_count": 19,
   "id": "5514b76a",
   "metadata": {
    "execution": {
     "iopub.execute_input": "2023-08-21T20:22:42.990418Z",
     "iopub.status.busy": "2023-08-21T20:22:42.989904Z",
     "iopub.status.idle": "2023-08-21T20:22:42.997772Z",
     "shell.execute_reply": "2023-08-21T20:22:42.995904Z"
    },
    "papermill": {
     "duration": 0.03046,
     "end_time": "2023-08-21T20:22:43.001032",
     "exception": false,
     "start_time": "2023-08-21T20:22:42.970572",
     "status": "completed"
    },
    "tags": []
   },
   "outputs": [
    {
     "name": "stdout",
     "output_type": "stream",
     "text": [
      "Current datetime: 2023-08-21 20:22:42.992151\n"
     ]
    }
   ],
   "source": [
    "import datetime\n",
    "current_datetime = datetime.datetime.now()\n",
    "\n",
    "print(\"Current datetime:\", current_datetime)"
   ]
  },
  {
   "cell_type": "code",
   "execution_count": 20,
   "id": "8c116d90",
   "metadata": {
    "execution": {
     "iopub.execute_input": "2023-08-21T20:22:43.042383Z",
     "iopub.status.busy": "2023-08-21T20:22:43.041961Z",
     "iopub.status.idle": "2023-08-21T21:04:32.538293Z",
     "shell.execute_reply": "2023-08-21T21:04:32.536993Z"
    },
    "papermill": {
     "duration": 2509.520662,
     "end_time": "2023-08-21T21:04:32.542124",
     "exception": false,
     "start_time": "2023-08-21T20:22:43.021462",
     "status": "completed"
    },
    "tags": []
   },
   "outputs": [
    {
     "name": "stdout",
     "output_type": "stream",
     "text": [
      "X.shape, Y.shape (142246, 2560) (142246, 1499)\n",
      "\n",
      "\n",
      "MyModel(\n",
      "  (model): Sequential(\n",
      "    (0): BatchNorm1d(2560, eps=1e-05, momentum=0.1, affine=True, track_running_stats=True)\n",
      "    (1): Linear(in_features=2560, out_features=800, bias=True)\n",
      "    (2): ReLU()\n",
      "    (3): BatchNorm1d(800, eps=1e-05, momentum=0.1, affine=True, track_running_stats=True)\n",
      "    (4): Linear(in_features=800, out_features=600, bias=True)\n",
      "    (5): ReLU()\n",
      "    (6): BatchNorm1d(600, eps=1e-05, momentum=0.1, affine=True, track_running_stats=True)\n",
      "    (7): Linear(in_features=600, out_features=400, bias=True)\n",
      "    (8): ReLU()\n",
      "    (9): BatchNorm1d(400, eps=1e-05, momentum=0.1, affine=True, track_running_stats=True)\n",
      "    (10): Linear(in_features=400, out_features=1499, bias=True)\n",
      "    (11): Sigmoid()\n",
      "  )\n",
      ")\n",
      "\n",
      "Start training NN 2023-08-21 20:22:43.115501\n",
      "\n",
      "Epoch: 0, batch: 0,  train loss on batch:      0.73310 , time: 0.3 \n",
      "Epoch: 0, batch: 100,  train loss on batch:      0.09730 , time: 9.0 \n",
      "Epoch: 0, batch: 200,  train loss on batch:      0.06892 , time: 17.6 \n",
      "Epoch: 0, batch: 300,  train loss on batch:      0.06353 , time: 26.8 \n",
      "\n",
      "Epoch: 0 finished,  train loss:      0.06518 , time: 45.2 seconds \n",
      "Epoch: 0 finished,  VALidation loss:      0.06586 , time: 49.8 seconds \n",
      "\n"
     ]
    },
    {
     "data": {
      "text/html": [
       "<div>\n",
       "<style scoped>\n",
       "    .dataframe tbody tr th:only-of-type {\n",
       "        vertical-align: middle;\n",
       "    }\n",
       "\n",
       "    .dataframe tbody tr th {\n",
       "        vertical-align: top;\n",
       "    }\n",
       "\n",
       "    .dataframe thead th {\n",
       "        text-align: right;\n",
       "    }\n",
       "</style>\n",
       "<table border=\"1\" class=\"dataframe\">\n",
       "  <thead>\n",
       "    <tr style=\"text-align: right;\">\n",
       "      <th></th>\n",
       "      <th>epoch</th>\n",
       "      <th>BCE Val</th>\n",
       "      <th>BCE Train</th>\n",
       "      <th>F1|0.25 Val</th>\n",
       "      <th>F1|0.25 Train</th>\n",
       "      <th>AUC Val</th>\n",
       "      <th>AUC Train</th>\n",
       "      <th>F1|0.2 Val</th>\n",
       "      <th>F1|0.2 Train</th>\n",
       "      <th>F1|0.3 Val</th>\n",
       "      <th>F1|0.3 Train</th>\n",
       "      <th>Time epoch train</th>\n",
       "      <th>Time epoch full</th>\n",
       "    </tr>\n",
       "  </thead>\n",
       "  <tbody>\n",
       "    <tr>\n",
       "      <th>0</th>\n",
       "      <td>0.0</td>\n",
       "      <td>0.065862</td>\n",
       "      <td>0.065178</td>\n",
       "      <td>0.389319</td>\n",
       "      <td>0.395642</td>\n",
       "      <td>0.9135</td>\n",
       "      <td>0.916912</td>\n",
       "      <td>0.384939</td>\n",
       "      <td>0.391395</td>\n",
       "      <td>0.386073</td>\n",
       "      <td>0.392282</td>\n",
       "      <td>34.5</td>\n",
       "      <td>157.6</td>\n",
       "    </tr>\n",
       "  </tbody>\n",
       "</table>\n",
       "</div>"
      ],
      "text/plain": [
       "   epoch   BCE Val  BCE Train  F1|0.25 Val  F1|0.25 Train  AUC Val  AUC Train  \\\n",
       "0    0.0  0.065862   0.065178     0.389319       0.395642   0.9135   0.916912   \n",
       "\n",
       "   F1|0.2 Val  F1|0.2 Train  F1|0.3 Val  F1|0.3 Train  Time epoch train  \\\n",
       "0    0.384939      0.391395    0.386073      0.392282              34.5   \n",
       "\n",
       "   Time epoch full  \n",
       "0            157.6  "
      ]
     },
     "metadata": {},
     "output_type": "display_data"
    },
    {
     "name": "stdout",
     "output_type": "stream",
     "text": [
      "Epoch: 1, batch: 0,  train loss on batch:      0.06349 , time: 157.8 \n",
      "Epoch: 1, batch: 100,  train loss on batch:      0.06443 , time: 166.6 \n",
      "Epoch: 1, batch: 200,  train loss on batch:      0.06205 , time: 175.5 \n",
      "Epoch: 1, batch: 300,  train loss on batch:      0.06187 , time: 184.9 \n",
      "\n",
      "Epoch: 1 finished,  train loss:      0.06083 , time: 203.0 seconds \n",
      "Epoch: 1 finished,  VALidation loss:      0.06245 , time: 207.3 seconds \n",
      "\n"
     ]
    },
    {
     "data": {
      "text/html": [
       "<div>\n",
       "<style scoped>\n",
       "    .dataframe tbody tr th:only-of-type {\n",
       "        vertical-align: middle;\n",
       "    }\n",
       "\n",
       "    .dataframe tbody tr th {\n",
       "        vertical-align: top;\n",
       "    }\n",
       "\n",
       "    .dataframe thead th {\n",
       "        text-align: right;\n",
       "    }\n",
       "</style>\n",
       "<table border=\"1\" class=\"dataframe\">\n",
       "  <thead>\n",
       "    <tr style=\"text-align: right;\">\n",
       "      <th></th>\n",
       "      <th>epoch</th>\n",
       "      <th>BCE Val</th>\n",
       "      <th>BCE Train</th>\n",
       "      <th>F1|0.25 Val</th>\n",
       "      <th>F1|0.25 Train</th>\n",
       "      <th>AUC Val</th>\n",
       "      <th>AUC Train</th>\n",
       "      <th>F1|0.2 Val</th>\n",
       "      <th>F1|0.2 Train</th>\n",
       "      <th>F1|0.3 Val</th>\n",
       "      <th>F1|0.3 Train</th>\n",
       "      <th>Time epoch train</th>\n",
       "      <th>Time epoch full</th>\n",
       "    </tr>\n",
       "  </thead>\n",
       "  <tbody>\n",
       "    <tr>\n",
       "      <th>0</th>\n",
       "      <td>0.0</td>\n",
       "      <td>0.065862</td>\n",
       "      <td>0.065178</td>\n",
       "      <td>0.389319</td>\n",
       "      <td>0.395642</td>\n",
       "      <td>0.913500</td>\n",
       "      <td>0.916912</td>\n",
       "      <td>0.384939</td>\n",
       "      <td>0.391395</td>\n",
       "      <td>0.386073</td>\n",
       "      <td>0.392282</td>\n",
       "      <td>34.5</td>\n",
       "      <td>157.6</td>\n",
       "    </tr>\n",
       "    <tr>\n",
       "      <th>1</th>\n",
       "      <td>1.0</td>\n",
       "      <td>0.062449</td>\n",
       "      <td>0.060829</td>\n",
       "      <td>0.406703</td>\n",
       "      <td>0.417709</td>\n",
       "      <td>0.927507</td>\n",
       "      <td>0.933857</td>\n",
       "      <td>0.401825</td>\n",
       "      <td>0.412379</td>\n",
       "      <td>0.403212</td>\n",
       "      <td>0.414613</td>\n",
       "      <td>35.2</td>\n",
       "      <td>157.2</td>\n",
       "    </tr>\n",
       "  </tbody>\n",
       "</table>\n",
       "</div>"
      ],
      "text/plain": [
       "   epoch   BCE Val  BCE Train  F1|0.25 Val  F1|0.25 Train   AUC Val  \\\n",
       "0    0.0  0.065862   0.065178     0.389319       0.395642  0.913500   \n",
       "1    1.0  0.062449   0.060829     0.406703       0.417709  0.927507   \n",
       "\n",
       "   AUC Train  F1|0.2 Val  F1|0.2 Train  F1|0.3 Val  F1|0.3 Train  \\\n",
       "0   0.916912    0.384939      0.391395    0.386073      0.392282   \n",
       "1   0.933857    0.401825      0.412379    0.403212      0.414613   \n",
       "\n",
       "   Time epoch train  Time epoch full  \n",
       "0              34.5            157.6  \n",
       "1              35.2            157.2  "
      ]
     },
     "metadata": {},
     "output_type": "display_data"
    },
    {
     "name": "stdout",
     "output_type": "stream",
     "text": [
      "Epoch: 2, batch: 0,  train loss on batch:      0.05554 , time: 314.9 \n",
      "Epoch: 2, batch: 100,  train loss on batch:      0.05976 , time: 323.5 \n",
      "Epoch: 2, batch: 200,  train loss on batch:      0.05771 , time: 332.2 \n",
      "Epoch: 2, batch: 300,  train loss on batch:      0.06234 , time: 341.0 \n",
      "\n",
      "Epoch: 2 finished,  train loss:      0.05801 , time: 360.7 seconds \n",
      "Epoch: 2 finished,  VALidation loss:      0.06058 , time: 365.1 seconds \n",
      "\n"
     ]
    },
    {
     "data": {
      "text/html": [
       "<div>\n",
       "<style scoped>\n",
       "    .dataframe tbody tr th:only-of-type {\n",
       "        vertical-align: middle;\n",
       "    }\n",
       "\n",
       "    .dataframe tbody tr th {\n",
       "        vertical-align: top;\n",
       "    }\n",
       "\n",
       "    .dataframe thead th {\n",
       "        text-align: right;\n",
       "    }\n",
       "</style>\n",
       "<table border=\"1\" class=\"dataframe\">\n",
       "  <thead>\n",
       "    <tr style=\"text-align: right;\">\n",
       "      <th></th>\n",
       "      <th>epoch</th>\n",
       "      <th>BCE Val</th>\n",
       "      <th>BCE Train</th>\n",
       "      <th>F1|0.25 Val</th>\n",
       "      <th>F1|0.25 Train</th>\n",
       "      <th>AUC Val</th>\n",
       "      <th>AUC Train</th>\n",
       "      <th>F1|0.2 Val</th>\n",
       "      <th>F1|0.2 Train</th>\n",
       "      <th>F1|0.3 Val</th>\n",
       "      <th>F1|0.3 Train</th>\n",
       "      <th>Time epoch train</th>\n",
       "      <th>Time epoch full</th>\n",
       "    </tr>\n",
       "  </thead>\n",
       "  <tbody>\n",
       "    <tr>\n",
       "      <th>1</th>\n",
       "      <td>1.0</td>\n",
       "      <td>0.062449</td>\n",
       "      <td>0.060829</td>\n",
       "      <td>0.406703</td>\n",
       "      <td>0.417709</td>\n",
       "      <td>0.927507</td>\n",
       "      <td>0.933857</td>\n",
       "      <td>0.401825</td>\n",
       "      <td>0.412379</td>\n",
       "      <td>0.403212</td>\n",
       "      <td>0.414613</td>\n",
       "      <td>35.2</td>\n",
       "      <td>157.2</td>\n",
       "    </tr>\n",
       "    <tr>\n",
       "      <th>2</th>\n",
       "      <td>2.0</td>\n",
       "      <td>0.060578</td>\n",
       "      <td>0.058006</td>\n",
       "      <td>0.419196</td>\n",
       "      <td>0.437591</td>\n",
       "      <td>0.934596</td>\n",
       "      <td>0.943161</td>\n",
       "      <td>0.414112</td>\n",
       "      <td>0.431462</td>\n",
       "      <td>0.416361</td>\n",
       "      <td>0.435179</td>\n",
       "      <td>33.9</td>\n",
       "      <td>158.9</td>\n",
       "    </tr>\n",
       "  </tbody>\n",
       "</table>\n",
       "</div>"
      ],
      "text/plain": [
       "   epoch   BCE Val  BCE Train  F1|0.25 Val  F1|0.25 Train   AUC Val  \\\n",
       "1    1.0  0.062449   0.060829     0.406703       0.417709  0.927507   \n",
       "2    2.0  0.060578   0.058006     0.419196       0.437591  0.934596   \n",
       "\n",
       "   AUC Train  F1|0.2 Val  F1|0.2 Train  F1|0.3 Val  F1|0.3 Train  \\\n",
       "1   0.933857    0.401825      0.412379    0.403212      0.414613   \n",
       "2   0.943161    0.414112      0.431462    0.416361      0.435179   \n",
       "\n",
       "   Time epoch train  Time epoch full  \n",
       "1              35.2            157.2  \n",
       "2              33.9            158.9  "
      ]
     },
     "metadata": {},
     "output_type": "display_data"
    },
    {
     "name": "stdout",
     "output_type": "stream",
     "text": [
      "Epoch: 3, batch: 0,  train loss on batch:      0.05345 , time: 473.9 \n",
      "Epoch: 3, batch: 100,  train loss on batch:      0.06609 , time: 482.8 \n",
      "Epoch: 3, batch: 200,  train loss on batch:      0.06210 , time: 492.0 \n",
      "Epoch: 3, batch: 300,  train loss on batch:      0.05583 , time: 502.6 \n",
      "\n",
      "Epoch: 3 finished,  train loss:      0.05592 , time: 520.4 seconds \n",
      "Epoch: 3 finished,  VALidation loss:      0.05966 , time: 524.9 seconds \n",
      "\n"
     ]
    },
    {
     "data": {
      "text/html": [
       "<div>\n",
       "<style scoped>\n",
       "    .dataframe tbody tr th:only-of-type {\n",
       "        vertical-align: middle;\n",
       "    }\n",
       "\n",
       "    .dataframe tbody tr th {\n",
       "        vertical-align: top;\n",
       "    }\n",
       "\n",
       "    .dataframe thead th {\n",
       "        text-align: right;\n",
       "    }\n",
       "</style>\n",
       "<table border=\"1\" class=\"dataframe\">\n",
       "  <thead>\n",
       "    <tr style=\"text-align: right;\">\n",
       "      <th></th>\n",
       "      <th>epoch</th>\n",
       "      <th>BCE Val</th>\n",
       "      <th>BCE Train</th>\n",
       "      <th>F1|0.25 Val</th>\n",
       "      <th>F1|0.25 Train</th>\n",
       "      <th>AUC Val</th>\n",
       "      <th>AUC Train</th>\n",
       "      <th>F1|0.2 Val</th>\n",
       "      <th>F1|0.2 Train</th>\n",
       "      <th>F1|0.3 Val</th>\n",
       "      <th>F1|0.3 Train</th>\n",
       "      <th>Time epoch train</th>\n",
       "      <th>Time epoch full</th>\n",
       "    </tr>\n",
       "  </thead>\n",
       "  <tbody>\n",
       "    <tr>\n",
       "      <th>2</th>\n",
       "      <td>2.0</td>\n",
       "      <td>0.060578</td>\n",
       "      <td>0.058006</td>\n",
       "      <td>0.419196</td>\n",
       "      <td>0.437591</td>\n",
       "      <td>0.934596</td>\n",
       "      <td>0.943161</td>\n",
       "      <td>0.414112</td>\n",
       "      <td>0.431462</td>\n",
       "      <td>0.416361</td>\n",
       "      <td>0.435179</td>\n",
       "      <td>33.9</td>\n",
       "      <td>158.9</td>\n",
       "    </tr>\n",
       "    <tr>\n",
       "      <th>3</th>\n",
       "      <td>3.0</td>\n",
       "      <td>0.059663</td>\n",
       "      <td>0.055919</td>\n",
       "      <td>0.428516</td>\n",
       "      <td>0.454726</td>\n",
       "      <td>0.937315</td>\n",
       "      <td>0.948768</td>\n",
       "      <td>0.423141</td>\n",
       "      <td>0.448116</td>\n",
       "      <td>0.426220</td>\n",
       "      <td>0.452454</td>\n",
       "      <td>36.5</td>\n",
       "      <td>183.6</td>\n",
       "    </tr>\n",
       "  </tbody>\n",
       "</table>\n",
       "</div>"
      ],
      "text/plain": [
       "   epoch   BCE Val  BCE Train  F1|0.25 Val  F1|0.25 Train   AUC Val  \\\n",
       "2    2.0  0.060578   0.058006     0.419196       0.437591  0.934596   \n",
       "3    3.0  0.059663   0.055919     0.428516       0.454726  0.937315   \n",
       "\n",
       "   AUC Train  F1|0.2 Val  F1|0.2 Train  F1|0.3 Val  F1|0.3 Train  \\\n",
       "2   0.943161    0.414112      0.431462    0.416361      0.435179   \n",
       "3   0.948768    0.423141      0.448116    0.426220      0.452454   \n",
       "\n",
       "   Time epoch train  Time epoch full  \n",
       "2              33.9            158.9  \n",
       "3              36.5            183.6  "
      ]
     },
     "metadata": {},
     "output_type": "display_data"
    },
    {
     "name": "stdout",
     "output_type": "stream",
     "text": [
      "Epoch: 4, batch: 0,  train loss on batch:      0.05300 , time: 657.5 \n",
      "Epoch: 4, batch: 100,  train loss on batch:      0.05257 , time: 666.0 \n",
      "Epoch: 4, batch: 200,  train loss on batch:      0.05556 , time: 674.5 \n",
      "Epoch: 4, batch: 300,  train loss on batch:      0.05705 , time: 682.9 \n",
      "\n",
      "Epoch: 4 finished,  train loss:      0.05395 , time: 701.1 seconds \n",
      "Epoch: 4 finished,  VALidation loss:      0.05909 , time: 705.5 seconds \n",
      "\n"
     ]
    },
    {
     "data": {
      "text/html": [
       "<div>\n",
       "<style scoped>\n",
       "    .dataframe tbody tr th:only-of-type {\n",
       "        vertical-align: middle;\n",
       "    }\n",
       "\n",
       "    .dataframe tbody tr th {\n",
       "        vertical-align: top;\n",
       "    }\n",
       "\n",
       "    .dataframe thead th {\n",
       "        text-align: right;\n",
       "    }\n",
       "</style>\n",
       "<table border=\"1\" class=\"dataframe\">\n",
       "  <thead>\n",
       "    <tr style=\"text-align: right;\">\n",
       "      <th></th>\n",
       "      <th>epoch</th>\n",
       "      <th>BCE Val</th>\n",
       "      <th>BCE Train</th>\n",
       "      <th>F1|0.25 Val</th>\n",
       "      <th>F1|0.25 Train</th>\n",
       "      <th>AUC Val</th>\n",
       "      <th>AUC Train</th>\n",
       "      <th>F1|0.2 Val</th>\n",
       "      <th>F1|0.2 Train</th>\n",
       "      <th>F1|0.3 Val</th>\n",
       "      <th>F1|0.3 Train</th>\n",
       "      <th>Time epoch train</th>\n",
       "      <th>Time epoch full</th>\n",
       "    </tr>\n",
       "  </thead>\n",
       "  <tbody>\n",
       "    <tr>\n",
       "      <th>3</th>\n",
       "      <td>3.0</td>\n",
       "      <td>0.059663</td>\n",
       "      <td>0.055919</td>\n",
       "      <td>0.428516</td>\n",
       "      <td>0.454726</td>\n",
       "      <td>0.937315</td>\n",
       "      <td>0.948768</td>\n",
       "      <td>0.423141</td>\n",
       "      <td>0.448116</td>\n",
       "      <td>0.426220</td>\n",
       "      <td>0.452454</td>\n",
       "      <td>36.5</td>\n",
       "      <td>183.6</td>\n",
       "    </tr>\n",
       "    <tr>\n",
       "      <th>4</th>\n",
       "      <td>4.0</td>\n",
       "      <td>0.059094</td>\n",
       "      <td>0.053954</td>\n",
       "      <td>0.434275</td>\n",
       "      <td>0.469195</td>\n",
       "      <td>0.939113</td>\n",
       "      <td>0.953837</td>\n",
       "      <td>0.427415</td>\n",
       "      <td>0.460397</td>\n",
       "      <td>0.433433</td>\n",
       "      <td>0.468961</td>\n",
       "      <td>33.5</td>\n",
       "      <td>158.9</td>\n",
       "    </tr>\n",
       "  </tbody>\n",
       "</table>\n",
       "</div>"
      ],
      "text/plain": [
       "   epoch   BCE Val  BCE Train  F1|0.25 Val  F1|0.25 Train   AUC Val  \\\n",
       "3    3.0  0.059663   0.055919     0.428516       0.454726  0.937315   \n",
       "4    4.0  0.059094   0.053954     0.434275       0.469195  0.939113   \n",
       "\n",
       "   AUC Train  F1|0.2 Val  F1|0.2 Train  F1|0.3 Val  F1|0.3 Train  \\\n",
       "3   0.948768    0.423141      0.448116    0.426220      0.452454   \n",
       "4   0.953837    0.427415      0.460397    0.433433      0.468961   \n",
       "\n",
       "   Time epoch train  Time epoch full  \n",
       "3              36.5            183.6  \n",
       "4              33.5            158.9  "
      ]
     },
     "metadata": {},
     "output_type": "display_data"
    },
    {
     "name": "stdout",
     "output_type": "stream",
     "text": [
      "Epoch: 5, batch: 0,  train loss on batch:      0.05200 , time: 816.4 \n",
      "Epoch: 5, batch: 100,  train loss on batch:      0.05008 , time: 825.1 \n",
      "Epoch: 5, batch: 200,  train loss on batch:      0.05527 , time: 833.8 \n",
      "Epoch: 5, batch: 300,  train loss on batch:      0.05141 , time: 842.5 \n",
      "\n",
      "Epoch: 5 finished,  train loss:      0.05190 , time: 861.0 seconds \n",
      "Epoch: 5 finished,  VALidation loss:      0.05848 , time: 865.5 seconds \n",
      "\n"
     ]
    },
    {
     "data": {
      "text/html": [
       "<div>\n",
       "<style scoped>\n",
       "    .dataframe tbody tr th:only-of-type {\n",
       "        vertical-align: middle;\n",
       "    }\n",
       "\n",
       "    .dataframe tbody tr th {\n",
       "        vertical-align: top;\n",
       "    }\n",
       "\n",
       "    .dataframe thead th {\n",
       "        text-align: right;\n",
       "    }\n",
       "</style>\n",
       "<table border=\"1\" class=\"dataframe\">\n",
       "  <thead>\n",
       "    <tr style=\"text-align: right;\">\n",
       "      <th></th>\n",
       "      <th>epoch</th>\n",
       "      <th>BCE Val</th>\n",
       "      <th>BCE Train</th>\n",
       "      <th>F1|0.25 Val</th>\n",
       "      <th>F1|0.25 Train</th>\n",
       "      <th>AUC Val</th>\n",
       "      <th>AUC Train</th>\n",
       "      <th>F1|0.2 Val</th>\n",
       "      <th>F1|0.2 Train</th>\n",
       "      <th>F1|0.3 Val</th>\n",
       "      <th>F1|0.3 Train</th>\n",
       "      <th>Time epoch train</th>\n",
       "      <th>Time epoch full</th>\n",
       "    </tr>\n",
       "  </thead>\n",
       "  <tbody>\n",
       "    <tr>\n",
       "      <th>4</th>\n",
       "      <td>4.0</td>\n",
       "      <td>0.059094</td>\n",
       "      <td>0.053954</td>\n",
       "      <td>0.434275</td>\n",
       "      <td>0.469195</td>\n",
       "      <td>0.939113</td>\n",
       "      <td>0.953837</td>\n",
       "      <td>0.427415</td>\n",
       "      <td>0.460397</td>\n",
       "      <td>0.433433</td>\n",
       "      <td>0.468961</td>\n",
       "      <td>33.5</td>\n",
       "      <td>158.9</td>\n",
       "    </tr>\n",
       "    <tr>\n",
       "      <th>5</th>\n",
       "      <td>5.0</td>\n",
       "      <td>0.058485</td>\n",
       "      <td>0.051904</td>\n",
       "      <td>0.438475</td>\n",
       "      <td>0.484669</td>\n",
       "      <td>0.941083</td>\n",
       "      <td>0.958655</td>\n",
       "      <td>0.431081</td>\n",
       "      <td>0.474632</td>\n",
       "      <td>0.438565</td>\n",
       "      <td>0.485604</td>\n",
       "      <td>34.5</td>\n",
       "      <td>158.4</td>\n",
       "    </tr>\n",
       "  </tbody>\n",
       "</table>\n",
       "</div>"
      ],
      "text/plain": [
       "   epoch   BCE Val  BCE Train  F1|0.25 Val  F1|0.25 Train   AUC Val  \\\n",
       "4    4.0  0.059094   0.053954     0.434275       0.469195  0.939113   \n",
       "5    5.0  0.058485   0.051904     0.438475       0.484669  0.941083   \n",
       "\n",
       "   AUC Train  F1|0.2 Val  F1|0.2 Train  F1|0.3 Val  F1|0.3 Train  \\\n",
       "4   0.953837    0.427415      0.460397    0.433433      0.468961   \n",
       "5   0.958655    0.431081      0.474632    0.438565      0.485604   \n",
       "\n",
       "   Time epoch train  Time epoch full  \n",
       "4              33.5            158.9  \n",
       "5              34.5            158.4  "
      ]
     },
     "metadata": {},
     "output_type": "display_data"
    },
    {
     "name": "stdout",
     "output_type": "stream",
     "text": [
      "Epoch: 6, batch: 0,  train loss on batch:      0.05109 , time: 974.9 \n",
      "Epoch: 6, batch: 100,  train loss on batch:      0.05236 , time: 984.0 \n",
      "Epoch: 6, batch: 200,  train loss on batch:      0.05325 , time: 993.0 \n",
      "Epoch: 6, batch: 300,  train loss on batch:      0.05099 , time: 1002.0 \n",
      "\n",
      "Epoch: 6 finished,  train loss:      0.05016 , time: 1020.8 seconds \n",
      "Epoch: 6 finished,  VALidation loss:      0.05806 , time: 1025.3 seconds \n",
      "\n"
     ]
    },
    {
     "data": {
      "text/html": [
       "<div>\n",
       "<style scoped>\n",
       "    .dataframe tbody tr th:only-of-type {\n",
       "        vertical-align: middle;\n",
       "    }\n",
       "\n",
       "    .dataframe tbody tr th {\n",
       "        vertical-align: top;\n",
       "    }\n",
       "\n",
       "    .dataframe thead th {\n",
       "        text-align: right;\n",
       "    }\n",
       "</style>\n",
       "<table border=\"1\" class=\"dataframe\">\n",
       "  <thead>\n",
       "    <tr style=\"text-align: right;\">\n",
       "      <th></th>\n",
       "      <th>epoch</th>\n",
       "      <th>BCE Val</th>\n",
       "      <th>BCE Train</th>\n",
       "      <th>F1|0.25 Val</th>\n",
       "      <th>F1|0.25 Train</th>\n",
       "      <th>AUC Val</th>\n",
       "      <th>AUC Train</th>\n",
       "      <th>F1|0.2 Val</th>\n",
       "      <th>F1|0.2 Train</th>\n",
       "      <th>F1|0.3 Val</th>\n",
       "      <th>F1|0.3 Train</th>\n",
       "      <th>Time epoch train</th>\n",
       "      <th>Time epoch full</th>\n",
       "    </tr>\n",
       "  </thead>\n",
       "  <tbody>\n",
       "    <tr>\n",
       "      <th>5</th>\n",
       "      <td>5.0</td>\n",
       "      <td>0.058485</td>\n",
       "      <td>0.051904</td>\n",
       "      <td>0.438475</td>\n",
       "      <td>0.484669</td>\n",
       "      <td>0.941083</td>\n",
       "      <td>0.958655</td>\n",
       "      <td>0.431081</td>\n",
       "      <td>0.474632</td>\n",
       "      <td>0.438565</td>\n",
       "      <td>0.485604</td>\n",
       "      <td>34.5</td>\n",
       "      <td>158.4</td>\n",
       "    </tr>\n",
       "    <tr>\n",
       "      <th>6</th>\n",
       "      <td>6.0</td>\n",
       "      <td>0.058059</td>\n",
       "      <td>0.050155</td>\n",
       "      <td>0.444387</td>\n",
       "      <td>0.500533</td>\n",
       "      <td>0.942157</td>\n",
       "      <td>0.962361</td>\n",
       "      <td>0.437684</td>\n",
       "      <td>0.491042</td>\n",
       "      <td>0.443563</td>\n",
       "      <td>0.501399</td>\n",
       "      <td>35.9</td>\n",
       "      <td>160.5</td>\n",
       "    </tr>\n",
       "  </tbody>\n",
       "</table>\n",
       "</div>"
      ],
      "text/plain": [
       "   epoch   BCE Val  BCE Train  F1|0.25 Val  F1|0.25 Train   AUC Val  \\\n",
       "5    5.0  0.058485   0.051904     0.438475       0.484669  0.941083   \n",
       "6    6.0  0.058059   0.050155     0.444387       0.500533  0.942157   \n",
       "\n",
       "   AUC Train  F1|0.2 Val  F1|0.2 Train  F1|0.3 Val  F1|0.3 Train  \\\n",
       "5   0.958655    0.431081      0.474632    0.438565      0.485604   \n",
       "6   0.962361    0.437684      0.491042    0.443563      0.501399   \n",
       "\n",
       "   Time epoch train  Time epoch full  \n",
       "5              34.5            158.4  \n",
       "6              35.9            160.5  "
      ]
     },
     "metadata": {},
     "output_type": "display_data"
    },
    {
     "name": "stdout",
     "output_type": "stream",
     "text": [
      "Epoch: 7, batch: 0,  train loss on batch:      0.05117 , time: 1135.4 \n",
      "Epoch: 7, batch: 100,  train loss on batch:      0.05151 , time: 1144.6 \n",
      "Epoch: 7, batch: 200,  train loss on batch:      0.05395 , time: 1153.8 \n",
      "Epoch: 7, batch: 300,  train loss on batch:      0.05687 , time: 1163.1 \n",
      "\n",
      "Epoch: 7 finished,  train loss:      0.04866 , time: 1181.6 seconds \n",
      "Epoch: 7 finished,  VALidation loss:      0.05832 , time: 1186.0 seconds \n",
      "\n"
     ]
    },
    {
     "data": {
      "text/html": [
       "<div>\n",
       "<style scoped>\n",
       "    .dataframe tbody tr th:only-of-type {\n",
       "        vertical-align: middle;\n",
       "    }\n",
       "\n",
       "    .dataframe tbody tr th {\n",
       "        vertical-align: top;\n",
       "    }\n",
       "\n",
       "    .dataframe thead th {\n",
       "        text-align: right;\n",
       "    }\n",
       "</style>\n",
       "<table border=\"1\" class=\"dataframe\">\n",
       "  <thead>\n",
       "    <tr style=\"text-align: right;\">\n",
       "      <th></th>\n",
       "      <th>epoch</th>\n",
       "      <th>BCE Val</th>\n",
       "      <th>BCE Train</th>\n",
       "      <th>F1|0.25 Val</th>\n",
       "      <th>F1|0.25 Train</th>\n",
       "      <th>AUC Val</th>\n",
       "      <th>AUC Train</th>\n",
       "      <th>F1|0.2 Val</th>\n",
       "      <th>F1|0.2 Train</th>\n",
       "      <th>F1|0.3 Val</th>\n",
       "      <th>F1|0.3 Train</th>\n",
       "      <th>Time epoch train</th>\n",
       "      <th>Time epoch full</th>\n",
       "    </tr>\n",
       "  </thead>\n",
       "  <tbody>\n",
       "    <tr>\n",
       "      <th>6</th>\n",
       "      <td>6.0</td>\n",
       "      <td>0.058059</td>\n",
       "      <td>0.050155</td>\n",
       "      <td>0.444387</td>\n",
       "      <td>0.500533</td>\n",
       "      <td>0.942157</td>\n",
       "      <td>0.962361</td>\n",
       "      <td>0.437684</td>\n",
       "      <td>0.491042</td>\n",
       "      <td>0.443563</td>\n",
       "      <td>0.501399</td>\n",
       "      <td>35.9</td>\n",
       "      <td>160.5</td>\n",
       "    </tr>\n",
       "    <tr>\n",
       "      <th>7</th>\n",
       "      <td>7.0</td>\n",
       "      <td>0.058321</td>\n",
       "      <td>0.048663</td>\n",
       "      <td>0.445216</td>\n",
       "      <td>0.512078</td>\n",
       "      <td>0.942351</td>\n",
       "      <td>0.965434</td>\n",
       "      <td>0.439816</td>\n",
       "      <td>0.503549</td>\n",
       "      <td>0.443409</td>\n",
       "      <td>0.512002</td>\n",
       "      <td>36.2</td>\n",
       "      <td>168.4</td>\n",
       "    </tr>\n",
       "  </tbody>\n",
       "</table>\n",
       "</div>"
      ],
      "text/plain": [
       "   epoch   BCE Val  BCE Train  F1|0.25 Val  F1|0.25 Train   AUC Val  \\\n",
       "6    6.0  0.058059   0.050155     0.444387       0.500533  0.942157   \n",
       "7    7.0  0.058321   0.048663     0.445216       0.512078  0.942351   \n",
       "\n",
       "   AUC Train  F1|0.2 Val  F1|0.2 Train  F1|0.3 Val  F1|0.3 Train  \\\n",
       "6   0.962361    0.437684      0.491042    0.443563      0.501399   \n",
       "7   0.965434    0.439816      0.503549    0.443409      0.512002   \n",
       "\n",
       "   Time epoch train  Time epoch full  \n",
       "6              35.9            160.5  \n",
       "7              36.2            168.4  "
      ]
     },
     "metadata": {},
     "output_type": "display_data"
    },
    {
     "name": "stdout",
     "output_type": "stream",
     "text": [
      "Epoch: 8, batch: 0,  train loss on batch:      0.04805 , time: 1303.8 \n",
      "Epoch: 8, batch: 100,  train loss on batch:      0.04849 , time: 1313.0 \n",
      "Epoch: 8, batch: 200,  train loss on batch:      0.05257 , time: 1322.5 \n",
      "Epoch: 8, batch: 300,  train loss on batch:      0.04785 , time: 1331.6 \n",
      "\n",
      "Epoch: 8 finished,  train loss:      0.04699 , time: 1350.0 seconds \n",
      "Epoch: 8 finished,  VALidation loss:      0.05826 , time: 1355.0 seconds \n",
      "\n"
     ]
    },
    {
     "data": {
      "text/html": [
       "<div>\n",
       "<style scoped>\n",
       "    .dataframe tbody tr th:only-of-type {\n",
       "        vertical-align: middle;\n",
       "    }\n",
       "\n",
       "    .dataframe tbody tr th {\n",
       "        vertical-align: top;\n",
       "    }\n",
       "\n",
       "    .dataframe thead th {\n",
       "        text-align: right;\n",
       "    }\n",
       "</style>\n",
       "<table border=\"1\" class=\"dataframe\">\n",
       "  <thead>\n",
       "    <tr style=\"text-align: right;\">\n",
       "      <th></th>\n",
       "      <th>epoch</th>\n",
       "      <th>BCE Val</th>\n",
       "      <th>BCE Train</th>\n",
       "      <th>F1|0.25 Val</th>\n",
       "      <th>F1|0.25 Train</th>\n",
       "      <th>AUC Val</th>\n",
       "      <th>AUC Train</th>\n",
       "      <th>F1|0.2 Val</th>\n",
       "      <th>F1|0.2 Train</th>\n",
       "      <th>F1|0.3 Val</th>\n",
       "      <th>F1|0.3 Train</th>\n",
       "      <th>Time epoch train</th>\n",
       "      <th>Time epoch full</th>\n",
       "    </tr>\n",
       "  </thead>\n",
       "  <tbody>\n",
       "    <tr>\n",
       "      <th>7</th>\n",
       "      <td>7.0</td>\n",
       "      <td>0.058321</td>\n",
       "      <td>0.048663</td>\n",
       "      <td>0.445216</td>\n",
       "      <td>0.512078</td>\n",
       "      <td>0.942351</td>\n",
       "      <td>0.965434</td>\n",
       "      <td>0.439816</td>\n",
       "      <td>0.503549</td>\n",
       "      <td>0.443409</td>\n",
       "      <td>0.512002</td>\n",
       "      <td>36.2</td>\n",
       "      <td>168.4</td>\n",
       "    </tr>\n",
       "    <tr>\n",
       "      <th>8</th>\n",
       "      <td>8.0</td>\n",
       "      <td>0.058258</td>\n",
       "      <td>0.046995</td>\n",
       "      <td>0.446660</td>\n",
       "      <td>0.524101</td>\n",
       "      <td>0.942783</td>\n",
       "      <td>0.968434</td>\n",
       "      <td>0.440690</td>\n",
       "      <td>0.513045</td>\n",
       "      <td>0.445848</td>\n",
       "      <td>0.526098</td>\n",
       "      <td>36.1</td>\n",
       "      <td>163.4</td>\n",
       "    </tr>\n",
       "  </tbody>\n",
       "</table>\n",
       "</div>"
      ],
      "text/plain": [
       "   epoch   BCE Val  BCE Train  F1|0.25 Val  F1|0.25 Train   AUC Val  \\\n",
       "7    7.0  0.058321   0.048663     0.445216       0.512078  0.942351   \n",
       "8    8.0  0.058258   0.046995     0.446660       0.524101  0.942783   \n",
       "\n",
       "   AUC Train  F1|0.2 Val  F1|0.2 Train  F1|0.3 Val  F1|0.3 Train  \\\n",
       "7   0.965434    0.439816      0.503549    0.443409      0.512002   \n",
       "8   0.968434    0.440690      0.513045    0.445848      0.526098   \n",
       "\n",
       "   Time epoch train  Time epoch full  \n",
       "7              36.2            168.4  \n",
       "8              36.1            163.4  "
      ]
     },
     "metadata": {},
     "output_type": "display_data"
    },
    {
     "name": "stdout",
     "output_type": "stream",
     "text": [
      "Epoch: 9, batch: 0,  train loss on batch:      0.04762 , time: 1467.2 \n",
      "Epoch: 9, batch: 100,  train loss on batch:      0.04974 , time: 1477.2 \n",
      "Epoch: 9, batch: 200,  train loss on batch:      0.05435 , time: 1487.6 \n",
      "Epoch: 9, batch: 300,  train loss on batch:      0.04509 , time: 1497.3 \n",
      "\n",
      "Epoch: 9 finished,  train loss:      0.04563 , time: 1516.8 seconds \n",
      "Epoch: 9 finished,  VALidation loss:      0.05855 , time: 1521.2 seconds \n",
      "\n"
     ]
    },
    {
     "data": {
      "text/html": [
       "<div>\n",
       "<style scoped>\n",
       "    .dataframe tbody tr th:only-of-type {\n",
       "        vertical-align: middle;\n",
       "    }\n",
       "\n",
       "    .dataframe tbody tr th {\n",
       "        vertical-align: top;\n",
       "    }\n",
       "\n",
       "    .dataframe thead th {\n",
       "        text-align: right;\n",
       "    }\n",
       "</style>\n",
       "<table border=\"1\" class=\"dataframe\">\n",
       "  <thead>\n",
       "    <tr style=\"text-align: right;\">\n",
       "      <th></th>\n",
       "      <th>epoch</th>\n",
       "      <th>BCE Val</th>\n",
       "      <th>BCE Train</th>\n",
       "      <th>F1|0.25 Val</th>\n",
       "      <th>F1|0.25 Train</th>\n",
       "      <th>AUC Val</th>\n",
       "      <th>AUC Train</th>\n",
       "      <th>F1|0.2 Val</th>\n",
       "      <th>F1|0.2 Train</th>\n",
       "      <th>F1|0.3 Val</th>\n",
       "      <th>F1|0.3 Train</th>\n",
       "      <th>Time epoch train</th>\n",
       "      <th>Time epoch full</th>\n",
       "    </tr>\n",
       "  </thead>\n",
       "  <tbody>\n",
       "    <tr>\n",
       "      <th>8</th>\n",
       "      <td>8.0</td>\n",
       "      <td>0.058258</td>\n",
       "      <td>0.046995</td>\n",
       "      <td>0.446660</td>\n",
       "      <td>0.524101</td>\n",
       "      <td>0.942783</td>\n",
       "      <td>0.968434</td>\n",
       "      <td>0.440690</td>\n",
       "      <td>0.513045</td>\n",
       "      <td>0.445848</td>\n",
       "      <td>0.526098</td>\n",
       "      <td>36.1</td>\n",
       "      <td>163.4</td>\n",
       "    </tr>\n",
       "    <tr>\n",
       "      <th>9</th>\n",
       "      <td>9.0</td>\n",
       "      <td>0.058553</td>\n",
       "      <td>0.045627</td>\n",
       "      <td>0.449682</td>\n",
       "      <td>0.537833</td>\n",
       "      <td>0.941943</td>\n",
       "      <td>0.970592</td>\n",
       "      <td>0.443093</td>\n",
       "      <td>0.525967</td>\n",
       "      <td>0.449770</td>\n",
       "      <td>0.540629</td>\n",
       "      <td>38.9</td>\n",
       "      <td>166.8</td>\n",
       "    </tr>\n",
       "  </tbody>\n",
       "</table>\n",
       "</div>"
      ],
      "text/plain": [
       "   epoch   BCE Val  BCE Train  F1|0.25 Val  F1|0.25 Train   AUC Val  \\\n",
       "8    8.0  0.058258   0.046995     0.446660       0.524101  0.942783   \n",
       "9    9.0  0.058553   0.045627     0.449682       0.537833  0.941943   \n",
       "\n",
       "   AUC Train  F1|0.2 Val  F1|0.2 Train  F1|0.3 Val  F1|0.3 Train  \\\n",
       "8   0.968434    0.440690      0.513045    0.445848      0.526098   \n",
       "9   0.970592    0.443093      0.525967    0.449770      0.540629   \n",
       "\n",
       "   Time epoch train  Time epoch full  \n",
       "8              36.1            163.4  \n",
       "9              38.9            166.8  "
      ]
     },
     "metadata": {},
     "output_type": "display_data"
    },
    {
     "name": "stdout",
     "output_type": "stream",
     "text": [
      "Epoch: 10, batch: 0,  train loss on batch:      0.04203 , time: 1633.9 \n",
      "Epoch: 10, batch: 100,  train loss on batch:      0.04666 , time: 1645.0 \n",
      "Epoch: 10, batch: 200,  train loss on batch:      0.05036 , time: 1654.9 \n",
      "Epoch: 10, batch: 300,  train loss on batch:      0.04723 , time: 1664.5 \n",
      "\n",
      "Epoch: 10 finished,  train loss:      0.04430 , time: 1684.0 seconds \n",
      "Epoch: 10 finished,  VALidation loss:      0.05888 , time: 1688.4 seconds \n",
      "\n"
     ]
    },
    {
     "data": {
      "text/html": [
       "<div>\n",
       "<style scoped>\n",
       "    .dataframe tbody tr th:only-of-type {\n",
       "        vertical-align: middle;\n",
       "    }\n",
       "\n",
       "    .dataframe tbody tr th {\n",
       "        vertical-align: top;\n",
       "    }\n",
       "\n",
       "    .dataframe thead th {\n",
       "        text-align: right;\n",
       "    }\n",
       "</style>\n",
       "<table border=\"1\" class=\"dataframe\">\n",
       "  <thead>\n",
       "    <tr style=\"text-align: right;\">\n",
       "      <th></th>\n",
       "      <th>epoch</th>\n",
       "      <th>BCE Val</th>\n",
       "      <th>BCE Train</th>\n",
       "      <th>F1|0.25 Val</th>\n",
       "      <th>F1|0.25 Train</th>\n",
       "      <th>AUC Val</th>\n",
       "      <th>AUC Train</th>\n",
       "      <th>F1|0.2 Val</th>\n",
       "      <th>F1|0.2 Train</th>\n",
       "      <th>F1|0.3 Val</th>\n",
       "      <th>F1|0.3 Train</th>\n",
       "      <th>Time epoch train</th>\n",
       "      <th>Time epoch full</th>\n",
       "    </tr>\n",
       "  </thead>\n",
       "  <tbody>\n",
       "    <tr>\n",
       "      <th>9</th>\n",
       "      <td>9.0</td>\n",
       "      <td>0.058553</td>\n",
       "      <td>0.045627</td>\n",
       "      <td>0.449682</td>\n",
       "      <td>0.537833</td>\n",
       "      <td>0.941943</td>\n",
       "      <td>0.970592</td>\n",
       "      <td>0.443093</td>\n",
       "      <td>0.525967</td>\n",
       "      <td>0.449770</td>\n",
       "      <td>0.540629</td>\n",
       "      <td>38.9</td>\n",
       "      <td>166.8</td>\n",
       "    </tr>\n",
       "    <tr>\n",
       "      <th>10</th>\n",
       "      <td>10.0</td>\n",
       "      <td>0.058877</td>\n",
       "      <td>0.044304</td>\n",
       "      <td>0.449294</td>\n",
       "      <td>0.547640</td>\n",
       "      <td>0.941620</td>\n",
       "      <td>0.973067</td>\n",
       "      <td>0.442161</td>\n",
       "      <td>0.534792</td>\n",
       "      <td>0.450057</td>\n",
       "      <td>0.551332</td>\n",
       "      <td>39.8</td>\n",
       "      <td>169.0</td>\n",
       "    </tr>\n",
       "  </tbody>\n",
       "</table>\n",
       "</div>"
      ],
      "text/plain": [
       "    epoch   BCE Val  BCE Train  F1|0.25 Val  F1|0.25 Train   AUC Val  \\\n",
       "9     9.0  0.058553   0.045627     0.449682       0.537833  0.941943   \n",
       "10   10.0  0.058877   0.044304     0.449294       0.547640  0.941620   \n",
       "\n",
       "    AUC Train  F1|0.2 Val  F1|0.2 Train  F1|0.3 Val  F1|0.3 Train  \\\n",
       "9    0.970592    0.443093      0.525967    0.449770      0.540629   \n",
       "10   0.973067    0.442161      0.534792    0.450057      0.551332   \n",
       "\n",
       "    Time epoch train  Time epoch full  \n",
       "9               38.9            166.8  \n",
       "10              39.8            169.0  "
      ]
     },
     "metadata": {},
     "output_type": "display_data"
    },
    {
     "name": "stdout",
     "output_type": "stream",
     "text": [
      "Epoch: 11, batch: 0,  train loss on batch:      0.04319 , time: 1803.0 \n",
      "Epoch: 11, batch: 100,  train loss on batch:      0.04774 , time: 1813.7 \n",
      "Epoch: 11, batch: 200,  train loss on batch:      0.04771 , time: 1824.5 \n",
      "Epoch: 11, batch: 300,  train loss on batch:      0.04844 , time: 1835.8 \n",
      "\n",
      "Epoch: 11 finished,  train loss:      0.04286 , time: 1858.1 seconds \n",
      "Epoch: 11 finished,  VALidation loss:      0.05926 , time: 1863.5 seconds \n",
      "\n"
     ]
    },
    {
     "data": {
      "text/html": [
       "<div>\n",
       "<style scoped>\n",
       "    .dataframe tbody tr th:only-of-type {\n",
       "        vertical-align: middle;\n",
       "    }\n",
       "\n",
       "    .dataframe tbody tr th {\n",
       "        vertical-align: top;\n",
       "    }\n",
       "\n",
       "    .dataframe thead th {\n",
       "        text-align: right;\n",
       "    }\n",
       "</style>\n",
       "<table border=\"1\" class=\"dataframe\">\n",
       "  <thead>\n",
       "    <tr style=\"text-align: right;\">\n",
       "      <th></th>\n",
       "      <th>epoch</th>\n",
       "      <th>BCE Val</th>\n",
       "      <th>BCE Train</th>\n",
       "      <th>F1|0.25 Val</th>\n",
       "      <th>F1|0.25 Train</th>\n",
       "      <th>AUC Val</th>\n",
       "      <th>AUC Train</th>\n",
       "      <th>F1|0.2 Val</th>\n",
       "      <th>F1|0.2 Train</th>\n",
       "      <th>F1|0.3 Val</th>\n",
       "      <th>F1|0.3 Train</th>\n",
       "      <th>Time epoch train</th>\n",
       "      <th>Time epoch full</th>\n",
       "    </tr>\n",
       "  </thead>\n",
       "  <tbody>\n",
       "    <tr>\n",
       "      <th>10</th>\n",
       "      <td>10.0</td>\n",
       "      <td>0.058877</td>\n",
       "      <td>0.044304</td>\n",
       "      <td>0.449294</td>\n",
       "      <td>0.547640</td>\n",
       "      <td>0.941620</td>\n",
       "      <td>0.973067</td>\n",
       "      <td>0.442161</td>\n",
       "      <td>0.534792</td>\n",
       "      <td>0.450057</td>\n",
       "      <td>0.551332</td>\n",
       "      <td>39.8</td>\n",
       "      <td>169.0</td>\n",
       "    </tr>\n",
       "    <tr>\n",
       "      <th>11</th>\n",
       "      <td>11.0</td>\n",
       "      <td>0.059262</td>\n",
       "      <td>0.042858</td>\n",
       "      <td>0.451894</td>\n",
       "      <td>0.561158</td>\n",
       "      <td>0.941135</td>\n",
       "      <td>0.975182</td>\n",
       "      <td>0.445754</td>\n",
       "      <td>0.548327</td>\n",
       "      <td>0.452069</td>\n",
       "      <td>0.564787</td>\n",
       "      <td>43.4</td>\n",
       "      <td>177.4</td>\n",
       "    </tr>\n",
       "  </tbody>\n",
       "</table>\n",
       "</div>"
      ],
      "text/plain": [
       "    epoch   BCE Val  BCE Train  F1|0.25 Val  F1|0.25 Train   AUC Val  \\\n",
       "10   10.0  0.058877   0.044304     0.449294       0.547640  0.941620   \n",
       "11   11.0  0.059262   0.042858     0.451894       0.561158  0.941135   \n",
       "\n",
       "    AUC Train  F1|0.2 Val  F1|0.2 Train  F1|0.3 Val  F1|0.3 Train  \\\n",
       "10   0.973067    0.442161      0.534792    0.450057      0.551332   \n",
       "11   0.975182    0.445754      0.548327    0.452069      0.564787   \n",
       "\n",
       "    Time epoch train  Time epoch full  \n",
       "10              39.8            169.0  \n",
       "11              43.4            177.4  "
      ]
     },
     "metadata": {},
     "output_type": "display_data"
    },
    {
     "name": "stdout",
     "output_type": "stream",
     "text": [
      "Epoch: 12, batch: 0,  train loss on batch:      0.04359 , time: 1980.3 \n",
      "Epoch: 12, batch: 100,  train loss on batch:      0.04183 , time: 1991.1 \n",
      "Epoch: 12, batch: 200,  train loss on batch:      0.04878 , time: 2002.5 \n",
      "Epoch: 12, batch: 300,  train loss on batch:      0.04363 , time: 2014.0 \n",
      "\n",
      "Epoch: 12 finished,  train loss:      0.04189 , time: 2035.0 seconds \n",
      "Epoch: 12 finished,  VALidation loss:      0.05952 , time: 2039.5 seconds \n",
      "\n"
     ]
    },
    {
     "data": {
      "text/html": [
       "<div>\n",
       "<style scoped>\n",
       "    .dataframe tbody tr th:only-of-type {\n",
       "        vertical-align: middle;\n",
       "    }\n",
       "\n",
       "    .dataframe tbody tr th {\n",
       "        vertical-align: top;\n",
       "    }\n",
       "\n",
       "    .dataframe thead th {\n",
       "        text-align: right;\n",
       "    }\n",
       "</style>\n",
       "<table border=\"1\" class=\"dataframe\">\n",
       "  <thead>\n",
       "    <tr style=\"text-align: right;\">\n",
       "      <th></th>\n",
       "      <th>epoch</th>\n",
       "      <th>BCE Val</th>\n",
       "      <th>BCE Train</th>\n",
       "      <th>F1|0.25 Val</th>\n",
       "      <th>F1|0.25 Train</th>\n",
       "      <th>AUC Val</th>\n",
       "      <th>AUC Train</th>\n",
       "      <th>F1|0.2 Val</th>\n",
       "      <th>F1|0.2 Train</th>\n",
       "      <th>F1|0.3 Val</th>\n",
       "      <th>F1|0.3 Train</th>\n",
       "      <th>Time epoch train</th>\n",
       "      <th>Time epoch full</th>\n",
       "    </tr>\n",
       "  </thead>\n",
       "  <tbody>\n",
       "    <tr>\n",
       "      <th>11</th>\n",
       "      <td>11.0</td>\n",
       "      <td>0.059262</td>\n",
       "      <td>0.042858</td>\n",
       "      <td>0.451894</td>\n",
       "      <td>0.561158</td>\n",
       "      <td>0.941135</td>\n",
       "      <td>0.975182</td>\n",
       "      <td>0.445754</td>\n",
       "      <td>0.548327</td>\n",
       "      <td>0.452069</td>\n",
       "      <td>0.564787</td>\n",
       "      <td>43.4</td>\n",
       "      <td>177.4</td>\n",
       "    </tr>\n",
       "    <tr>\n",
       "      <th>12</th>\n",
       "      <td>12.0</td>\n",
       "      <td>0.059516</td>\n",
       "      <td>0.041886</td>\n",
       "      <td>0.454088</td>\n",
       "      <td>0.569114</td>\n",
       "      <td>0.940681</td>\n",
       "      <td>0.976550</td>\n",
       "      <td>0.447396</td>\n",
       "      <td>0.555912</td>\n",
       "      <td>0.454481</td>\n",
       "      <td>0.573564</td>\n",
       "      <td>43.7</td>\n",
       "      <td>172.2</td>\n",
       "    </tr>\n",
       "  </tbody>\n",
       "</table>\n",
       "</div>"
      ],
      "text/plain": [
       "    epoch   BCE Val  BCE Train  F1|0.25 Val  F1|0.25 Train   AUC Val  \\\n",
       "11   11.0  0.059262   0.042858     0.451894       0.561158  0.941135   \n",
       "12   12.0  0.059516   0.041886     0.454088       0.569114  0.940681   \n",
       "\n",
       "    AUC Train  F1|0.2 Val  F1|0.2 Train  F1|0.3 Val  F1|0.3 Train  \\\n",
       "11   0.975182    0.445754      0.548327    0.452069      0.564787   \n",
       "12   0.976550    0.447396      0.555912    0.454481      0.573564   \n",
       "\n",
       "    Time epoch train  Time epoch full  \n",
       "11              43.4            177.4  \n",
       "12              43.7            172.2  "
      ]
     },
     "metadata": {},
     "output_type": "display_data"
    },
    {
     "name": "stdout",
     "output_type": "stream",
     "text": [
      "Epoch: 13, batch: 0,  train loss on batch:      0.04753 , time: 2152.5 \n",
      "Epoch: 13, batch: 100,  train loss on batch:      0.04246 , time: 2162.1 \n",
      "Epoch: 13, batch: 200,  train loss on batch:      0.04789 , time: 2172.1 \n",
      "Epoch: 13, batch: 300,  train loss on batch:      0.04251 , time: 2182.7 \n",
      "\n",
      "Epoch: 13 finished,  train loss:      0.04042 , time: 2201.6 seconds \n",
      "Epoch: 13 finished,  VALidation loss:      0.05965 , time: 2206.0 seconds \n",
      "\n"
     ]
    },
    {
     "data": {
      "text/html": [
       "<div>\n",
       "<style scoped>\n",
       "    .dataframe tbody tr th:only-of-type {\n",
       "        vertical-align: middle;\n",
       "    }\n",
       "\n",
       "    .dataframe tbody tr th {\n",
       "        vertical-align: top;\n",
       "    }\n",
       "\n",
       "    .dataframe thead th {\n",
       "        text-align: right;\n",
       "    }\n",
       "</style>\n",
       "<table border=\"1\" class=\"dataframe\">\n",
       "  <thead>\n",
       "    <tr style=\"text-align: right;\">\n",
       "      <th></th>\n",
       "      <th>epoch</th>\n",
       "      <th>BCE Val</th>\n",
       "      <th>BCE Train</th>\n",
       "      <th>F1|0.25 Val</th>\n",
       "      <th>F1|0.25 Train</th>\n",
       "      <th>AUC Val</th>\n",
       "      <th>AUC Train</th>\n",
       "      <th>F1|0.2 Val</th>\n",
       "      <th>F1|0.2 Train</th>\n",
       "      <th>F1|0.3 Val</th>\n",
       "      <th>F1|0.3 Train</th>\n",
       "      <th>Time epoch train</th>\n",
       "      <th>Time epoch full</th>\n",
       "    </tr>\n",
       "  </thead>\n",
       "  <tbody>\n",
       "    <tr>\n",
       "      <th>12</th>\n",
       "      <td>12.0</td>\n",
       "      <td>0.059516</td>\n",
       "      <td>0.041886</td>\n",
       "      <td>0.454088</td>\n",
       "      <td>0.569114</td>\n",
       "      <td>0.940681</td>\n",
       "      <td>0.976550</td>\n",
       "      <td>0.447396</td>\n",
       "      <td>0.555912</td>\n",
       "      <td>0.454481</td>\n",
       "      <td>0.573564</td>\n",
       "      <td>43.7</td>\n",
       "      <td>172.2</td>\n",
       "    </tr>\n",
       "    <tr>\n",
       "      <th>13</th>\n",
       "      <td>13.0</td>\n",
       "      <td>0.059652</td>\n",
       "      <td>0.040417</td>\n",
       "      <td>0.454930</td>\n",
       "      <td>0.582778</td>\n",
       "      <td>0.940976</td>\n",
       "      <td>0.978546</td>\n",
       "      <td>0.449653</td>\n",
       "      <td>0.570231</td>\n",
       "      <td>0.454407</td>\n",
       "      <td>0.586549</td>\n",
       "      <td>38.7</td>\n",
       "      <td>166.5</td>\n",
       "    </tr>\n",
       "  </tbody>\n",
       "</table>\n",
       "</div>"
      ],
      "text/plain": [
       "    epoch   BCE Val  BCE Train  F1|0.25 Val  F1|0.25 Train   AUC Val  \\\n",
       "12   12.0  0.059516   0.041886     0.454088       0.569114  0.940681   \n",
       "13   13.0  0.059652   0.040417     0.454930       0.582778  0.940976   \n",
       "\n",
       "    AUC Train  F1|0.2 Val  F1|0.2 Train  F1|0.3 Val  F1|0.3 Train  \\\n",
       "12   0.976550    0.447396      0.555912    0.454481      0.573564   \n",
       "13   0.978546    0.449653      0.570231    0.454407      0.586549   \n",
       "\n",
       "    Time epoch train  Time epoch full  \n",
       "12              43.7            172.2  \n",
       "13              38.7            166.5  "
      ]
     },
     "metadata": {},
     "output_type": "display_data"
    },
    {
     "name": "stdout",
     "output_type": "stream",
     "text": [
      "Epoch: 14, batch: 0,  train loss on batch:      0.04157 , time: 2319.0 \n",
      "Epoch: 14, batch: 100,  train loss on batch:      0.04392 , time: 2328.1 \n",
      "Epoch: 14, batch: 200,  train loss on batch:      0.04180 , time: 2337.9 \n",
      "Epoch: 14, batch: 300,  train loss on batch:      0.03742 , time: 2347.3 \n",
      "\n",
      "Epoch: 14 finished,  train loss:      0.03916 , time: 2365.6 seconds \n",
      "Epoch: 14 finished,  VALidation loss:      0.06014 , time: 2371.8 seconds \n",
      "\n"
     ]
    },
    {
     "data": {
      "text/html": [
       "<div>\n",
       "<style scoped>\n",
       "    .dataframe tbody tr th:only-of-type {\n",
       "        vertical-align: middle;\n",
       "    }\n",
       "\n",
       "    .dataframe tbody tr th {\n",
       "        vertical-align: top;\n",
       "    }\n",
       "\n",
       "    .dataframe thead th {\n",
       "        text-align: right;\n",
       "    }\n",
       "</style>\n",
       "<table border=\"1\" class=\"dataframe\">\n",
       "  <thead>\n",
       "    <tr style=\"text-align: right;\">\n",
       "      <th></th>\n",
       "      <th>epoch</th>\n",
       "      <th>BCE Val</th>\n",
       "      <th>BCE Train</th>\n",
       "      <th>F1|0.25 Val</th>\n",
       "      <th>F1|0.25 Train</th>\n",
       "      <th>AUC Val</th>\n",
       "      <th>AUC Train</th>\n",
       "      <th>F1|0.2 Val</th>\n",
       "      <th>F1|0.2 Train</th>\n",
       "      <th>F1|0.3 Val</th>\n",
       "      <th>F1|0.3 Train</th>\n",
       "      <th>Time epoch train</th>\n",
       "      <th>Time epoch full</th>\n",
       "    </tr>\n",
       "  </thead>\n",
       "  <tbody>\n",
       "    <tr>\n",
       "      <th>13</th>\n",
       "      <td>13.0</td>\n",
       "      <td>0.059652</td>\n",
       "      <td>0.040417</td>\n",
       "      <td>0.454930</td>\n",
       "      <td>0.582778</td>\n",
       "      <td>0.940976</td>\n",
       "      <td>0.978546</td>\n",
       "      <td>0.449653</td>\n",
       "      <td>0.570231</td>\n",
       "      <td>0.454407</td>\n",
       "      <td>0.586549</td>\n",
       "      <td>38.7</td>\n",
       "      <td>166.5</td>\n",
       "    </tr>\n",
       "    <tr>\n",
       "      <th>14</th>\n",
       "      <td>14.0</td>\n",
       "      <td>0.060142</td>\n",
       "      <td>0.039156</td>\n",
       "      <td>0.457868</td>\n",
       "      <td>0.594918</td>\n",
       "      <td>0.940329</td>\n",
       "      <td>0.980202</td>\n",
       "      <td>0.452398</td>\n",
       "      <td>0.581633</td>\n",
       "      <td>0.458358</td>\n",
       "      <td>0.599725</td>\n",
       "      <td>36.5</td>\n",
       "      <td>190.6</td>\n",
       "    </tr>\n",
       "  </tbody>\n",
       "</table>\n",
       "</div>"
      ],
      "text/plain": [
       "    epoch   BCE Val  BCE Train  F1|0.25 Val  F1|0.25 Train   AUC Val  \\\n",
       "13   13.0  0.059652   0.040417     0.454930       0.582778  0.940976   \n",
       "14   14.0  0.060142   0.039156     0.457868       0.594918  0.940329   \n",
       "\n",
       "    AUC Train  F1|0.2 Val  F1|0.2 Train  F1|0.3 Val  F1|0.3 Train  \\\n",
       "13   0.978546    0.449653      0.570231    0.454407      0.586549   \n",
       "14   0.980202    0.452398      0.581633    0.458358      0.599725   \n",
       "\n",
       "    Time epoch train  Time epoch full  \n",
       "13              38.7            166.5  \n",
       "14              36.5            190.6  "
      ]
     },
     "metadata": {},
     "output_type": "display_data"
    },
    {
     "name": "stdout",
     "output_type": "stream",
     "text": [
      "Training finished 2509.4 seconds passed\n"
     ]
    },
    {
     "data": {
      "text/html": [
       "<div>\n",
       "<style scoped>\n",
       "    .dataframe tbody tr th:only-of-type {\n",
       "        vertical-align: middle;\n",
       "    }\n",
       "\n",
       "    .dataframe tbody tr th {\n",
       "        vertical-align: top;\n",
       "    }\n",
       "\n",
       "    .dataframe thead th {\n",
       "        text-align: right;\n",
       "    }\n",
       "</style>\n",
       "<table border=\"1\" class=\"dataframe\">\n",
       "  <thead>\n",
       "    <tr style=\"text-align: right;\">\n",
       "      <th></th>\n",
       "      <th>epoch</th>\n",
       "      <th>BCE Val</th>\n",
       "      <th>BCE Train</th>\n",
       "      <th>F1|0.25 Val</th>\n",
       "      <th>F1|0.25 Train</th>\n",
       "      <th>AUC Val</th>\n",
       "      <th>AUC Train</th>\n",
       "      <th>F1|0.2 Val</th>\n",
       "      <th>F1|0.2 Train</th>\n",
       "      <th>F1|0.3 Val</th>\n",
       "      <th>F1|0.3 Train</th>\n",
       "      <th>Time epoch train</th>\n",
       "      <th>Time epoch full</th>\n",
       "    </tr>\n",
       "  </thead>\n",
       "  <tbody>\n",
       "    <tr>\n",
       "      <th>0</th>\n",
       "      <td>0.0</td>\n",
       "      <td>0.0659</td>\n",
       "      <td>0.0652</td>\n",
       "      <td>0.3893</td>\n",
       "      <td>0.3956</td>\n",
       "      <td>0.9135</td>\n",
       "      <td>0.9169</td>\n",
       "      <td>0.3849</td>\n",
       "      <td>0.3914</td>\n",
       "      <td>0.3861</td>\n",
       "      <td>0.3923</td>\n",
       "      <td>34.5</td>\n",
       "      <td>157.6</td>\n",
       "    </tr>\n",
       "    <tr>\n",
       "      <th>1</th>\n",
       "      <td>1.0</td>\n",
       "      <td>0.0624</td>\n",
       "      <td>0.0608</td>\n",
       "      <td>0.4067</td>\n",
       "      <td>0.4177</td>\n",
       "      <td>0.9275</td>\n",
       "      <td>0.9339</td>\n",
       "      <td>0.4018</td>\n",
       "      <td>0.4124</td>\n",
       "      <td>0.4032</td>\n",
       "      <td>0.4146</td>\n",
       "      <td>35.2</td>\n",
       "      <td>157.2</td>\n",
       "    </tr>\n",
       "    <tr>\n",
       "      <th>2</th>\n",
       "      <td>2.0</td>\n",
       "      <td>0.0606</td>\n",
       "      <td>0.0580</td>\n",
       "      <td>0.4192</td>\n",
       "      <td>0.4376</td>\n",
       "      <td>0.9346</td>\n",
       "      <td>0.9432</td>\n",
       "      <td>0.4141</td>\n",
       "      <td>0.4315</td>\n",
       "      <td>0.4164</td>\n",
       "      <td>0.4352</td>\n",
       "      <td>33.9</td>\n",
       "      <td>158.9</td>\n",
       "    </tr>\n",
       "    <tr>\n",
       "      <th>3</th>\n",
       "      <td>3.0</td>\n",
       "      <td>0.0597</td>\n",
       "      <td>0.0559</td>\n",
       "      <td>0.4285</td>\n",
       "      <td>0.4547</td>\n",
       "      <td>0.9373</td>\n",
       "      <td>0.9488</td>\n",
       "      <td>0.4231</td>\n",
       "      <td>0.4481</td>\n",
       "      <td>0.4262</td>\n",
       "      <td>0.4525</td>\n",
       "      <td>36.5</td>\n",
       "      <td>183.6</td>\n",
       "    </tr>\n",
       "    <tr>\n",
       "      <th>4</th>\n",
       "      <td>4.0</td>\n",
       "      <td>0.0591</td>\n",
       "      <td>0.0540</td>\n",
       "      <td>0.4343</td>\n",
       "      <td>0.4692</td>\n",
       "      <td>0.9391</td>\n",
       "      <td>0.9538</td>\n",
       "      <td>0.4274</td>\n",
       "      <td>0.4604</td>\n",
       "      <td>0.4334</td>\n",
       "      <td>0.4690</td>\n",
       "      <td>33.5</td>\n",
       "      <td>158.9</td>\n",
       "    </tr>\n",
       "    <tr>\n",
       "      <th>5</th>\n",
       "      <td>5.0</td>\n",
       "      <td>0.0585</td>\n",
       "      <td>0.0519</td>\n",
       "      <td>0.4385</td>\n",
       "      <td>0.4847</td>\n",
       "      <td>0.9411</td>\n",
       "      <td>0.9587</td>\n",
       "      <td>0.4311</td>\n",
       "      <td>0.4746</td>\n",
       "      <td>0.4386</td>\n",
       "      <td>0.4856</td>\n",
       "      <td>34.5</td>\n",
       "      <td>158.4</td>\n",
       "    </tr>\n",
       "    <tr>\n",
       "      <th>6</th>\n",
       "      <td>6.0</td>\n",
       "      <td>0.0581</td>\n",
       "      <td>0.0502</td>\n",
       "      <td>0.4444</td>\n",
       "      <td>0.5005</td>\n",
       "      <td>0.9422</td>\n",
       "      <td>0.9624</td>\n",
       "      <td>0.4377</td>\n",
       "      <td>0.4910</td>\n",
       "      <td>0.4436</td>\n",
       "      <td>0.5014</td>\n",
       "      <td>35.9</td>\n",
       "      <td>160.5</td>\n",
       "    </tr>\n",
       "    <tr>\n",
       "      <th>7</th>\n",
       "      <td>7.0</td>\n",
       "      <td>0.0583</td>\n",
       "      <td>0.0487</td>\n",
       "      <td>0.4452</td>\n",
       "      <td>0.5121</td>\n",
       "      <td>0.9424</td>\n",
       "      <td>0.9654</td>\n",
       "      <td>0.4398</td>\n",
       "      <td>0.5035</td>\n",
       "      <td>0.4434</td>\n",
       "      <td>0.5120</td>\n",
       "      <td>36.2</td>\n",
       "      <td>168.4</td>\n",
       "    </tr>\n",
       "    <tr>\n",
       "      <th>8</th>\n",
       "      <td>8.0</td>\n",
       "      <td>0.0583</td>\n",
       "      <td>0.0470</td>\n",
       "      <td>0.4467</td>\n",
       "      <td>0.5241</td>\n",
       "      <td>0.9428</td>\n",
       "      <td>0.9684</td>\n",
       "      <td>0.4407</td>\n",
       "      <td>0.5130</td>\n",
       "      <td>0.4458</td>\n",
       "      <td>0.5261</td>\n",
       "      <td>36.1</td>\n",
       "      <td>163.4</td>\n",
       "    </tr>\n",
       "    <tr>\n",
       "      <th>9</th>\n",
       "      <td>9.0</td>\n",
       "      <td>0.0586</td>\n",
       "      <td>0.0456</td>\n",
       "      <td>0.4497</td>\n",
       "      <td>0.5378</td>\n",
       "      <td>0.9419</td>\n",
       "      <td>0.9706</td>\n",
       "      <td>0.4431</td>\n",
       "      <td>0.5260</td>\n",
       "      <td>0.4498</td>\n",
       "      <td>0.5406</td>\n",
       "      <td>38.9</td>\n",
       "      <td>166.8</td>\n",
       "    </tr>\n",
       "    <tr>\n",
       "      <th>10</th>\n",
       "      <td>10.0</td>\n",
       "      <td>0.0589</td>\n",
       "      <td>0.0443</td>\n",
       "      <td>0.4493</td>\n",
       "      <td>0.5476</td>\n",
       "      <td>0.9416</td>\n",
       "      <td>0.9731</td>\n",
       "      <td>0.4422</td>\n",
       "      <td>0.5348</td>\n",
       "      <td>0.4501</td>\n",
       "      <td>0.5513</td>\n",
       "      <td>39.8</td>\n",
       "      <td>169.0</td>\n",
       "    </tr>\n",
       "    <tr>\n",
       "      <th>11</th>\n",
       "      <td>11.0</td>\n",
       "      <td>0.0593</td>\n",
       "      <td>0.0429</td>\n",
       "      <td>0.4519</td>\n",
       "      <td>0.5612</td>\n",
       "      <td>0.9411</td>\n",
       "      <td>0.9752</td>\n",
       "      <td>0.4458</td>\n",
       "      <td>0.5483</td>\n",
       "      <td>0.4521</td>\n",
       "      <td>0.5648</td>\n",
       "      <td>43.4</td>\n",
       "      <td>177.4</td>\n",
       "    </tr>\n",
       "    <tr>\n",
       "      <th>12</th>\n",
       "      <td>12.0</td>\n",
       "      <td>0.0595</td>\n",
       "      <td>0.0419</td>\n",
       "      <td>0.4541</td>\n",
       "      <td>0.5691</td>\n",
       "      <td>0.9407</td>\n",
       "      <td>0.9765</td>\n",
       "      <td>0.4474</td>\n",
       "      <td>0.5559</td>\n",
       "      <td>0.4545</td>\n",
       "      <td>0.5736</td>\n",
       "      <td>43.7</td>\n",
       "      <td>172.2</td>\n",
       "    </tr>\n",
       "    <tr>\n",
       "      <th>13</th>\n",
       "      <td>13.0</td>\n",
       "      <td>0.0597</td>\n",
       "      <td>0.0404</td>\n",
       "      <td>0.4549</td>\n",
       "      <td>0.5828</td>\n",
       "      <td>0.9410</td>\n",
       "      <td>0.9785</td>\n",
       "      <td>0.4497</td>\n",
       "      <td>0.5702</td>\n",
       "      <td>0.4544</td>\n",
       "      <td>0.5865</td>\n",
       "      <td>38.7</td>\n",
       "      <td>166.5</td>\n",
       "    </tr>\n",
       "    <tr>\n",
       "      <th>14</th>\n",
       "      <td>14.0</td>\n",
       "      <td>0.0601</td>\n",
       "      <td>0.0392</td>\n",
       "      <td>0.4579</td>\n",
       "      <td>0.5949</td>\n",
       "      <td>0.9403</td>\n",
       "      <td>0.9802</td>\n",
       "      <td>0.4524</td>\n",
       "      <td>0.5816</td>\n",
       "      <td>0.4584</td>\n",
       "      <td>0.5997</td>\n",
       "      <td>36.5</td>\n",
       "      <td>190.6</td>\n",
       "    </tr>\n",
       "  </tbody>\n",
       "</table>\n",
       "</div>"
      ],
      "text/plain": [
       "    epoch  BCE Val  BCE Train  F1|0.25 Val  F1|0.25 Train  AUC Val  AUC Train  \\\n",
       "0     0.0   0.0659     0.0652       0.3893         0.3956   0.9135     0.9169   \n",
       "1     1.0   0.0624     0.0608       0.4067         0.4177   0.9275     0.9339   \n",
       "2     2.0   0.0606     0.0580       0.4192         0.4376   0.9346     0.9432   \n",
       "3     3.0   0.0597     0.0559       0.4285         0.4547   0.9373     0.9488   \n",
       "4     4.0   0.0591     0.0540       0.4343         0.4692   0.9391     0.9538   \n",
       "5     5.0   0.0585     0.0519       0.4385         0.4847   0.9411     0.9587   \n",
       "6     6.0   0.0581     0.0502       0.4444         0.5005   0.9422     0.9624   \n",
       "7     7.0   0.0583     0.0487       0.4452         0.5121   0.9424     0.9654   \n",
       "8     8.0   0.0583     0.0470       0.4467         0.5241   0.9428     0.9684   \n",
       "9     9.0   0.0586     0.0456       0.4497         0.5378   0.9419     0.9706   \n",
       "10   10.0   0.0589     0.0443       0.4493         0.5476   0.9416     0.9731   \n",
       "11   11.0   0.0593     0.0429       0.4519         0.5612   0.9411     0.9752   \n",
       "12   12.0   0.0595     0.0419       0.4541         0.5691   0.9407     0.9765   \n",
       "13   13.0   0.0597     0.0404       0.4549         0.5828   0.9410     0.9785   \n",
       "14   14.0   0.0601     0.0392       0.4579         0.5949   0.9403     0.9802   \n",
       "\n",
       "    F1|0.2 Val  F1|0.2 Train  F1|0.3 Val  F1|0.3 Train  Time epoch train  \\\n",
       "0       0.3849        0.3914      0.3861        0.3923              34.5   \n",
       "1       0.4018        0.4124      0.4032        0.4146              35.2   \n",
       "2       0.4141        0.4315      0.4164        0.4352              33.9   \n",
       "3       0.4231        0.4481      0.4262        0.4525              36.5   \n",
       "4       0.4274        0.4604      0.4334        0.4690              33.5   \n",
       "5       0.4311        0.4746      0.4386        0.4856              34.5   \n",
       "6       0.4377        0.4910      0.4436        0.5014              35.9   \n",
       "7       0.4398        0.5035      0.4434        0.5120              36.2   \n",
       "8       0.4407        0.5130      0.4458        0.5261              36.1   \n",
       "9       0.4431        0.5260      0.4498        0.5406              38.9   \n",
       "10      0.4422        0.5348      0.4501        0.5513              39.8   \n",
       "11      0.4458        0.5483      0.4521        0.5648              43.4   \n",
       "12      0.4474        0.5559      0.4545        0.5736              43.7   \n",
       "13      0.4497        0.5702      0.4544        0.5865              38.7   \n",
       "14      0.4524        0.5816      0.4584        0.5997              36.5   \n",
       "\n",
       "    Time epoch full  \n",
       "0             157.6  \n",
       "1             157.2  \n",
       "2             158.9  \n",
       "3             183.6  \n",
       "4             158.9  \n",
       "5             158.4  \n",
       "6             160.5  \n",
       "7             168.4  \n",
       "8             163.4  \n",
       "9             166.8  \n",
       "10            169.0  \n",
       "11            177.4  \n",
       "12            172.2  \n",
       "13            166.5  \n",
       "14            190.6  "
      ]
     },
     "metadata": {},
     "output_type": "display_data"
    },
    {
     "name": "stdout",
     "output_type": "stream",
     "text": [
      "CPU times: user 51min 52s, sys: 15min 32s, total: 1h 7min 25s\n",
      "Wall time: 41min 49s\n"
     ]
    }
   ],
   "source": [
    "%%time\n",
    "\n",
    "max_epoch = 15\n",
    "\n",
    "\n",
    "import time \n",
    "t0 = time.time()\n",
    "\n",
    "from torchmetrics.classification import BinaryF1Score\n",
    "f1 = BinaryF1Score(threshold=0.25, multidim_average= 'samplewise'  )\n",
    "from torchmetrics import AUROC\n",
    "auroc = AUROC(task = 'binary')\n",
    "\n",
    "\n",
    "print('X.shape, Y.shape', X.shape, Y.shape )\n",
    "print()\n",
    "\n",
    "# do not fortget to reinitialize model when you debug the notebook, since otherwise - each time you rerun the current cell \n",
    "# - you will update existing weights  - it would be easy to see that starting loss is unexpectdely small \n",
    "model = MyModel(X.shape[1],Y.shape[1])\n",
    "model.to(device)\n",
    "\n",
    "\n",
    "\n",
    "optimizer = torch.optim.Adam(model.parameters(), lr=1e-3) #SGD(model.parameters(), lr=1e-3)\n",
    "# scheduler = torch.optim.lr_scheduler.StepLR(optimizer, 0.05, 10)\n",
    "criterion = nn.BCELoss()\n",
    "\n",
    "\n",
    "df_stat = pd.DataFrame(); IX_stat = -1;\n",
    "print()\n",
    "print( str(model))\n",
    "print()\n",
    "current_datetime = datetime.datetime.now()\n",
    "print('Start training NN',current_datetime)\n",
    "print()\n",
    "for epoch in range(max_epoch):\n",
    "    t0_epoch = time.time()\n",
    "    model.train() # switch model into train mode i.e. allow gradients computation - opposite of model.eval() - no grad computation\n",
    "    for i_batch, (x_batch, y_batch) in enumerate(train_dataloader): # Loop ove batches\n",
    "#             x_batch, y_batch = x_batch.to(device), y_batch.to(device) # do we need it ? may be already on device \n",
    "        preds = model(x_batch)# Compute predictions only for batch samples \n",
    "\n",
    "        optimizer.zero_grad() # technical - set gradients to zero, otherwise they will be accumulated         \n",
    "\n",
    "        loss = criterion(preds, y_batch) # Compute loss function \n",
    "        loss.backward() # Compute gradients\n",
    "        optimizer.step() # Update NN weights using gradients\n",
    "\n",
    "        if i_batch % 100 == 0:\n",
    "            print(f'Epoch: {epoch}, batch: {i_batch},  train loss on batch: {loss.item():12.5f} , time: {time.time() - t0:.1f} ' )\n",
    "\n",
    "    t0_epoch_train = time.time() - t0_epoch            \n",
    "    model.eval()\n",
    "    with torch.no_grad():\n",
    "        train, y_train = train_dataset.tensors\n",
    "        # train, y_train = train.to(device), y_train.to(device) # They already should on device, why we need that ?\n",
    "        preds = model(train)\n",
    "        preds_train = preds\n",
    "        loss = criterion(preds, y_train)\n",
    "        loss1 = loss.item()\n",
    "        print()\n",
    "        print(f'Epoch: {epoch} finished,  train loss: {loss.item():12.5f} , time: {time.time() - t0:.1f} seconds ' )\n",
    "        \n",
    "        preds = model(X_val)\n",
    "        preds_val = preds\n",
    "        loss = criterion(preds, Y_val)\n",
    "        loss2 = loss.item()\n",
    "        print(f'Epoch: {epoch} finished,  VALidation loss: {loss.item():12.5f} , time: {time.time() - t0:.1f} seconds ' )\n",
    "        print()\n",
    "        \n",
    "        IX_stat += 1\n",
    "        df_stat.loc[IX_stat, 'epoch'] = epoch\n",
    "        df_stat.loc[IX_stat, 'BCE Val'] = loss2\n",
    "        df_stat.loc[IX_stat, 'BCE Train'] = loss1\n",
    "        \n",
    "        #from torchmetrics.classification import BinaryF1Score\n",
    "        f1 = BinaryF1Score(threshold=0.25, multidim_average= 'samplewise'  )\n",
    "        s = f1(preds_val, Y_val) # vector of values for each sample\n",
    "        df_stat.loc[IX_stat, 'F1|0.25 Val'] = s.mean().item()#  average over samples\n",
    "        s = f1(preds_train, y_train) \n",
    "        df_stat.loc[IX_stat, 'F1|0.25 Train'] =  s.mean().item()\n",
    "        \n",
    "        #from torchmetrics import AUROC\n",
    "        auroc = AUROC(task = 'binary')\n",
    "        s = auroc(preds_val, Y_val) # auroc between flattened arguments \n",
    "        df_stat.loc[IX_stat, 'AUC Val'] = s.item()#  average over samples\n",
    "        s = auroc(preds_train, y_train) # auroc between flattened arguments \n",
    "        df_stat.loc[IX_stat, 'AUC Train'] =  s.item()\n",
    "        \n",
    "        \n",
    "        for threshold_for_f1 in [0.2,0.3]:\n",
    "            #from torchmetrics.classification import BinaryF1Score\n",
    "            f1 = BinaryF1Score(threshold=threshold_for_f1, multidim_average= 'samplewise'  )\n",
    "            s = f1(preds_val, Y_val) # vector of values for each sample\n",
    "            df_stat.loc[IX_stat, 'F1|'+str(threshold_for_f1)+' Val'] = s.mean().item()#  average over samples\n",
    "            s = f1(preds_train, y_train) \n",
    "            df_stat.loc[IX_stat, 'F1|'+str(threshold_for_f1)+' Train'] =  s.mean().item()\n",
    "        \n",
    "        \n",
    "        df_stat.loc[IX_stat, 'Time epoch train'] = np.round(t0_epoch_train , 1 )\n",
    "        df_stat.loc[IX_stat, 'Time epoch full'] = np.round(time.time() - t0_epoch , 1 )\n",
    "        display(df_stat.tail(2))\n",
    "        \n",
    "\n",
    "        \n",
    "print('Training finished', '%.1f seconds passed'%(time.time() - t0 ))\n",
    "df_stat = df_stat.round(4)\n",
    "display(df_stat)"
   ]
  },
  {
   "cell_type": "code",
   "execution_count": 21,
   "id": "197ff1d9",
   "metadata": {
    "execution": {
     "iopub.execute_input": "2023-08-21T21:04:32.611612Z",
     "iopub.status.busy": "2023-08-21T21:04:32.611143Z",
     "iopub.status.idle": "2023-08-21T21:04:34.477992Z",
     "shell.execute_reply": "2023-08-21T21:04:34.476210Z"
    },
    "papermill": {
     "duration": 1.905144,
     "end_time": "2023-08-21T21:04:34.481324",
     "exception": false,
     "start_time": "2023-08-21T21:04:32.576180",
     "status": "completed"
    },
    "tags": []
   },
   "outputs": [
    {
     "data": {
      "image/png": "[encoded data removed]",
      "text/plain": [
       "<Figure size 2000x800 with 2 Axes>"
      ]
     },
     "metadata": {},
     "output_type": "display_data"
    },
    {
     "data": {
      "image/png": "[encoded data removed]",
      "text/plain": [
       "<Figure size 2000x800 with 3 Axes>"
      ]
     },
     "metadata": {},
     "output_type": "display_data"
    }
   ],
   "source": [
    "list_metrics_keywords = ['BCE', 'AUC']\n",
    "\n",
    "plt.figure(figsize = (20,8) )\n",
    "for i,kw in enumerate(list_metrics_keywords):\n",
    "    l = [col for col in df_stat if kw in col]\n",
    "    plt.subplot(1,len(list_metrics_keywords ),i+1)\n",
    "    plt.plot( df_stat[l], label = l )\n",
    "    plt.grid()\n",
    "    plt.legend(fontsize = 12)\n",
    "    plt.title(kw, fontsize = 20)\n",
    "    plt.xlabel('epoch',fontsize = 15)\n",
    "    \n",
    "plt.show() \n",
    "\n",
    "list_metrics_keywords = ['F1|0.25','F1|0.2', 'F1|0.3' ]\n",
    "\n",
    "plt.figure(figsize = (20,8) )\n",
    "for i,kw in enumerate(list_metrics_keywords):\n",
    "    l = [col for col in df_stat if kw in col]\n",
    "    plt.subplot(1,len(list_metrics_keywords ),i+1)\n",
    "    plt.plot( df_stat[l], label = l )\n",
    "    plt.grid()\n",
    "    plt.legend(fontsize = 12)\n",
    "    plt.title(kw, fontsize = 20)\n",
    "    plt.xlabel('epoch',fontsize = 15)\n",
    "    \n",
    "plt.show() "
   ]
  },
  {
   "cell_type": "markdown",
   "id": "18efc456",
   "metadata": {
    "papermill": {
     "duration": 0.03698,
     "end_time": "2023-08-21T21:04:34.561126",
     "exception": false,
     "start_time": "2023-08-21T21:04:34.524146",
     "status": "completed"
    },
    "tags": []
   },
   "source": [
    "The actual metric in the CAFA5 competition is similar to F1 above, but more sophisticated and computation time is signinificantly large. One may use F1 with threshold around 0.2-0.3 as a kind of \"fast-proxi\" for it.\n",
    "\n",
    "The next step to get close to actual CAFA5 metric is to calculate F1 with different thresholds for different subontologies and choose not fixed threhold, but optimal one. Still it would not be exactly CAFA5 F1. Extra steps are: weighting and propagation. We will not go into these details yet."
   ]
  },
  {
   "cell_type": "markdown",
   "id": "9b74a307",
   "metadata": {
    "papermill": {
     "duration": 0.0384,
     "end_time": "2023-08-21T21:04:34.636342",
     "exception": false,
     "start_time": "2023-08-21T21:04:34.597942",
     "status": "completed"
    },
    "tags": []
   },
   "source": [
    "**Clear memory**"
   ]
  },
  {
   "cell_type": "code",
   "execution_count": 22,
   "id": "db60b565",
   "metadata": {
    "execution": {
     "iopub.execute_input": "2023-08-21T21:04:34.712256Z",
     "iopub.status.busy": "2023-08-21T21:04:34.711364Z",
     "iopub.status.idle": "2023-08-21T21:04:35.564893Z",
     "shell.execute_reply": "2023-08-21T21:04:35.563475Z"
    },
    "papermill": {
     "duration": 0.895816,
     "end_time": "2023-08-21T21:04:35.568219",
     "exception": false,
     "start_time": "2023-08-21T21:04:34.672403",
     "status": "completed"
    },
    "tags": []
   },
   "outputs": [
    {
     "name": "stdout",
     "output_type": "stream",
     "text": [
      "CPU times: user 585 ms, sys: 256 ms, total: 840 ms\n",
      "Wall time: 845 ms\n"
     ]
    }
   ],
   "source": [
    "%%time\n",
    "import gc\n",
    "if 0:\n",
    "    del X_train,Y_train, X_val, Y_val, train_dataset, train_dataloader, X, Y\n",
    "gc.collect()\n",
    "torch.cuda.empty_cache()"
   ]
  },
  {
   "cell_type": "markdown",
   "id": "a36225fc",
   "metadata": {
    "papermill": {
     "duration": 0.033384,
     "end_time": "2023-08-21T21:04:35.636595",
     "exception": false,
     "start_time": "2023-08-21T21:04:35.603211",
     "status": "completed"
    },
    "tags": []
   },
   "source": [
    "**Load features for submission**"
   ]
  },
  {
   "cell_type": "code",
   "execution_count": 23,
   "id": "a9f556ae",
   "metadata": {
    "execution": {
     "iopub.execute_input": "2023-08-21T21:04:35.706509Z",
     "iopub.status.busy": "2023-08-21T21:04:35.706039Z",
     "iopub.status.idle": "2023-08-21T21:05:10.642485Z",
     "shell.execute_reply": "2023-08-21T21:05:10.641285Z"
    },
    "papermill": {
     "duration": 35.011856,
     "end_time": "2023-08-21T21:05:10.682100",
     "exception": false,
     "start_time": "2023-08-21T21:04:35.670244",
     "status": "completed"
    },
    "tags": []
   },
   "outputs": [
    {
     "name": "stdout",
     "output_type": "stream",
     "text": [
      "/kaggle/input/4637427/test_embeds_esm2_t36_3B_UR50D.npy\n",
      "(141865, 2560)\n",
      "[[ 0.0234699  -0.01637267 -0.00922152]\n",
      " [ 0.00416557 -0.03404953 -0.01230596]]\n",
      "CPU times: user 382 ms, sys: 5.43 s, total: 5.81 s\n",
      "Wall time: 34.9 s\n"
     ]
    }
   ],
   "source": [
    "%%time \n",
    "################ load  features #########################\n",
    "\n",
    "# fn = '/kaggle/input/4637427/train_embeds_esm2_t36_3B_UR50D.npy'\n",
    "fn = '/kaggle/input/4637427/test_embeds_esm2_t36_3B_UR50D.npy'\n",
    "print(fn)\n",
    "X = np.load(fn).astype(np.float32)\n",
    "print(X.shape)\n",
    "print(X[:2,:3])\n"
   ]
  },
  {
   "cell_type": "code",
   "execution_count": 24,
   "id": "7373e3a0",
   "metadata": {
    "execution": {
     "iopub.execute_input": "2023-08-21T21:05:10.761343Z",
     "iopub.status.busy": "2023-08-21T21:05:10.760511Z",
     "iopub.status.idle": "2023-08-21T21:05:11.525817Z",
     "shell.execute_reply": "2023-08-21T21:05:11.524605Z"
    },
    "papermill": {
     "duration": 0.809791,
     "end_time": "2023-08-21T21:05:11.529224",
     "exception": false,
     "start_time": "2023-08-21T21:05:10.719433",
     "status": "completed"
    },
    "tags": []
   },
   "outputs": [
    {
     "name": "stdout",
     "output_type": "stream",
     "text": [
      "CPU times: user 394 ms, sys: 1.03 s, total: 1.42 s\n",
      "Wall time: 758 ms\n"
     ]
    }
   ],
   "source": [
    "%%time\n",
    "X = torch.tensor(X, dtype=torch.float32).to(device)"
   ]
  },
  {
   "cell_type": "markdown",
   "id": "aac0b293",
   "metadata": {
    "papermill": {
     "duration": 0.036054,
     "end_time": "2023-08-21T21:05:11.603093",
     "exception": false,
     "start_time": "2023-08-21T21:05:11.567039",
     "status": "completed"
    },
    "tags": []
   },
   "source": [
    "**Compute Predictions**"
   ]
  },
  {
   "cell_type": "code",
   "execution_count": 25,
   "id": "c9cd509e",
   "metadata": {
    "execution": {
     "iopub.execute_input": "2023-08-21T21:05:11.681916Z",
     "iopub.status.busy": "2023-08-21T21:05:11.680732Z",
     "iopub.status.idle": "2023-08-21T21:05:23.555934Z",
     "shell.execute_reply": "2023-08-21T21:05:23.554682Z"
    },
    "papermill": {
     "duration": 11.917185,
     "end_time": "2023-08-21T21:05:23.558588",
     "exception": false,
     "start_time": "2023-08-21T21:05:11.641403",
     "status": "completed"
    },
    "tags": []
   },
   "outputs": [
    {
     "name": "stdout",
     "output_type": "stream",
     "text": [
      "CPU times: user 18.4 s, sys: 4.65 s, total: 23 s\n",
      "Wall time: 11.9 s\n"
     ]
    }
   ],
   "source": [
    "%%time\n",
    "model.eval()\n",
    "with torch.no_grad():\n",
    "    preds = model(X)"
   ]
  },
  {
   "cell_type": "code",
   "execution_count": 26,
   "id": "783e547e",
   "metadata": {
    "execution": {
     "iopub.execute_input": "2023-08-21T21:05:23.634207Z",
     "iopub.status.busy": "2023-08-21T21:05:23.633329Z",
     "iopub.status.idle": "2023-08-21T21:05:23.644869Z",
     "shell.execute_reply": "2023-08-21T21:05:23.642902Z"
    },
    "papermill": {
     "duration": 0.052943,
     "end_time": "2023-08-21T21:05:23.647702",
     "exception": false,
     "start_time": "2023-08-21T21:05:23.594759",
     "status": "completed"
    },
    "tags": []
   },
   "outputs": [
    {
     "name": "stdout",
     "output_type": "stream",
     "text": [
      "torch.Size([141865, 1499])\n",
      "tensor([[0.8791, 0.8274, 0.8691],\n",
      "        [0.8539, 0.8525, 0.8365],\n",
      "        [0.8910, 0.7925, 0.8802],\n",
      "        [0.9056, 0.8230, 0.8972]])\n"
     ]
    }
   ],
   "source": [
    "print(preds.shape)\n",
    "print(preds[:4,:3])"
   ]
  },
  {
   "cell_type": "code",
   "execution_count": 27,
   "id": "525111dd",
   "metadata": {
    "execution": {
     "iopub.execute_input": "2023-08-21T21:05:24.011163Z",
     "iopub.status.busy": "2023-08-21T21:05:24.010708Z",
     "iopub.status.idle": "2023-08-21T21:05:24.082111Z",
     "shell.execute_reply": "2023-08-21T21:05:24.080949Z"
    },
    "papermill": {
     "duration": 0.401687,
     "end_time": "2023-08-21T21:05:24.084585",
     "exception": false,
     "start_time": "2023-08-21T21:05:23.682898",
     "status": "completed"
    },
    "tags": []
   },
   "outputs": [
    {
     "name": "stdout",
     "output_type": "stream",
     "text": [
      "(141865,) ['Q9CQV8' 'P62259' 'P68510' 'P61982' 'O70456' 'P68254' 'P63101' 'A2AIG8'\n",
      " 'Q3UX83' 'Q6PD03']\n",
      "CPU times: user 2.68 ms, sys: 5.6 ms, total: 8.29 ms\n",
      "Wall time: 65.2 ms\n"
     ]
    }
   ],
   "source": [
    "%%time\n",
    "test_protein_ids = np.load('/kaggle/input/4637427/test_ids_esm2_t36_3B_UR50D.npy')\n",
    "print(test_protein_ids.shape, test_protein_ids[:10])"
   ]
  },
  {
   "cell_type": "markdown",
   "id": "3fd742f5",
   "metadata": {
    "papermill": {
     "duration": 0.033619,
     "end_time": "2023-08-21T21:05:24.152578",
     "exception": false,
     "start_time": "2023-08-21T21:05:24.118959",
     "status": "completed"
    },
    "tags": []
   },
   "source": [
    "**Prepare submission file**"
   ]
  },
  {
   "cell_type": "code",
   "execution_count": 28,
   "id": "a2af491f",
   "metadata": {
    "execution": {
     "iopub.execute_input": "2023-08-21T21:05:24.223545Z",
     "iopub.status.busy": "2023-08-21T21:05:24.223010Z",
     "iopub.status.idle": "2023-08-21T21:07:48.917350Z",
     "shell.execute_reply": "2023-08-21T21:07:48.916009Z"
    },
    "papermill": {
     "duration": 144.766691,
     "end_time": "2023-08-21T21:07:48.953511",
     "exception": false,
     "start_time": "2023-08-21T21:05:24.186820",
     "status": "completed"
    },
    "tags": []
   },
   "outputs": [
    {
     "name": "stdout",
     "output_type": "stream",
     "text": [
      "n_samples_predicted, n_targets_predicted 141865 1499\n",
      "\n",
      "Total memory usage: 6572.174588 Megabytes\n",
      "(31900678, 3)\n"
     ]
    },
    {
     "data": {
      "text/html": [
       "<div>\n",
       "<style scoped>\n",
       "    .dataframe tbody tr th:only-of-type {\n",
       "        vertical-align: middle;\n",
       "    }\n",
       "\n",
       "    .dataframe tbody tr th {\n",
       "        vertical-align: top;\n",
       "    }\n",
       "\n",
       "    .dataframe thead th {\n",
       "        text-align: right;\n",
       "    }\n",
       "</style>\n",
       "<table border=\"1\" class=\"dataframe\">\n",
       "  <thead>\n",
       "    <tr style=\"text-align: right;\">\n",
       "      <th></th>\n",
       "      <th>Protein Id</th>\n",
       "      <th>GO Term Id</th>\n",
       "      <th>Prediction</th>\n",
       "    </tr>\n",
       "  </thead>\n",
       "  <tbody>\n",
       "    <tr>\n",
       "      <th>0</th>\n",
       "      <td>Q9CQV8</td>\n",
       "      <td>GO:0005575</td>\n",
       "      <td>0.879</td>\n",
       "    </tr>\n",
       "    <tr>\n",
       "      <th>1</th>\n",
       "      <td>Q9CQV8</td>\n",
       "      <td>GO:0008150</td>\n",
       "      <td>0.827</td>\n",
       "    </tr>\n",
       "    <tr>\n",
       "      <th>2</th>\n",
       "      <td>Q9CQV8</td>\n",
       "      <td>GO:0110165</td>\n",
       "      <td>0.869</td>\n",
       "    </tr>\n",
       "    <tr>\n",
       "      <th>3</th>\n",
       "      <td>Q9CQV8</td>\n",
       "      <td>GO:0003674</td>\n",
       "      <td>0.769</td>\n",
       "    </tr>\n",
       "    <tr>\n",
       "      <th>4</th>\n",
       "      <td>Q9CQV8</td>\n",
       "      <td>GO:0005622</td>\n",
       "      <td>0.755</td>\n",
       "    </tr>\n",
       "    <tr>\n",
       "      <th>...</th>\n",
       "      <td>...</td>\n",
       "      <td>...</td>\n",
       "      <td>...</td>\n",
       "    </tr>\n",
       "    <tr>\n",
       "      <th>212655473</th>\n",
       "      <td>A0A3G2FQK2</td>\n",
       "      <td>GO:0030246</td>\n",
       "      <td>0.025</td>\n",
       "    </tr>\n",
       "    <tr>\n",
       "      <th>212655481</th>\n",
       "      <td>A0A3G2FQK2</td>\n",
       "      <td>GO:1901681</td>\n",
       "      <td>0.026</td>\n",
       "    </tr>\n",
       "    <tr>\n",
       "      <th>212655520</th>\n",
       "      <td>A0A3G2FQK2</td>\n",
       "      <td>GO:0061134</td>\n",
       "      <td>0.930</td>\n",
       "    </tr>\n",
       "    <tr>\n",
       "      <th>212655591</th>\n",
       "      <td>A0A3G2FQK2</td>\n",
       "      <td>GO:0051346</td>\n",
       "      <td>0.016</td>\n",
       "    </tr>\n",
       "    <tr>\n",
       "      <th>212655603</th>\n",
       "      <td>A0A3G2FQK2</td>\n",
       "      <td>GO:0004540</td>\n",
       "      <td>0.012</td>\n",
       "    </tr>\n",
       "  </tbody>\n",
       "</table>\n",
       "<p>31900678 rows × 3 columns</p>\n",
       "</div>"
      ],
      "text/plain": [
       "           Protein Id  GO Term Id  Prediction\n",
       "0              Q9CQV8  GO:0005575       0.879\n",
       "1              Q9CQV8  GO:0008150       0.827\n",
       "2              Q9CQV8  GO:0110165       0.869\n",
       "3              Q9CQV8  GO:0003674       0.769\n",
       "4              Q9CQV8  GO:0005622       0.755\n",
       "...               ...         ...         ...\n",
       "212655473  A0A3G2FQK2  GO:0030246       0.025\n",
       "212655481  A0A3G2FQK2  GO:1901681       0.026\n",
       "212655520  A0A3G2FQK2  GO:0061134       0.930\n",
       "212655591  A0A3G2FQK2  GO:0051346       0.016\n",
       "212655603  A0A3G2FQK2  GO:0004540       0.012\n",
       "\n",
       "[31900678 rows x 3 columns]"
      ]
     },
     "metadata": {},
     "output_type": "display_data"
    },
    {
     "name": "stdout",
     "output_type": "stream",
     "text": [
      "CPU times: user 1min 56s, sys: 29.4 s, total: 2min 26s\n",
      "Wall time: 2min 24s\n"
     ]
    }
   ],
   "source": [
    "%%time\n",
    "df_submission = pd.DataFrame(columns = ['Protein Id', 'GO Term Id','Prediction'])\n",
    "\n",
    "n_targets_predicted = preds.shape[1]\n",
    "n_samples_predicted = preds.shape[0]\n",
    "print('n_samples_predicted, n_targets_predicted',  n_samples_predicted, n_targets_predicted )\n",
    "\n",
    "\n",
    "protein_list = []\n",
    "for k in list(test_protein_ids):\n",
    "    protein_list += [k] * n_targets_predicted\n",
    "df_submission['Protein Id'] = protein_list\n",
    "\n",
    "df_submission['GO Term Id'] = list(Y_labels) * n_samples_predicted\n",
    "df_submission['Prediction'] = preds.ravel()\n",
    "\n",
    "df_submission = df_submission.round(3)\n",
    "df_submission = df_submission[ df_submission['Prediction'] > 0.01  ]\n",
    "\n",
    "memory_usage_per_column = df_submission.memory_usage(deep=True)\n",
    "total_memory_usage = memory_usage_per_column.sum()\n",
    "print(\"\\nTotal memory usage:\", total_memory_usage/1e6, \"Megabytes\")\n",
    "\n",
    "print(df_submission.shape)\n",
    "display(df_submission)"
   ]
  },
  {
   "cell_type": "code",
   "execution_count": 29,
   "id": "0a37a25a",
   "metadata": {
    "execution": {
     "iopub.execute_input": "2023-08-21T21:07:49.034598Z",
     "iopub.status.busy": "2023-08-21T21:07:49.032922Z",
     "iopub.status.idle": "2023-08-21T21:10:01.899645Z",
     "shell.execute_reply": "2023-08-21T21:10:01.898415Z"
    },
    "papermill": {
     "duration": 132.947927,
     "end_time": "2023-08-21T21:10:01.938013",
     "exception": false,
     "start_time": "2023-08-21T21:07:48.990086",
     "status": "completed"
    },
    "tags": []
   },
   "outputs": [
    {
     "name": "stdout",
     "output_type": "stream",
     "text": [
      "CPU times: user 2min 11s, sys: 1.32 s, total: 2min 12s\n",
      "Wall time: 2min 12s\n"
     ]
    }
   ],
   "source": [
    "%%time\n",
    "import gc\n",
    "if 0:\n",
    "    del preds \n",
    "    \n",
    "gc.collect()\n",
    "\n",
    "df_submission.to_csv(\"submission.tsv\",header=False, index=False,sep='\\t')"
   ]
  },
  {
   "cell_type": "code",
   "execution_count": 30,
   "id": "8bbd7dd0",
   "metadata": {
    "execution": {
     "iopub.execute_input": "2023-08-21T21:10:02.015848Z",
     "iopub.status.busy": "2023-08-21T21:10:02.015380Z",
     "iopub.status.idle": "2023-08-21T21:10:06.009984Z",
     "shell.execute_reply": "2023-08-21T21:10:06.005264Z"
    },
    "papermill": {
     "duration": 4.039706,
     "end_time": "2023-08-21T21:10:06.013811",
     "exception": false,
     "start_time": "2023-08-21T21:10:01.974105",
     "status": "completed"
    },
    "tags": []
   },
   "outputs": [
    {
     "name": "stdout",
     "output_type": "stream",
     "text": [
      "(31900678, 3)\n"
     ]
    },
    {
     "data": {
      "image/png": "[encoded data removed]",
      "text/plain": [
       "<Figure size 1500x400 with 1 Axes>"
      ]
     },
     "metadata": {},
     "output_type": "display_data"
    },
    {
     "name": "stdout",
     "output_type": "stream",
     "text": [
      "(31900678, 3)\n"
     ]
    },
    {
     "data": {
      "text/html": [
       "<div>\n",
       "<style scoped>\n",
       "    .dataframe tbody tr th:only-of-type {\n",
       "        vertical-align: middle;\n",
       "    }\n",
       "\n",
       "    .dataframe tbody tr th {\n",
       "        vertical-align: top;\n",
       "    }\n",
       "\n",
       "    .dataframe thead th {\n",
       "        text-align: right;\n",
       "    }\n",
       "</style>\n",
       "<table border=\"1\" class=\"dataframe\">\n",
       "  <thead>\n",
       "    <tr style=\"text-align: right;\">\n",
       "      <th></th>\n",
       "      <th>Prediction</th>\n",
       "    </tr>\n",
       "  </thead>\n",
       "  <tbody>\n",
       "    <tr>\n",
       "      <th>count</th>\n",
       "      <td>3.190068e+07</td>\n",
       "    </tr>\n",
       "    <tr>\n",
       "      <th>mean</th>\n",
       "      <td>1.267144e-01</td>\n",
       "    </tr>\n",
       "    <tr>\n",
       "      <th>std</th>\n",
       "      <td>2.051429e-01</td>\n",
       "    </tr>\n",
       "    <tr>\n",
       "      <th>min</th>\n",
       "      <td>1.100000e-02</td>\n",
       "    </tr>\n",
       "    <tr>\n",
       "      <th>25%</th>\n",
       "      <td>1.800000e-02</td>\n",
       "    </tr>\n",
       "    <tr>\n",
       "      <th>50%</th>\n",
       "      <td>3.800000e-02</td>\n",
       "    </tr>\n",
       "    <tr>\n",
       "      <th>75%</th>\n",
       "      <td>1.170000e-01</td>\n",
       "    </tr>\n",
       "    <tr>\n",
       "      <th>max</th>\n",
       "      <td>1.000000e+00</td>\n",
       "    </tr>\n",
       "  </tbody>\n",
       "</table>\n",
       "</div>"
      ],
      "text/plain": [
       "         Prediction\n",
       "count  3.190068e+07\n",
       "mean   1.267144e-01\n",
       "std    2.051429e-01\n",
       "min    1.100000e-02\n",
       "25%    1.800000e-02\n",
       "50%    3.800000e-02\n",
       "75%    1.170000e-01\n",
       "max    1.000000e+00"
      ]
     },
     "metadata": {},
     "output_type": "display_data"
    },
    {
     "name": "stdout",
     "output_type": "stream",
     "text": [
      "CPU times: user 3.88 s, sys: 320 ms, total: 4.2 s\n",
      "Wall time: 3.98 s\n"
     ]
    }
   ],
   "source": [
    "%%time\n",
    "print(df_submission.shape)\n",
    "plt.figure(figsize = (15,4))\n",
    "plt.hist(df_submission['Prediction'].values, bins = 1000 )\n",
    "plt.show()\n",
    "print(df_submission.shape)\n",
    "display(df_submission.describe())"
   ]
  },
  {
   "cell_type": "code",
   "execution_count": 31,
   "id": "43e49064",
   "metadata": {
    "execution": {
     "iopub.execute_input": "2023-08-21T21:10:06.100788Z",
     "iopub.status.busy": "2023-08-21T21:10:06.100225Z",
     "iopub.status.idle": "2023-08-21T21:10:07.468558Z",
     "shell.execute_reply": "2023-08-21T21:10:07.466476Z"
    },
    "papermill": {
     "duration": 1.412608,
     "end_time": "2023-08-21T21:10:07.471220",
     "exception": false,
     "start_time": "2023-08-21T21:10:06.058612",
     "status": "completed"
    },
    "tags": []
   },
   "outputs": [
    {
     "name": "stdout",
     "output_type": "stream",
     "text": [
      "0.1 8842165 0.041579735237206386\n",
      "0.2 5567184 0.026179339193151407\n",
      "0.25 4714493 0.02216961238765199\n",
      "0.28 4331548 0.020368837157783287\n",
      "0.3 4098241 0.01927172538832559\n",
      "0.4 3173094 0.014921278714293182\n",
      "0.5 2480086 0.01166245136179909\n",
      "0.6 1916691 0.009013121143016032\n",
      "0.7 1403125 0.006598108721642857\n",
      "0.8 928658 0.004366956934858557\n",
      "0.9 464048 0.002182157082270592\n",
      "1 0 0.0\n",
      "\n",
      "4420307.0 0.02073054584885722\n"
     ]
    }
   ],
   "source": [
    "for t in [0.1,0.2, 0.25,0.28, 0.3,0.4,0.5,0.6,0.7,0.8,0.9,1]:\n",
    "    m = df_submission['Prediction'] > t\n",
    "    print(t, m.sum(), m.sum()/ (n_samples_predicted * n_targets_predicted ) )\n",
    "    \n",
    "print()    \n",
    "try:\n",
    "    print( Y.sum(),  Y.sum()/ (Y.shape[0] * Y.shape[1]) )\n",
    "except:\n",
    "    pass    \n",
    "\n",
    "##print('Here is fast rationale why we should think of threshold for F1 is around 0.28 - number of 1 in that case corresponds to train data')"
   ]
  },
  {
   "cell_type": "code",
   "execution_count": 32,
   "id": "12ffb63f",
   "metadata": {
    "execution": {
     "iopub.execute_input": "2023-08-21T21:10:07.547305Z",
     "iopub.status.busy": "2023-08-21T21:10:07.546884Z",
     "iopub.status.idle": "2023-08-21T21:10:07.553806Z",
     "shell.execute_reply": "2023-08-21T21:10:07.552575Z"
    },
    "papermill": {
     "duration": 0.047811,
     "end_time": "2023-08-21T21:10:07.556285",
     "exception": false,
     "start_time": "2023-08-21T21:10:07.508474",
     "status": "completed"
    },
    "tags": []
   },
   "outputs": [
    {
     "name": "stdout",
     "output_type": "stream",
     "text": [
      "2959.8 seconds passed total \n"
     ]
    }
   ],
   "source": [
    "print('%.1f seconds passed total '%(time.time()-t0start) )"
   ]
  },
  {
   "cell_type": "code",
   "execution_count": null,
   "id": "fa79e966",
   "metadata": {
    "papermill": {
     "duration": 0.03725,
     "end_time": "2023-08-21T21:10:07.631376",
     "exception": false,
     "start_time": "2023-08-21T21:10:07.594126",
     "status": "completed"
    },
    "tags": []
   },
   "outputs": [],
   "source": []
  }
 ],
 "metadata": {
  "kernelspec": {
   "display_name": "Python 3",
   "language": "python",
   "name": "python3"
  },
  "language_info": {
   "codemirror_mode": {
    "name": "ipython",
    "version": 3
   },
   "file_extension": ".py",
   "mimetype": "text/x-python",
   "name": "python",
   "nbconvert_exporter": "python",
   "pygments_lexer": "ipython3",
   "version": "3.10.12"
  },
  "papermill": {
   "default_parameters": {},
   "duration": 2974.57892,
   "end_time": "2023-08-21T21:10:10.704321",
   "environment_variables": {},
   "exception": null,
   "input_path": "__notebook__.ipynb",
   "output_path": "__notebook__.ipynb",
   "parameters": {},
   "start_time": "2023-08-21T20:20:36.125401",
   "version": "2.4.0"
  }
 },
 "nbformat": 4,
 "nbformat_minor": 5
}
