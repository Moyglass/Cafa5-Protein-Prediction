{
 "cells": [
  {
   "cell_type": "code",
   "execution_count": 1,
   "id": "c630037c",
   "metadata": {
    "_cell_guid": "b1076dfc-b9ad-4769-8c92-a6c4dae69d19",
    "_uuid": "8f2839f25d086af736a60e9eeb907d3b93b6e0e5",
    "execution": {
     "iopub.execute_input": "2023-07-27T11:23:14.017713Z",
     "iopub.status.busy": "2023-07-27T11:23:14.017268Z",
     "iopub.status.idle": "2023-07-27T11:23:15.544285Z",
     "shell.execute_reply": "2023-07-27T11:23:15.543038Z"
    },
    "papermill": {
     "duration": 1.547928,
     "end_time": "2023-07-27T11:23:15.547360",
     "exception": false,
     "start_time": "2023-07-27T11:23:13.999432",
     "status": "completed"
    },
    "tags": []
   },
   "outputs": [
    {
     "name": "stderr",
     "output_type": "stream",
     "text": [
      "/opt/conda/lib/python3.10/site-packages/scipy/__init__.py:146: UserWarning: A NumPy version >=1.16.5 and <1.23.0 is required for this version of SciPy (detected version 1.23.5\n",
      "  warnings.warn(f\"A NumPy version >={np_minversion} and <{np_maxversion}\"\n"
     ]
    }
   ],
   "source": [
    "# This Python 3 environment comes with many helpful analytics libraries installed\n",
    "# It is defined by the kaggle/python Docker image: https://github.com/kaggle/docker-python\n",
    "# For example, here's several helpful packages to load\n",
    "\n",
    "import pandas as pd\n",
    "import numpy as np\n",
    "import seaborn as sns\n",
    "import matplotlib.pyplot as plt\n",
    "\n",
    "# Input data files are available in the read-only \"../input/\" directory\n",
    "\n",
    "\n",
    "# You can write up to 20GB to the current directory (/kaggle/working/) that gets preserved as output when you create a version using \"Save & Run All\" \n",
    "# You can also write temporary files to /kaggle/temp/, but they won't be saved outside of the current session"
   ]
  },
  {
   "cell_type": "markdown",
   "id": "a7fe425f",
   "metadata": {
    "papermill": {
     "duration": 0.015757,
     "end_time": "2023-07-27T11:23:15.579197",
     "exception": false,
     "start_time": "2023-07-27T11:23:15.563440",
     "status": "completed"
    },
    "tags": []
   },
   "source": [
    "Loading Dataset 'train_terms.tsv' which contains the list of annotated terms (functions) for the proteins. We will extract the labels aka GO term ID and create a label dataframe for the protein embeddings."
   ]
  },
  {
   "cell_type": "markdown",
   "id": "b8539e37",
   "metadata": {
    "papermill": {
     "duration": 0.01534,
     "end_time": "2023-07-27T11:23:15.610157",
     "exception": false,
     "start_time": "2023-07-27T11:23:15.594817",
     "status": "completed"
    },
    "tags": []
   },
   "source": [
    "Gene Ontology(GO)is a controlled vocabulary that describes the functions of genes and gene products. It is constantly being updated as new information becomes available."
   ]
  },
  {
   "cell_type": "code",
   "execution_count": 2,
   "id": "c0934233",
   "metadata": {
    "execution": {
     "iopub.execute_input": "2023-07-27T11:23:15.643608Z",
     "iopub.status.busy": "2023-07-27T11:23:15.643159Z",
     "iopub.status.idle": "2023-07-27T11:23:19.737790Z",
     "shell.execute_reply": "2023-07-27T11:23:19.736327Z"
    },
    "papermill": {
     "duration": 4.116089,
     "end_time": "2023-07-27T11:23:19.741910",
     "exception": false,
     "start_time": "2023-07-27T11:23:15.625821",
     "status": "completed"
    },
    "tags": []
   },
   "outputs": [
    {
     "name": "stdout",
     "output_type": "stream",
     "text": [
      "(5363863, 3)\n"
     ]
    }
   ],
   "source": [
    "train_terms = pd.read_csv(\"/kaggle/input/cafa-5-protein-function-prediction/Train/train_terms.tsv\",sep=\"\\t\")\n",
    "print(train_terms.shape)"
   ]
  },
  {
   "cell_type": "markdown",
   "id": "1a4ab50f",
   "metadata": {
    "papermill": {
     "duration": 0.016608,
     "end_time": "2023-07-27T11:23:19.776448",
     "exception": false,
     "start_time": "2023-07-27T11:23:19.759840",
     "status": "completed"
    },
    "tags": []
   },
   "source": [
    "train_terms dataframe is composed of 3 columns and 5363863 entries. We can see all 3 dimensions of our dataset below"
   ]
  },
  {
   "cell_type": "code",
   "execution_count": 3,
   "id": "1d3a0de9",
   "metadata": {
    "execution": {
     "iopub.execute_input": "2023-07-27T11:23:19.812404Z",
     "iopub.status.busy": "2023-07-27T11:23:19.811928Z",
     "iopub.status.idle": "2023-07-27T11:23:19.834653Z",
     "shell.execute_reply": "2023-07-27T11:23:19.833280Z"
    },
    "papermill": {
     "duration": 0.044965,
     "end_time": "2023-07-27T11:23:19.837332",
     "exception": false,
     "start_time": "2023-07-27T11:23:19.792367",
     "status": "completed"
    },
    "tags": []
   },
   "outputs": [
    {
     "data": {
      "text/html": [
       "<div>\n",
       "<style scoped>\n",
       "    .dataframe tbody tr th:only-of-type {\n",
       "        vertical-align: middle;\n",
       "    }\n",
       "\n",
       "    .dataframe tbody tr th {\n",
       "        vertical-align: top;\n",
       "    }\n",
       "\n",
       "    .dataframe thead th {\n",
       "        text-align: right;\n",
       "    }\n",
       "</style>\n",
       "<table border=\"1\" class=\"dataframe\">\n",
       "  <thead>\n",
       "    <tr style=\"text-align: right;\">\n",
       "      <th></th>\n",
       "      <th>EntryID</th>\n",
       "      <th>term</th>\n",
       "      <th>aspect</th>\n",
       "    </tr>\n",
       "  </thead>\n",
       "  <tbody>\n",
       "    <tr>\n",
       "      <th>0</th>\n",
       "      <td>A0A009IHW8</td>\n",
       "      <td>GO:0008152</td>\n",
       "      <td>BPO</td>\n",
       "    </tr>\n",
       "    <tr>\n",
       "      <th>1</th>\n",
       "      <td>A0A009IHW8</td>\n",
       "      <td>GO:0034655</td>\n",
       "      <td>BPO</td>\n",
       "    </tr>\n",
       "    <tr>\n",
       "      <th>2</th>\n",
       "      <td>A0A009IHW8</td>\n",
       "      <td>GO:0072523</td>\n",
       "      <td>BPO</td>\n",
       "    </tr>\n",
       "    <tr>\n",
       "      <th>3</th>\n",
       "      <td>A0A009IHW8</td>\n",
       "      <td>GO:0044270</td>\n",
       "      <td>BPO</td>\n",
       "    </tr>\n",
       "    <tr>\n",
       "      <th>4</th>\n",
       "      <td>A0A009IHW8</td>\n",
       "      <td>GO:0006753</td>\n",
       "      <td>BPO</td>\n",
       "    </tr>\n",
       "  </tbody>\n",
       "</table>\n",
       "</div>"
      ],
      "text/plain": [
       "      EntryID        term aspect\n",
       "0  A0A009IHW8  GO:0008152    BPO\n",
       "1  A0A009IHW8  GO:0034655    BPO\n",
       "2  A0A009IHW8  GO:0072523    BPO\n",
       "3  A0A009IHW8  GO:0044270    BPO\n",
       "4  A0A009IHW8  GO:0006753    BPO"
      ]
     },
     "execution_count": 3,
     "metadata": {},
     "output_type": "execute_result"
    }
   ],
   "source": [
    "train_terms.head()"
   ]
  },
  {
   "cell_type": "markdown",
   "id": "6b59ab94",
   "metadata": {
    "papermill": {
     "duration": 0.015629,
     "end_time": "2023-07-27T11:23:19.869032",
     "exception": false,
     "start_time": "2023-07-27T11:23:19.853403",
     "status": "completed"
    },
    "tags": []
   },
   "source": [
    "If we look at the first entry of train_terms.tsv, we can see that it contains protein id(A0A009IHW8), the GO term(GO:0008152) and its aspect(BPO)"
   ]
  },
  {
   "cell_type": "markdown",
   "id": "201cba23",
   "metadata": {
    "papermill": {
     "duration": 0.015676,
     "end_time": "2023-07-27T11:23:19.900617",
     "exception": false,
     "start_time": "2023-07-27T11:23:19.884941",
     "status": "completed"
    },
    "tags": []
   },
   "source": [
    "**Overview of train_sequence.fasta**"
   ]
  },
  {
   "cell_type": "markdown",
   "id": "76d44058",
   "metadata": {
    "papermill": {
     "duration": 0.015696,
     "end_time": "2023-07-27T11:23:19.932239",
     "exception": false,
     "start_time": "2023-07-27T11:23:19.916543",
     "status": "completed"
    },
    "tags": []
   },
   "source": [
    "In bioinformatics and biochemistry, the FASTA format is a text-based format for representing either nucleotide sequences or amino acid (protein) sequences, in which nucleotides or amino acids are represented using single-letter codes."
   ]
  },
  {
   "cell_type": "code",
   "execution_count": 4,
   "id": "845fc28f",
   "metadata": {
    "execution": {
     "iopub.execute_input": "2023-07-27T11:23:19.967564Z",
     "iopub.status.busy": "2023-07-27T11:23:19.967125Z",
     "iopub.status.idle": "2023-07-27T11:23:21.425249Z",
     "shell.execute_reply": "2023-07-27T11:23:21.423938Z"
    },
    "papermill": {
     "duration": 1.478487,
     "end_time": "2023-07-27T11:23:21.428090",
     "exception": false,
     "start_time": "2023-07-27T11:23:19.949603",
     "status": "completed"
    },
    "tags": []
   },
   "outputs": [],
   "source": [
    "with open(\"/kaggle/input/cafa-5-protein-function-prediction/Train/train_sequences.fasta\", \"r\") as file:\n",
    "    fasta_100 = file.readlines()[:100]"
   ]
  },
  {
   "cell_type": "code",
   "execution_count": 5,
   "id": "0ad3e62d",
   "metadata": {
    "execution": {
     "iopub.execute_input": "2023-07-27T11:23:21.462768Z",
     "iopub.status.busy": "2023-07-27T11:23:21.462049Z",
     "iopub.status.idle": "2023-07-27T11:23:21.470354Z",
     "shell.execute_reply": "2023-07-27T11:23:21.469138Z"
    },
    "papermill": {
     "duration": 0.028564,
     "end_time": "2023-07-27T11:23:21.472700",
     "exception": false,
     "start_time": "2023-07-27T11:23:21.444136",
     "status": "completed"
    },
    "tags": []
   },
   "outputs": [
    {
     "data": {
      "text/plain": [
       "['>P20536 sp|P20536|UNG_VACCC Uracil-DNA glycosylase OS=Vaccinia virus (strain Copenhagen) OX=10249 GN=UNG PE=1 SV=1\\n',\n",
       " 'MNSVTVSHAPYTITYHDDWEPVMSQLVEFYNEVASWLLRDETSPIPDKFFIQLKQPLRNK\\n',\n",
       " 'RVCVCGIDPYPKDGTGVPFESPNFTKKSIKEIASSISRLTGVIDYKGYNLNIIDGVIPWN\\n',\n",
       " 'YYLSCKLGETKSHAIYWDKISKLLLQHITKHVSVLYCLGKTDFSNIRAKLESPVTTIVGY\\n',\n",
       " 'HPAARDRQFEKDRSFEIINVLLELDNKVPINWAQGFIY\\n',\n",
       " '>O73864 sp|O73864|WNT11_DANRE Protein Wnt-11 OS=Danio rerio OX=7955 GN=wnt11 PE=2 SV=1\\n',\n",
       " 'MTEYRNFLLLFITSLSVIYPCTGISWLGLTINGSSVGWNQTHHCKLLDGLVPDQQQLCKR\\n',\n",
       " 'NLELMHSIVRAARLTKSACTSSFSDMRWNWSSIESAPHFTPDLAKGTREAAFVVSLAAAV\\n',\n",
       " 'VSHAIARACASGDLPSCSCAAMPSEQAAPDFRWGGCGDNLRYYGLQMGSAFSDAPMRNRR\\n',\n",
       " 'SGPQDFRLMQLHNNAVGRQVLMDSLEMKCKCHGVSGSCSVKTCWKGLQDISTISADLKSK\\n']"
      ]
     },
     "execution_count": 5,
     "metadata": {},
     "output_type": "execute_result"
    }
   ],
   "source": [
    "fasta_100[:10]"
   ]
  },
  {
   "cell_type": "markdown",
   "id": "16227fec",
   "metadata": {
    "papermill": {
     "duration": 0.01606,
     "end_time": "2023-07-27T11:23:21.504970",
     "exception": false,
     "start_time": "2023-07-27T11:23:21.488910",
     "status": "completed"
    },
    "tags": []
   },
   "source": [
    "Understand the fasta header: https://www.uniprot.org/help/fasta-headers"
   ]
  },
  {
   "cell_type": "markdown",
   "id": "21e993c4",
   "metadata": {
    "papermill": {
     "duration": 0.016166,
     "end_time": "2023-07-27T11:23:21.537250",
     "exception": false,
     "start_time": "2023-07-27T11:23:21.521084",
     "status": "completed"
    },
    "tags": []
   },
   "source": [
    "**Loading the protein embeddings**"
   ]
  },
  {
   "cell_type": "markdown",
   "id": "d6f168cc",
   "metadata": {
    "papermill": {
     "duration": 0.015781,
     "end_time": "2023-07-27T11:23:21.569118",
     "exception": false,
     "start_time": "2023-07-27T11:23:21.553337",
     "status": "completed"
    },
    "tags": []
   },
   "source": [
    "We will now load the pre calculated protein embeddings created by Sergei Fironov using the Rost Lab's T5 protein language model.\n",
    "\n",
    "(https://www.kaggle.com/datasets/sergeifironov/t5embeds)\n",
    "\n",
    "The protein embeddings to be used for training are recorded in train_embeds.npy and the corresponding protein ids are available in train_ids.npy.\n",
    "\n",
    "First, we will load the protein ids of the protein embeddings in the train dataset contained in train_ids.npy into a numpy array."
   ]
  },
  {
   "cell_type": "markdown",
   "id": "57a31dcc",
   "metadata": {
    "papermill": {
     "duration": 0.015902,
     "end_time": "2023-07-27T11:23:21.601229",
     "exception": false,
     "start_time": "2023-07-27T11:23:21.585327",
     "status": "completed"
    },
    "tags": []
   },
   "source": [
    "T5 (Text-To-Text Transfer Transformer) is a versatile transformer-based model capable of various natural language processing tasks. In the context of protein embeddings, T5 can be fine-tuned to learn protein representations by treating the amino acid sequences as text inputs."
   ]
  },
  {
   "cell_type": "markdown",
   "id": "222c3dbd",
   "metadata": {
    "papermill": {
     "duration": 0.015607,
     "end_time": "2023-07-27T11:23:21.632896",
     "exception": false,
     "start_time": "2023-07-27T11:23:21.617289",
     "status": "completed"
    },
    "tags": []
   },
   "source": [
    "Each protein's amino acid sequence is considered as a \"sentence\" or \"text,\" and the corresponding protein function(s) serve as the \"labels\" or \"categories.\" By fine-tuning the T5 model with labeled protein sequences, we can train it to predict the function(s) of unseen proteins based on their sequences."
   ]
  },
  {
   "cell_type": "code",
   "execution_count": 6,
   "id": "5eab31da",
   "metadata": {
    "execution": {
     "iopub.execute_input": "2023-07-27T11:23:21.667108Z",
     "iopub.status.busy": "2023-07-27T11:23:21.666685Z",
     "iopub.status.idle": "2023-07-27T11:23:21.724305Z",
     "shell.execute_reply": "2023-07-27T11:23:21.723099Z"
    },
    "papermill": {
     "duration": 0.078335,
     "end_time": "2023-07-27T11:23:21.727255",
     "exception": false,
     "start_time": "2023-07-27T11:23:21.648920",
     "status": "completed"
    },
    "tags": []
   },
   "outputs": [
    {
     "name": "stdout",
     "output_type": "stream",
     "text": [
      "(142246,)\n"
     ]
    }
   ],
   "source": [
    "train_protein_ids = np.load('/kaggle/input/t5embeds/train_ids.npy')\n",
    "print(train_protein_ids.shape)"
   ]
  },
  {
   "cell_type": "code",
   "execution_count": 7,
   "id": "5569c8ae",
   "metadata": {
    "execution": {
     "iopub.execute_input": "2023-07-27T11:23:21.762404Z",
     "iopub.status.busy": "2023-07-27T11:23:21.761954Z",
     "iopub.status.idle": "2023-07-27T11:23:21.769226Z",
     "shell.execute_reply": "2023-07-27T11:23:21.768388Z"
    },
    "papermill": {
     "duration": 0.027137,
     "end_time": "2023-07-27T11:23:21.771406",
     "exception": false,
     "start_time": "2023-07-27T11:23:21.744269",
     "status": "completed"
    },
    "tags": []
   },
   "outputs": [
    {
     "data": {
      "text/plain": [
       "array(['P20536', 'O73864', 'O95231', 'A0A0B4J1F4', 'P54366'], dtype='<U10')"
      ]
     },
     "execution_count": 7,
     "metadata": {},
     "output_type": "execute_result"
    }
   ],
   "source": [
    "train_protein_ids[:5]"
   ]
  },
  {
   "cell_type": "markdown",
   "id": "eb83549b",
   "metadata": {
    "papermill": {
     "duration": 0.017293,
     "end_time": "2023-07-27T11:23:21.805739",
     "exception": false,
     "start_time": "2023-07-27T11:23:21.788446",
     "status": "completed"
    },
    "tags": []
   },
   "source": [
    "After loading the files as numpy arrays, we will convert them into Pandas dataframe.\n",
    "\n",
    "Each protein embedding is a vector of length 1024. We create the resulting dataframe such that there are 1024 columns to represent the values in each of the 1024 places in the vector."
   ]
  },
  {
   "cell_type": "code",
   "execution_count": 8,
   "id": "ffc304b2",
   "metadata": {
    "execution": {
     "iopub.execute_input": "2023-07-27T11:23:21.841602Z",
     "iopub.status.busy": "2023-07-27T11:23:21.840554Z",
     "iopub.status.idle": "2023-07-27T11:23:33.074725Z",
     "shell.execute_reply": "2023-07-27T11:23:33.073299Z"
    },
    "papermill": {
     "duration": 11.254999,
     "end_time": "2023-07-27T11:23:33.077603",
     "exception": false,
     "start_time": "2023-07-27T11:23:21.822604",
     "status": "completed"
    },
    "tags": []
   },
   "outputs": [
    {
     "name": "stdout",
     "output_type": "stream",
     "text": [
      "(142246, 1024)\n"
     ]
    }
   ],
   "source": [
    "train_embeddings = np.load('/kaggle/input/t5embeds/train_embeds.npy')\n",
    "\n",
    "# Now lets convert embeddings numpy array(train_embeddings) into pandas dataframe.\n",
    "column_num = train_embeddings.shape[1]\n",
    "train_df = pd.DataFrame(train_embeddings, columns = [\"Column_\" + str(i) for i in range(1, column_num+1)])\n",
    "print(train_df.shape)"
   ]
  },
  {
   "cell_type": "code",
   "execution_count": 9,
   "id": "ea7eca63",
   "metadata": {
    "execution": {
     "iopub.execute_input": "2023-07-27T11:23:33.112748Z",
     "iopub.status.busy": "2023-07-27T11:23:33.112301Z",
     "iopub.status.idle": "2023-07-27T11:23:33.141225Z",
     "shell.execute_reply": "2023-07-27T11:23:33.140157Z"
    },
    "papermill": {
     "duration": 0.049556,
     "end_time": "2023-07-27T11:23:33.143974",
     "exception": false,
     "start_time": "2023-07-27T11:23:33.094418",
     "status": "completed"
    },
    "tags": []
   },
   "outputs": [
    {
     "data": {
      "text/html": [
       "<div>\n",
       "<style scoped>\n",
       "    .dataframe tbody tr th:only-of-type {\n",
       "        vertical-align: middle;\n",
       "    }\n",
       "\n",
       "    .dataframe tbody tr th {\n",
       "        vertical-align: top;\n",
       "    }\n",
       "\n",
       "    .dataframe thead th {\n",
       "        text-align: right;\n",
       "    }\n",
       "</style>\n",
       "<table border=\"1\" class=\"dataframe\">\n",
       "  <thead>\n",
       "    <tr style=\"text-align: right;\">\n",
       "      <th></th>\n",
       "      <th>Column_1</th>\n",
       "      <th>Column_2</th>\n",
       "      <th>Column_3</th>\n",
       "      <th>Column_4</th>\n",
       "      <th>Column_5</th>\n",
       "      <th>Column_6</th>\n",
       "      <th>Column_7</th>\n",
       "      <th>Column_8</th>\n",
       "      <th>Column_9</th>\n",
       "      <th>Column_10</th>\n",
       "      <th>...</th>\n",
       "      <th>Column_1015</th>\n",
       "      <th>Column_1016</th>\n",
       "      <th>Column_1017</th>\n",
       "      <th>Column_1018</th>\n",
       "      <th>Column_1019</th>\n",
       "      <th>Column_1020</th>\n",
       "      <th>Column_1021</th>\n",
       "      <th>Column_1022</th>\n",
       "      <th>Column_1023</th>\n",
       "      <th>Column_1024</th>\n",
       "    </tr>\n",
       "  </thead>\n",
       "  <tbody>\n",
       "    <tr>\n",
       "      <th>0</th>\n",
       "      <td>0.049488</td>\n",
       "      <td>-0.032935</td>\n",
       "      <td>0.032473</td>\n",
       "      <td>-0.033723</td>\n",
       "      <td>-0.059505</td>\n",
       "      <td>0.075936</td>\n",
       "      <td>-0.045860</td>\n",
       "      <td>-0.104476</td>\n",
       "      <td>-0.072112</td>\n",
       "      <td>0.038806</td>\n",
       "      <td>...</td>\n",
       "      <td>-0.046516</td>\n",
       "      <td>-0.028773</td>\n",
       "      <td>-0.021878</td>\n",
       "      <td>-0.097883</td>\n",
       "      <td>0.056475</td>\n",
       "      <td>0.080950</td>\n",
       "      <td>-0.020938</td>\n",
       "      <td>-0.043532</td>\n",
       "      <td>0.096463</td>\n",
       "      <td>0.073070</td>\n",
       "    </tr>\n",
       "    <tr>\n",
       "      <th>1</th>\n",
       "      <td>-0.044616</td>\n",
       "      <td>0.064925</td>\n",
       "      <td>-0.080263</td>\n",
       "      <td>-0.075338</td>\n",
       "      <td>-0.004731</td>\n",
       "      <td>0.025408</td>\n",
       "      <td>-0.024685</td>\n",
       "      <td>-0.016568</td>\n",
       "      <td>-0.038980</td>\n",
       "      <td>-0.033870</td>\n",
       "      <td>...</td>\n",
       "      <td>-0.040173</td>\n",
       "      <td>0.003925</td>\n",
       "      <td>0.006130</td>\n",
       "      <td>0.007362</td>\n",
       "      <td>-0.066848</td>\n",
       "      <td>0.106882</td>\n",
       "      <td>-0.030134</td>\n",
       "      <td>0.026724</td>\n",
       "      <td>0.027879</td>\n",
       "      <td>-0.048430</td>\n",
       "    </tr>\n",
       "    <tr>\n",
       "      <th>2</th>\n",
       "      <td>-0.020128</td>\n",
       "      <td>-0.049779</td>\n",
       "      <td>0.007894</td>\n",
       "      <td>-0.000829</td>\n",
       "      <td>-0.047737</td>\n",
       "      <td>0.086453</td>\n",
       "      <td>-0.038107</td>\n",
       "      <td>-0.036379</td>\n",
       "      <td>0.029611</td>\n",
       "      <td>0.045029</td>\n",
       "      <td>...</td>\n",
       "      <td>0.029388</td>\n",
       "      <td>0.008456</td>\n",
       "      <td>0.000697</td>\n",
       "      <td>0.013502</td>\n",
       "      <td>-0.005968</td>\n",
       "      <td>-0.011571</td>\n",
       "      <td>0.005704</td>\n",
       "      <td>-0.036103</td>\n",
       "      <td>0.007693</td>\n",
       "      <td>0.106234</td>\n",
       "    </tr>\n",
       "    <tr>\n",
       "      <th>3</th>\n",
       "      <td>-0.007515</td>\n",
       "      <td>0.060628</td>\n",
       "      <td>0.004045</td>\n",
       "      <td>0.027056</td>\n",
       "      <td>-0.021542</td>\n",
       "      <td>0.010380</td>\n",
       "      <td>-0.025064</td>\n",
       "      <td>-0.055834</td>\n",
       "      <td>0.068238</td>\n",
       "      <td>0.027764</td>\n",
       "      <td>...</td>\n",
       "      <td>0.020792</td>\n",
       "      <td>0.023307</td>\n",
       "      <td>0.009009</td>\n",
       "      <td>0.018211</td>\n",
       "      <td>0.020820</td>\n",
       "      <td>-0.031738</td>\n",
       "      <td>0.013279</td>\n",
       "      <td>-0.018357</td>\n",
       "      <td>0.008087</td>\n",
       "      <td>0.010917</td>\n",
       "    </tr>\n",
       "    <tr>\n",
       "      <th>4</th>\n",
       "      <td>0.013468</td>\n",
       "      <td>0.041516</td>\n",
       "      <td>0.018435</td>\n",
       "      <td>-0.035595</td>\n",
       "      <td>0.008770</td>\n",
       "      <td>0.018699</td>\n",
       "      <td>-0.015452</td>\n",
       "      <td>-0.038092</td>\n",
       "      <td>-0.038326</td>\n",
       "      <td>-0.012299</td>\n",
       "      <td>...</td>\n",
       "      <td>-0.044742</td>\n",
       "      <td>-0.025432</td>\n",
       "      <td>-0.060886</td>\n",
       "      <td>-0.026915</td>\n",
       "      <td>0.026342</td>\n",
       "      <td>0.017237</td>\n",
       "      <td>0.014731</td>\n",
       "      <td>-0.016861</td>\n",
       "      <td>-0.016272</td>\n",
       "      <td>0.037054</td>\n",
       "    </tr>\n",
       "  </tbody>\n",
       "</table>\n",
       "<p>5 rows × 1024 columns</p>\n",
       "</div>"
      ],
      "text/plain": [
       "   Column_1  Column_2  Column_3  Column_4  Column_5  Column_6  Column_7  \\\n",
       "0  0.049488 -0.032935  0.032473 -0.033723 -0.059505  0.075936 -0.045860   \n",
       "1 -0.044616  0.064925 -0.080263 -0.075338 -0.004731  0.025408 -0.024685   \n",
       "2 -0.020128 -0.049779  0.007894 -0.000829 -0.047737  0.086453 -0.038107   \n",
       "3 -0.007515  0.060628  0.004045  0.027056 -0.021542  0.010380 -0.025064   \n",
       "4  0.013468  0.041516  0.018435 -0.035595  0.008770  0.018699 -0.015452   \n",
       "\n",
       "   Column_8  Column_9  Column_10  ...  Column_1015  Column_1016  Column_1017  \\\n",
       "0 -0.104476 -0.072112   0.038806  ...    -0.046516    -0.028773    -0.021878   \n",
       "1 -0.016568 -0.038980  -0.033870  ...    -0.040173     0.003925     0.006130   \n",
       "2 -0.036379  0.029611   0.045029  ...     0.029388     0.008456     0.000697   \n",
       "3 -0.055834  0.068238   0.027764  ...     0.020792     0.023307     0.009009   \n",
       "4 -0.038092 -0.038326  -0.012299  ...    -0.044742    -0.025432    -0.060886   \n",
       "\n",
       "   Column_1018  Column_1019  Column_1020  Column_1021  Column_1022  \\\n",
       "0    -0.097883     0.056475     0.080950    -0.020938    -0.043532   \n",
       "1     0.007362    -0.066848     0.106882    -0.030134     0.026724   \n",
       "2     0.013502    -0.005968    -0.011571     0.005704    -0.036103   \n",
       "3     0.018211     0.020820    -0.031738     0.013279    -0.018357   \n",
       "4    -0.026915     0.026342     0.017237     0.014731    -0.016861   \n",
       "\n",
       "   Column_1023  Column_1024  \n",
       "0     0.096463     0.073070  \n",
       "1     0.027879    -0.048430  \n",
       "2     0.007693     0.106234  \n",
       "3     0.008087     0.010917  \n",
       "4    -0.016272     0.037054  \n",
       "\n",
       "[5 rows x 1024 columns]"
      ]
     },
     "execution_count": 9,
     "metadata": {},
     "output_type": "execute_result"
    }
   ],
   "source": [
    "train_df.head()"
   ]
  },
  {
   "cell_type": "code",
   "execution_count": 10,
   "id": "acdfe6e7",
   "metadata": {
    "execution": {
     "iopub.execute_input": "2023-07-27T11:23:33.180079Z",
     "iopub.status.busy": "2023-07-27T11:23:33.179660Z",
     "iopub.status.idle": "2023-07-27T11:23:33.186971Z",
     "shell.execute_reply": "2023-07-27T11:23:33.185896Z"
    },
    "papermill": {
     "duration": 0.028062,
     "end_time": "2023-07-27T11:23:33.189402",
     "exception": false,
     "start_time": "2023-07-27T11:23:33.161340",
     "status": "completed"
    },
    "tags": []
   },
   "outputs": [
    {
     "data": {
      "text/plain": [
       "(5363863, 3)"
      ]
     },
     "execution_count": 10,
     "metadata": {},
     "output_type": "execute_result"
    }
   ],
   "source": [
    "train_terms.shape"
   ]
  },
  {
   "cell_type": "code",
   "execution_count": 11,
   "id": "65322244",
   "metadata": {
    "execution": {
     "iopub.execute_input": "2023-07-27T11:23:33.226483Z",
     "iopub.status.busy": "2023-07-27T11:23:33.226081Z",
     "iopub.status.idle": "2023-07-27T11:23:33.815609Z",
     "shell.execute_reply": "2023-07-27T11:23:33.813826Z"
    },
    "papermill": {
     "duration": 0.611005,
     "end_time": "2023-07-27T11:23:33.818304",
     "exception": false,
     "start_time": "2023-07-27T11:23:33.207299",
     "status": "completed"
    },
    "tags": []
   },
   "outputs": [
    {
     "data": {
      "text/plain": [
       "31466"
      ]
     },
     "execution_count": 11,
     "metadata": {},
     "output_type": "execute_result"
    }
   ],
   "source": [
    "train_terms['term'].nunique()"
   ]
  },
  {
   "cell_type": "markdown",
   "id": "32b2dac0",
   "metadata": {
    "papermill": {
     "duration": 0.017346,
     "end_time": "2023-07-27T11:23:33.852978",
     "exception": false,
     "start_time": "2023-07-27T11:23:33.835632",
     "status": "completed"
    },
    "tags": []
   },
   "source": [
    "Plotting the most frequent terms"
   ]
  },
  {
   "cell_type": "code",
   "execution_count": 12,
   "id": "8361c530",
   "metadata": {
    "execution": {
     "iopub.execute_input": "2023-07-27T11:23:33.889367Z",
     "iopub.status.busy": "2023-07-27T11:23:33.888909Z",
     "iopub.status.idle": "2023-07-27T11:23:35.705190Z",
     "shell.execute_reply": "2023-07-27T11:23:35.704177Z"
    },
    "papermill": {
     "duration": 1.837108,
     "end_time": "2023-07-27T11:23:35.707644",
     "exception": false,
     "start_time": "2023-07-27T11:23:33.870536",
     "status": "completed"
    },
    "tags": []
   },
   "outputs": [
    {
     "data": {
      "image/png": "[encoded data removed]",
      "text/plain": [
       "<Figure size 1200x600 with 1 Axes>"
      ]
     },
     "metadata": {},
     "output_type": "display_data"
    }
   ],
   "source": [
    "# Select first 50 values for plotting\n",
    "plot_df = train_terms['term'].value_counts().iloc[:50]\n",
    "\n",
    "figure, axis = plt.subplots(1, 1, figsize=(12, 6))\n",
    "\n",
    "bp = sns.barplot(ax=axis, x=np.array(plot_df.index), y=plot_df.values)\n",
    "bp.set_xticklabels(bp.get_xticklabels(), rotation=90, size = 6)\n",
    "axis.set_title('Top 50 frequent GO term IDs')\n",
    "bp.set_xlabel(\"GO term IDs\", fontsize = 12)\n",
    "bp.set_ylabel(\"Count\", fontsize = 12)\n",
    "plt.show()"
   ]
  },
  {
   "cell_type": "code",
   "execution_count": 13,
   "id": "833e54d5",
   "metadata": {
    "execution": {
     "iopub.execute_input": "2023-07-27T11:23:35.746711Z",
     "iopub.status.busy": "2023-07-27T11:23:35.746284Z",
     "iopub.status.idle": "2023-07-27T11:23:36.785244Z",
     "shell.execute_reply": "2023-07-27T11:23:36.783943Z"
    },
    "papermill": {
     "duration": 1.06132,
     "end_time": "2023-07-27T11:23:36.787992",
     "exception": false,
     "start_time": "2023-07-27T11:23:35.726672",
     "status": "completed"
    },
    "tags": []
   },
   "outputs": [
    {
     "data": {
      "text/plain": [
       "GO:0005575    92912\n",
       "GO:0008150    92210\n",
       "GO:0110165    91286\n",
       "GO:0003674    78637\n",
       "GO:0005622    70785\n",
       "              ...  \n",
       "GO:0031772        1\n",
       "GO:0042324        1\n",
       "GO:0031771        1\n",
       "GO:0051041        1\n",
       "GO:0102628        1\n",
       "Name: term, Length: 31466, dtype: int64"
      ]
     },
     "execution_count": 13,
     "metadata": {},
     "output_type": "execute_result"
    }
   ],
   "source": [
    "train_terms.term.value_counts()"
   ]
  },
  {
   "cell_type": "markdown",
   "id": "86a045a2",
   "metadata": {
    "papermill": {
     "duration": 0.017784,
     "end_time": "2023-07-27T11:23:36.823754",
     "exception": false,
     "start_time": "2023-07-27T11:23:36.805970",
     "status": "completed"
    },
    "tags": []
   },
   "source": [
    "Using the most common GO term ID we will create a new dataframe by filtering the train terms"
   ]
  },
  {
   "cell_type": "markdown",
   "id": "6b386886",
   "metadata": {
    "papermill": {
     "duration": 0.018209,
     "end_time": "2023-07-27T11:23:36.859945",
     "exception": false,
     "start_time": "2023-07-27T11:23:36.841736",
     "status": "completed"
    },
    "tags": []
   },
   "source": [
    "**Classifing proteins using random forest**"
   ]
  },
  {
   "cell_type": "code",
   "execution_count": 14,
   "id": "cb08c2ed",
   "metadata": {
    "execution": {
     "iopub.execute_input": "2023-07-27T11:23:36.898972Z",
     "iopub.status.busy": "2023-07-27T11:23:36.898531Z",
     "iopub.status.idle": "2023-07-27T11:23:36.926711Z",
     "shell.execute_reply": "2023-07-27T11:23:36.925410Z"
    },
    "papermill": {
     "duration": 0.050783,
     "end_time": "2023-07-27T11:23:36.929283",
     "exception": false,
     "start_time": "2023-07-27T11:23:36.878500",
     "status": "completed"
    },
    "tags": []
   },
   "outputs": [
    {
     "data": {
      "text/html": [
       "<div>\n",
       "<style scoped>\n",
       "    .dataframe tbody tr th:only-of-type {\n",
       "        vertical-align: middle;\n",
       "    }\n",
       "\n",
       "    .dataframe tbody tr th {\n",
       "        vertical-align: top;\n",
       "    }\n",
       "\n",
       "    .dataframe thead th {\n",
       "        text-align: right;\n",
       "    }\n",
       "</style>\n",
       "<table border=\"1\" class=\"dataframe\">\n",
       "  <thead>\n",
       "    <tr style=\"text-align: right;\">\n",
       "      <th></th>\n",
       "      <th>EntryID</th>\n",
       "      <th>term</th>\n",
       "      <th>aspect</th>\n",
       "    </tr>\n",
       "  </thead>\n",
       "  <tbody>\n",
       "    <tr>\n",
       "      <th>0</th>\n",
       "      <td>A0A009IHW8</td>\n",
       "      <td>GO:0008152</td>\n",
       "      <td>BPO</td>\n",
       "    </tr>\n",
       "    <tr>\n",
       "      <th>1</th>\n",
       "      <td>A0A009IHW8</td>\n",
       "      <td>GO:0034655</td>\n",
       "      <td>BPO</td>\n",
       "    </tr>\n",
       "    <tr>\n",
       "      <th>2</th>\n",
       "      <td>A0A009IHW8</td>\n",
       "      <td>GO:0072523</td>\n",
       "      <td>BPO</td>\n",
       "    </tr>\n",
       "    <tr>\n",
       "      <th>3</th>\n",
       "      <td>A0A009IHW8</td>\n",
       "      <td>GO:0044270</td>\n",
       "      <td>BPO</td>\n",
       "    </tr>\n",
       "    <tr>\n",
       "      <th>4</th>\n",
       "      <td>A0A009IHW8</td>\n",
       "      <td>GO:0006753</td>\n",
       "      <td>BPO</td>\n",
       "    </tr>\n",
       "  </tbody>\n",
       "</table>\n",
       "</div>"
      ],
      "text/plain": [
       "      EntryID        term aspect\n",
       "0  A0A009IHW8  GO:0008152    BPO\n",
       "1  A0A009IHW8  GO:0034655    BPO\n",
       "2  A0A009IHW8  GO:0072523    BPO\n",
       "3  A0A009IHW8  GO:0044270    BPO\n",
       "4  A0A009IHW8  GO:0006753    BPO"
      ]
     },
     "execution_count": 14,
     "metadata": {},
     "output_type": "execute_result"
    }
   ],
   "source": [
    "train_terms.head()"
   ]
  },
  {
   "cell_type": "code",
   "execution_count": 15,
   "id": "8b1e27fc",
   "metadata": {
    "execution": {
     "iopub.execute_input": "2023-07-27T11:23:36.969734Z",
     "iopub.status.busy": "2023-07-27T11:23:36.969296Z",
     "iopub.status.idle": "2023-07-27T11:23:37.784591Z",
     "shell.execute_reply": "2023-07-27T11:23:37.783376Z"
    },
    "papermill": {
     "duration": 0.83912,
     "end_time": "2023-07-27T11:23:37.787437",
     "exception": false,
     "start_time": "2023-07-27T11:23:36.948317",
     "status": "completed"
    },
    "tags": []
   },
   "outputs": [],
   "source": [
    "# list of 10 most common proteins in the dataset\n",
    "no_labels = 10\n",
    "top_10_label_list = train_terms.value_counts('term', ascending=False).index[:no_labels].tolist()"
   ]
  },
  {
   "cell_type": "code",
   "execution_count": 16,
   "id": "8316c6a8",
   "metadata": {
    "execution": {
     "iopub.execute_input": "2023-07-27T11:23:37.827081Z",
     "iopub.status.busy": "2023-07-27T11:23:37.826630Z",
     "iopub.status.idle": "2023-07-27T11:23:37.833751Z",
     "shell.execute_reply": "2023-07-27T11:23:37.832657Z"
    },
    "papermill": {
     "duration": 0.030043,
     "end_time": "2023-07-27T11:23:37.836328",
     "exception": false,
     "start_time": "2023-07-27T11:23:37.806285",
     "status": "completed"
    },
    "tags": []
   },
   "outputs": [
    {
     "data": {
      "text/plain": [
       "['GO:0005575',\n",
       " 'GO:0008150',\n",
       " 'GO:0110165',\n",
       " 'GO:0003674',\n",
       " 'GO:0005622',\n",
       " 'GO:0009987',\n",
       " 'GO:0043226',\n",
       " 'GO:0043229',\n",
       " 'GO:0005488',\n",
       " 'GO:0043227']"
      ]
     },
     "execution_count": 16,
     "metadata": {},
     "output_type": "execute_result"
    }
   ],
   "source": [
    "top_10_label_list"
   ]
  },
  {
   "cell_type": "code",
   "execution_count": 17,
   "id": "b9811cd0",
   "metadata": {
    "execution": {
     "iopub.execute_input": "2023-07-27T11:23:37.875394Z",
     "iopub.status.busy": "2023-07-27T11:23:37.874955Z",
     "iopub.status.idle": "2023-07-27T11:23:43.694047Z",
     "shell.execute_reply": "2023-07-27T11:23:43.693115Z"
    },
    "papermill": {
     "duration": 5.842029,
     "end_time": "2023-07-27T11:23:43.696897",
     "exception": false,
     "start_time": "2023-07-27T11:23:37.854868",
     "status": "completed"
    },
    "tags": []
   },
   "outputs": [
    {
     "data": {
      "text/html": [
       "<div>\n",
       "<style scoped>\n",
       "    .dataframe tbody tr th:only-of-type {\n",
       "        vertical-align: middle;\n",
       "    }\n",
       "\n",
       "    .dataframe tbody tr th {\n",
       "        vertical-align: top;\n",
       "    }\n",
       "\n",
       "    .dataframe thead th {\n",
       "        text-align: right;\n",
       "    }\n",
       "</style>\n",
       "<table border=\"1\" class=\"dataframe\">\n",
       "  <thead>\n",
       "    <tr style=\"text-align: right;\">\n",
       "      <th></th>\n",
       "      <th>EntryID</th>\n",
       "      <th>term</th>\n",
       "      <th>aspect</th>\n",
       "      <th>label</th>\n",
       "    </tr>\n",
       "  </thead>\n",
       "  <tbody>\n",
       "    <tr>\n",
       "      <th>0</th>\n",
       "      <td>A0A009IHW8</td>\n",
       "      <td>GO:0008152</td>\n",
       "      <td>BPO</td>\n",
       "      <td>11</td>\n",
       "    </tr>\n",
       "    <tr>\n",
       "      <th>1</th>\n",
       "      <td>A0A009IHW8</td>\n",
       "      <td>GO:0034655</td>\n",
       "      <td>BPO</td>\n",
       "      <td>11</td>\n",
       "    </tr>\n",
       "    <tr>\n",
       "      <th>2</th>\n",
       "      <td>A0A009IHW8</td>\n",
       "      <td>GO:0072523</td>\n",
       "      <td>BPO</td>\n",
       "      <td>11</td>\n",
       "    </tr>\n",
       "    <tr>\n",
       "      <th>3</th>\n",
       "      <td>A0A009IHW8</td>\n",
       "      <td>GO:0044270</td>\n",
       "      <td>BPO</td>\n",
       "      <td>11</td>\n",
       "    </tr>\n",
       "    <tr>\n",
       "      <th>4</th>\n",
       "      <td>A0A009IHW8</td>\n",
       "      <td>GO:0006753</td>\n",
       "      <td>BPO</td>\n",
       "      <td>11</td>\n",
       "    </tr>\n",
       "  </tbody>\n",
       "</table>\n",
       "</div>"
      ],
      "text/plain": [
       "      EntryID        term aspect  label\n",
       "0  A0A009IHW8  GO:0008152    BPO     11\n",
       "1  A0A009IHW8  GO:0034655    BPO     11\n",
       "2  A0A009IHW8  GO:0072523    BPO     11\n",
       "3  A0A009IHW8  GO:0044270    BPO     11\n",
       "4  A0A009IHW8  GO:0006753    BPO     11"
      ]
     },
     "execution_count": 17,
     "metadata": {},
     "output_type": "execute_result"
    }
   ],
   "source": [
    "# if 'term' in 'train_terms' df is not in list then assign value '11' (for other)\n",
    "train_terms['label'] = train_terms['term'].apply(lambda x: top_10_label_list.index(x) if x in top_10_label_list else 11)\n",
    "train_terms.head()"
   ]
  },
  {
   "cell_type": "code",
   "execution_count": 18,
   "id": "367cc4b1",
   "metadata": {
    "execution": {
     "iopub.execute_input": "2023-07-27T11:23:43.737211Z",
     "iopub.status.busy": "2023-07-27T11:23:43.736306Z",
     "iopub.status.idle": "2023-07-27T11:23:50.397353Z",
     "shell.execute_reply": "2023-07-27T11:23:50.396147Z"
    },
    "papermill": {
     "duration": 6.684435,
     "end_time": "2023-07-27T11:23:50.400054",
     "exception": false,
     "start_time": "2023-07-27T11:23:43.715619",
     "status": "completed"
    },
    "tags": []
   },
   "outputs": [],
   "source": [
    "# create an empty series of required size for storing the labels\n",
    "# train_labels = np.zeros((train_protein_ids.shape[0], 1))\n",
    "train_protein_ids_df = pd.DataFrame(train_protein_ids, columns=['EntryID'])\n",
    "train_terms_label_agg = train_terms.groupby('EntryID')['label'].agg(lambda x: list(set(x))).reset_index()"
   ]
  },
  {
   "cell_type": "code",
   "execution_count": 19,
   "id": "2fc86d09",
   "metadata": {
    "execution": {
     "iopub.execute_input": "2023-07-27T11:23:50.440850Z",
     "iopub.status.busy": "2023-07-27T11:23:50.440032Z",
     "iopub.status.idle": "2023-07-27T11:23:50.665591Z",
     "shell.execute_reply": "2023-07-27T11:23:50.664323Z"
    },
    "papermill": {
     "duration": 0.249593,
     "end_time": "2023-07-27T11:23:50.668431",
     "exception": false,
     "start_time": "2023-07-27T11:23:50.418838",
     "status": "completed"
    },
    "tags": []
   },
   "outputs": [],
   "source": [
    "label_df = pd.merge(train_protein_ids_df, train_terms_label_agg, on='EntryID', how='inner')\n",
    "# label_df = list(label_df.loc[:,'label'])"
   ]
  },
  {
   "cell_type": "markdown",
   "id": "b0582fd5",
   "metadata": {
    "papermill": {
     "duration": 0.01919,
     "end_time": "2023-07-27T11:23:50.708347",
     "exception": false,
     "start_time": "2023-07-27T11:23:50.689157",
     "status": "completed"
    },
    "tags": []
   },
   "source": [
    "Proteins often have multiple functions or can be involved in various biological processes. In this case, we can use multi-label classification, where a protein may be associated with multiple function labels. The T5 model can be fine-tuned to handle multi-label tasks, predicting several functions simultaneously for a given protein sequence."
   ]
  },
  {
   "cell_type": "code",
   "execution_count": 20,
   "id": "cba15926",
   "metadata": {
    "execution": {
     "iopub.execute_input": "2023-07-27T11:23:50.748579Z",
     "iopub.status.busy": "2023-07-27T11:23:50.747974Z",
     "iopub.status.idle": "2023-07-27T11:23:50.995161Z",
     "shell.execute_reply": "2023-07-27T11:23:50.994059Z"
    },
    "papermill": {
     "duration": 0.270015,
     "end_time": "2023-07-27T11:23:50.997684",
     "exception": false,
     "start_time": "2023-07-27T11:23:50.727669",
     "status": "completed"
    },
    "tags": []
   },
   "outputs": [
    {
     "data": {
      "text/html": [
       "<style>#sk-container-id-1 {color: black;background-color: white;}#sk-container-id-1 pre{padding: 0;}#sk-container-id-1 div.sk-toggleable {background-color: white;}#sk-container-id-1 label.sk-toggleable__label {cursor: pointer;display: block;width: 100%;margin-bottom: 0;padding: 0.3em;box-sizing: border-box;text-align: center;}#sk-container-id-1 label.sk-toggleable__label-arrow:before {content: \"▸\";float: left;margin-right: 0.25em;color: #696969;}#sk-container-id-1 label.sk-toggleable__label-arrow:hover:before {color: black;}#sk-container-id-1 div.sk-estimator:hover label.sk-toggleable__label-arrow:before {color: black;}#sk-container-id-1 div.sk-toggleable__content {max-height: 0;max-width: 0;overflow: hidden;text-align: left;background-color: #f0f8ff;}#sk-container-id-1 div.sk-toggleable__content pre {margin: 0.2em;color: black;border-radius: 0.25em;background-color: #f0f8ff;}#sk-container-id-1 input.sk-toggleable__control:checked~div.sk-toggleable__content {max-height: 200px;max-width: 100%;overflow: auto;}#sk-container-id-1 input.sk-toggleable__control:checked~label.sk-toggleable__label-arrow:before {content: \"▾\";}#sk-container-id-1 div.sk-estimator input.sk-toggleable__control:checked~label.sk-toggleable__label {background-color: #d4ebff;}#sk-container-id-1 div.sk-label input.sk-toggleable__control:checked~label.sk-toggleable__label {background-color: #d4ebff;}#sk-container-id-1 input.sk-hidden--visually {border: 0;clip: rect(1px 1px 1px 1px);clip: rect(1px, 1px, 1px, 1px);height: 1px;margin: -1px;overflow: hidden;padding: 0;position: absolute;width: 1px;}#sk-container-id-1 div.sk-estimator {font-family: monospace;background-color: #f0f8ff;border: 1px dotted black;border-radius: 0.25em;box-sizing: border-box;margin-bottom: 0.5em;}#sk-container-id-1 div.sk-estimator:hover {background-color: #d4ebff;}#sk-container-id-1 div.sk-parallel-item::after {content: \"\";width: 100%;border-bottom: 1px solid gray;flex-grow: 1;}#sk-container-id-1 div.sk-label:hover label.sk-toggleable__label {background-color: #d4ebff;}#sk-container-id-1 div.sk-serial::before {content: \"\";position: absolute;border-left: 1px solid gray;box-sizing: border-box;top: 0;bottom: 0;left: 50%;z-index: 0;}#sk-container-id-1 div.sk-serial {display: flex;flex-direction: column;align-items: center;background-color: white;padding-right: 0.2em;padding-left: 0.2em;position: relative;}#sk-container-id-1 div.sk-item {position: relative;z-index: 1;}#sk-container-id-1 div.sk-parallel {display: flex;align-items: stretch;justify-content: center;background-color: white;position: relative;}#sk-container-id-1 div.sk-item::before, #sk-container-id-1 div.sk-parallel-item::before {content: \"\";position: absolute;border-left: 1px solid gray;box-sizing: border-box;top: 0;bottom: 0;left: 50%;z-index: -1;}#sk-container-id-1 div.sk-parallel-item {display: flex;flex-direction: column;z-index: 1;position: relative;background-color: white;}#sk-container-id-1 div.sk-parallel-item:first-child::after {align-self: flex-end;width: 50%;}#sk-container-id-1 div.sk-parallel-item:last-child::after {align-self: flex-start;width: 50%;}#sk-container-id-1 div.sk-parallel-item:only-child::after {width: 0;}#sk-container-id-1 div.sk-dashed-wrapped {border: 1px dashed gray;margin: 0 0.4em 0.5em 0.4em;box-sizing: border-box;padding-bottom: 0.4em;background-color: white;}#sk-container-id-1 div.sk-label label {font-family: monospace;font-weight: bold;display: inline-block;line-height: 1.2em;}#sk-container-id-1 div.sk-label-container {text-align: center;}#sk-container-id-1 div.sk-container {/* jupyter's `normalize.less` sets `[hidden] { display: none; }` but bootstrap.min.css set `[hidden] { display: none !important; }` so we also need the `!important` here to be able to override the default hidden behavior on the sphinx rendered scikit-learn.org. See: https://github.com/scikit-learn/scikit-learn/issues/21755 */display: inline-block !important;position: relative;}#sk-container-id-1 div.sk-text-repr-fallback {display: none;}</style><div id=\"sk-container-id-1\" class=\"sk-top-container\"><div class=\"sk-text-repr-fallback\"><pre>MultiLabelBinarizer()</pre><b>In a Jupyter environment, please rerun this cell to show the HTML representation or trust the notebook. <br />On GitHub, the HTML representation is unable to render, please try loading this page with nbviewer.org.</b></div><div class=\"sk-container\" hidden><div class=\"sk-item\"><div class=\"sk-estimator sk-toggleable\"><input class=\"sk-toggleable__control sk-hidden--visually\" id=\"sk-estimator-id-1\" type=\"checkbox\" checked><label for=\"sk-estimator-id-1\" class=\"sk-toggleable__label sk-toggleable__label-arrow\">MultiLabelBinarizer</label><div class=\"sk-toggleable__content\"><pre>MultiLabelBinarizer()</pre></div></div></div></div></div>"
      ],
      "text/plain": [
       "MultiLabelBinarizer()"
      ]
     },
     "execution_count": 20,
     "metadata": {},
     "output_type": "execute_result"
    }
   ],
   "source": [
    "from sklearn.preprocessing import MultiLabelBinarizer\n",
    "mlb = MultiLabelBinarizer()\n",
    "mlb.fit(label_df['label'])"
   ]
  },
  {
   "cell_type": "code",
   "execution_count": 21,
   "id": "128eb46d",
   "metadata": {
    "execution": {
     "iopub.execute_input": "2023-07-27T11:23:51.038784Z",
     "iopub.status.busy": "2023-07-27T11:23:51.038391Z",
     "iopub.status.idle": "2023-07-27T11:23:51.627763Z",
     "shell.execute_reply": "2023-07-27T11:23:51.626572Z"
    },
    "papermill": {
     "duration": 0.612855,
     "end_time": "2023-07-27T11:23:51.630570",
     "exception": false,
     "start_time": "2023-07-27T11:23:51.017715",
     "status": "completed"
    },
    "tags": []
   },
   "outputs": [
    {
     "data": {
      "text/html": [
       "<div>\n",
       "<style scoped>\n",
       "    .dataframe tbody tr th:only-of-type {\n",
       "        vertical-align: middle;\n",
       "    }\n",
       "\n",
       "    .dataframe tbody tr th {\n",
       "        vertical-align: top;\n",
       "    }\n",
       "\n",
       "    .dataframe thead th {\n",
       "        text-align: right;\n",
       "    }\n",
       "</style>\n",
       "<table border=\"1\" class=\"dataframe\">\n",
       "  <thead>\n",
       "    <tr style=\"text-align: right;\">\n",
       "      <th></th>\n",
       "      <th>0</th>\n",
       "      <th>1</th>\n",
       "      <th>2</th>\n",
       "      <th>3</th>\n",
       "      <th>4</th>\n",
       "      <th>5</th>\n",
       "      <th>6</th>\n",
       "      <th>7</th>\n",
       "      <th>8</th>\n",
       "      <th>9</th>\n",
       "      <th>11</th>\n",
       "    </tr>\n",
       "  </thead>\n",
       "  <tbody>\n",
       "    <tr>\n",
       "      <th>0</th>\n",
       "      <td>0</td>\n",
       "      <td>1</td>\n",
       "      <td>0</td>\n",
       "      <td>1</td>\n",
       "      <td>0</td>\n",
       "      <td>1</td>\n",
       "      <td>0</td>\n",
       "      <td>0</td>\n",
       "      <td>1</td>\n",
       "      <td>0</td>\n",
       "      <td>1</td>\n",
       "    </tr>\n",
       "    <tr>\n",
       "      <th>1</th>\n",
       "      <td>1</td>\n",
       "      <td>1</td>\n",
       "      <td>1</td>\n",
       "      <td>1</td>\n",
       "      <td>0</td>\n",
       "      <td>1</td>\n",
       "      <td>0</td>\n",
       "      <td>0</td>\n",
       "      <td>1</td>\n",
       "      <td>0</td>\n",
       "      <td>1</td>\n",
       "    </tr>\n",
       "    <tr>\n",
       "      <th>2</th>\n",
       "      <td>1</td>\n",
       "      <td>1</td>\n",
       "      <td>1</td>\n",
       "      <td>1</td>\n",
       "      <td>1</td>\n",
       "      <td>0</td>\n",
       "      <td>1</td>\n",
       "      <td>1</td>\n",
       "      <td>1</td>\n",
       "      <td>1</td>\n",
       "      <td>1</td>\n",
       "    </tr>\n",
       "    <tr>\n",
       "      <th>3</th>\n",
       "      <td>1</td>\n",
       "      <td>1</td>\n",
       "      <td>1</td>\n",
       "      <td>1</td>\n",
       "      <td>0</td>\n",
       "      <td>1</td>\n",
       "      <td>1</td>\n",
       "      <td>0</td>\n",
       "      <td>0</td>\n",
       "      <td>1</td>\n",
       "      <td>1</td>\n",
       "    </tr>\n",
       "    <tr>\n",
       "      <th>4</th>\n",
       "      <td>1</td>\n",
       "      <td>0</td>\n",
       "      <td>1</td>\n",
       "      <td>1</td>\n",
       "      <td>1</td>\n",
       "      <td>0</td>\n",
       "      <td>1</td>\n",
       "      <td>1</td>\n",
       "      <td>1</td>\n",
       "      <td>1</td>\n",
       "      <td>1</td>\n",
       "    </tr>\n",
       "  </tbody>\n",
       "</table>\n",
       "</div>"
      ],
      "text/plain": [
       "   0   1   2   3   4   5   6   7   8   9   11\n",
       "0   0   1   0   1   0   1   0   0   1   0   1\n",
       "1   1   1   1   1   0   1   0   0   1   0   1\n",
       "2   1   1   1   1   1   0   1   1   1   1   1\n",
       "3   1   1   1   1   0   1   1   0   0   1   1\n",
       "4   1   0   1   1   1   0   1   1   1   1   1"
      ]
     },
     "execution_count": 21,
     "metadata": {},
     "output_type": "execute_result"
    }
   ],
   "source": [
    "# transform label df into multilabel binary dataframe\n",
    "binary_matrix = mlb.transform(label_df['label'])\n",
    "binary_df = pd.DataFrame(binary_matrix, columns=mlb.classes_)\n",
    "binary_df.head()"
   ]
  },
  {
   "cell_type": "code",
   "execution_count": 22,
   "id": "f9140642",
   "metadata": {
    "execution": {
     "iopub.execute_input": "2023-07-27T11:23:51.673218Z",
     "iopub.status.busy": "2023-07-27T11:23:51.672216Z",
     "iopub.status.idle": "2023-07-27T11:23:52.208292Z",
     "shell.execute_reply": "2023-07-27T11:23:52.206707Z"
    },
    "papermill": {
     "duration": 0.561554,
     "end_time": "2023-07-27T11:23:52.211648",
     "exception": false,
     "start_time": "2023-07-27T11:23:51.650094",
     "status": "completed"
    },
    "tags": []
   },
   "outputs": [],
   "source": [
    "from sklearn.ensemble import RandomForestClassifier\n",
    "from sklearn.multioutput import MultiOutputClassifier"
   ]
  },
  {
   "cell_type": "code",
   "execution_count": 23,
   "id": "d57082e0",
   "metadata": {
    "execution": {
     "iopub.execute_input": "2023-07-27T11:23:52.255977Z",
     "iopub.status.busy": "2023-07-27T11:23:52.254934Z",
     "iopub.status.idle": "2023-07-27T11:23:52.261102Z",
     "shell.execute_reply": "2023-07-27T11:23:52.259909Z"
    },
    "papermill": {
     "duration": 0.029489,
     "end_time": "2023-07-27T11:23:52.263462",
     "exception": false,
     "start_time": "2023-07-27T11:23:52.233973",
     "status": "completed"
    },
    "tags": []
   },
   "outputs": [],
   "source": [
    "rf_classifier = RandomForestClassifier(n_estimators=3)\n",
    "multi_target_classifier = MultiOutputClassifier(rf_classifier)"
   ]
  },
  {
   "cell_type": "code",
   "execution_count": 24,
   "id": "71d5e372",
   "metadata": {
    "execution": {
     "iopub.execute_input": "2023-07-27T11:23:52.306858Z",
     "iopub.status.busy": "2023-07-27T11:23:52.306069Z",
     "iopub.status.idle": "2023-07-27T11:28:35.796756Z",
     "shell.execute_reply": "2023-07-27T11:28:35.795411Z"
    },
    "papermill": {
     "duration": 283.536484,
     "end_time": "2023-07-27T11:28:35.819228",
     "exception": false,
     "start_time": "2023-07-27T11:23:52.282744",
     "status": "completed"
    },
    "tags": []
   },
   "outputs": [
    {
     "data": {
      "text/html": [
       "<style>#sk-container-id-2 {color: black;background-color: white;}#sk-container-id-2 pre{padding: 0;}#sk-container-id-2 div.sk-toggleable {background-color: white;}#sk-container-id-2 label.sk-toggleable__label {cursor: pointer;display: block;width: 100%;margin-bottom: 0;padding: 0.3em;box-sizing: border-box;text-align: center;}#sk-container-id-2 label.sk-toggleable__label-arrow:before {content: \"▸\";float: left;margin-right: 0.25em;color: #696969;}#sk-container-id-2 label.sk-toggleable__label-arrow:hover:before {color: black;}#sk-container-id-2 div.sk-estimator:hover label.sk-toggleable__label-arrow:before {color: black;}#sk-container-id-2 div.sk-toggleable__content {max-height: 0;max-width: 0;overflow: hidden;text-align: left;background-color: #f0f8ff;}#sk-container-id-2 div.sk-toggleable__content pre {margin: 0.2em;color: black;border-radius: 0.25em;background-color: #f0f8ff;}#sk-container-id-2 input.sk-toggleable__control:checked~div.sk-toggleable__content {max-height: 200px;max-width: 100%;overflow: auto;}#sk-container-id-2 input.sk-toggleable__control:checked~label.sk-toggleable__label-arrow:before {content: \"▾\";}#sk-container-id-2 div.sk-estimator input.sk-toggleable__control:checked~label.sk-toggleable__label {background-color: #d4ebff;}#sk-container-id-2 div.sk-label input.sk-toggleable__control:checked~label.sk-toggleable__label {background-color: #d4ebff;}#sk-container-id-2 input.sk-hidden--visually {border: 0;clip: rect(1px 1px 1px 1px);clip: rect(1px, 1px, 1px, 1px);height: 1px;margin: -1px;overflow: hidden;padding: 0;position: absolute;width: 1px;}#sk-container-id-2 div.sk-estimator {font-family: monospace;background-color: #f0f8ff;border: 1px dotted black;border-radius: 0.25em;box-sizing: border-box;margin-bottom: 0.5em;}#sk-container-id-2 div.sk-estimator:hover {background-color: #d4ebff;}#sk-container-id-2 div.sk-parallel-item::after {content: \"\";width: 100%;border-bottom: 1px solid gray;flex-grow: 1;}#sk-container-id-2 div.sk-label:hover label.sk-toggleable__label {background-color: #d4ebff;}#sk-container-id-2 div.sk-serial::before {content: \"\";position: absolute;border-left: 1px solid gray;box-sizing: border-box;top: 0;bottom: 0;left: 50%;z-index: 0;}#sk-container-id-2 div.sk-serial {display: flex;flex-direction: column;align-items: center;background-color: white;padding-right: 0.2em;padding-left: 0.2em;position: relative;}#sk-container-id-2 div.sk-item {position: relative;z-index: 1;}#sk-container-id-2 div.sk-parallel {display: flex;align-items: stretch;justify-content: center;background-color: white;position: relative;}#sk-container-id-2 div.sk-item::before, #sk-container-id-2 div.sk-parallel-item::before {content: \"\";position: absolute;border-left: 1px solid gray;box-sizing: border-box;top: 0;bottom: 0;left: 50%;z-index: -1;}#sk-container-id-2 div.sk-parallel-item {display: flex;flex-direction: column;z-index: 1;position: relative;background-color: white;}#sk-container-id-2 div.sk-parallel-item:first-child::after {align-self: flex-end;width: 50%;}#sk-container-id-2 div.sk-parallel-item:last-child::after {align-self: flex-start;width: 50%;}#sk-container-id-2 div.sk-parallel-item:only-child::after {width: 0;}#sk-container-id-2 div.sk-dashed-wrapped {border: 1px dashed gray;margin: 0 0.4em 0.5em 0.4em;box-sizing: border-box;padding-bottom: 0.4em;background-color: white;}#sk-container-id-2 div.sk-label label {font-family: monospace;font-weight: bold;display: inline-block;line-height: 1.2em;}#sk-container-id-2 div.sk-label-container {text-align: center;}#sk-container-id-2 div.sk-container {/* jupyter's `normalize.less` sets `[hidden] { display: none; }` but bootstrap.min.css set `[hidden] { display: none !important; }` so we also need the `!important` here to be able to override the default hidden behavior on the sphinx rendered scikit-learn.org. See: https://github.com/scikit-learn/scikit-learn/issues/21755 */display: inline-block !important;position: relative;}#sk-container-id-2 div.sk-text-repr-fallback {display: none;}</style><div id=\"sk-container-id-2\" class=\"sk-top-container\"><div class=\"sk-text-repr-fallback\"><pre>MultiOutputClassifier(estimator=RandomForestClassifier(n_estimators=3))</pre><b>In a Jupyter environment, please rerun this cell to show the HTML representation or trust the notebook. <br />On GitHub, the HTML representation is unable to render, please try loading this page with nbviewer.org.</b></div><div class=\"sk-container\" hidden><div class=\"sk-item sk-dashed-wrapped\"><div class=\"sk-label-container\"><div class=\"sk-label sk-toggleable\"><input class=\"sk-toggleable__control sk-hidden--visually\" id=\"sk-estimator-id-2\" type=\"checkbox\" ><label for=\"sk-estimator-id-2\" class=\"sk-toggleable__label sk-toggleable__label-arrow\">MultiOutputClassifier</label><div class=\"sk-toggleable__content\"><pre>MultiOutputClassifier(estimator=RandomForestClassifier(n_estimators=3))</pre></div></div></div><div class=\"sk-parallel\"><div class=\"sk-parallel-item\"><div class=\"sk-item\"><div class=\"sk-label-container\"><div class=\"sk-label sk-toggleable\"><input class=\"sk-toggleable__control sk-hidden--visually\" id=\"sk-estimator-id-3\" type=\"checkbox\" ><label for=\"sk-estimator-id-3\" class=\"sk-toggleable__label sk-toggleable__label-arrow\">estimator: RandomForestClassifier</label><div class=\"sk-toggleable__content\"><pre>RandomForestClassifier(n_estimators=3)</pre></div></div></div><div class=\"sk-serial\"><div class=\"sk-item\"><div class=\"sk-estimator sk-toggleable\"><input class=\"sk-toggleable__control sk-hidden--visually\" id=\"sk-estimator-id-4\" type=\"checkbox\" ><label for=\"sk-estimator-id-4\" class=\"sk-toggleable__label sk-toggleable__label-arrow\">RandomForestClassifier</label><div class=\"sk-toggleable__content\"><pre>RandomForestClassifier(n_estimators=3)</pre></div></div></div></div></div></div></div></div></div></div>"
      ],
      "text/plain": [
       "MultiOutputClassifier(estimator=RandomForestClassifier(n_estimators=3))"
      ]
     },
     "execution_count": 24,
     "metadata": {},
     "output_type": "execute_result"
    }
   ],
   "source": [
    "multi_target_classifier.fit(train_df, binary_df)"
   ]
  },
  {
   "cell_type": "code",
   "execution_count": 25,
   "id": "15b59f50",
   "metadata": {
    "execution": {
     "iopub.execute_input": "2023-07-27T11:28:35.861851Z",
     "iopub.status.busy": "2023-07-27T11:28:35.860201Z",
     "iopub.status.idle": "2023-07-27T11:28:35.969620Z",
     "shell.execute_reply": "2023-07-27T11:28:35.968425Z"
    },
    "papermill": {
     "duration": 0.133715,
     "end_time": "2023-07-27T11:28:35.972567",
     "exception": false,
     "start_time": "2023-07-27T11:28:35.838852",
     "status": "completed"
    },
    "tags": []
   },
   "outputs": [],
   "source": [
    "import pickle\n",
    "with open('multi_target_classifier_model.pkl', 'wb') as file:\n",
    "    pickle.dump(multi_target_classifier, file)"
   ]
  },
  {
   "cell_type": "code",
   "execution_count": 26,
   "id": "83f3689c",
   "metadata": {
    "execution": {
     "iopub.execute_input": "2023-07-27T11:28:36.015904Z",
     "iopub.status.busy": "2023-07-27T11:28:36.015072Z",
     "iopub.status.idle": "2023-07-27T11:28:36.021777Z",
     "shell.execute_reply": "2023-07-27T11:28:36.020845Z"
    },
    "papermill": {
     "duration": 0.03126,
     "end_time": "2023-07-27T11:28:36.024425",
     "exception": false,
     "start_time": "2023-07-27T11:28:35.993165",
     "status": "completed"
    },
    "tags": []
   },
   "outputs": [
    {
     "data": {
      "text/plain": [
       "(142246, 1024)"
      ]
     },
     "execution_count": 26,
     "metadata": {},
     "output_type": "execute_result"
    }
   ],
   "source": [
    "train_df.shape"
   ]
  },
  {
   "cell_type": "code",
   "execution_count": 27,
   "id": "28162057",
   "metadata": {
    "execution": {
     "iopub.execute_input": "2023-07-27T11:28:36.066310Z",
     "iopub.status.busy": "2023-07-27T11:28:36.065864Z",
     "iopub.status.idle": "2023-07-27T11:28:36.073814Z",
     "shell.execute_reply": "2023-07-27T11:28:36.072604Z"
    },
    "papermill": {
     "duration": 0.032274,
     "end_time": "2023-07-27T11:28:36.076372",
     "exception": false,
     "start_time": "2023-07-27T11:28:36.044098",
     "status": "completed"
    },
    "tags": []
   },
   "outputs": [
    {
     "data": {
      "text/plain": [
       "(142246, 11)"
      ]
     },
     "execution_count": 27,
     "metadata": {},
     "output_type": "execute_result"
    }
   ],
   "source": [
    "binary_df.shape"
   ]
  },
  {
   "cell_type": "markdown",
   "id": "f11eec29",
   "metadata": {
    "papermill": {
     "duration": 0.019765,
     "end_time": "2023-07-27T11:28:36.116669",
     "exception": false,
     "start_time": "2023-07-27T11:28:36.096904",
     "status": "completed"
    },
    "tags": []
   },
   "source": [
    "**Submission**"
   ]
  },
  {
   "cell_type": "markdown",
   "id": "73828f6e",
   "metadata": {
    "papermill": {
     "duration": 0.019573,
     "end_time": "2023-07-27T11:28:36.156412",
     "exception": false,
     "start_time": "2023-07-27T11:28:36.136839",
     "status": "completed"
    },
    "tags": []
   },
   "source": [
    "For submission we will use the protein embeddings of the test data created by Sergei Fironov using the Rost Lab's T5 protein language model.\n",
    "\n",
    "convert to submission: 141865 x 1500\n",
    "\n",
    "why 1500?? last step output binary is 1500?"
   ]
  },
  {
   "cell_type": "code",
   "execution_count": 28,
   "id": "b4045b92",
   "metadata": {
    "execution": {
     "iopub.execute_input": "2023-07-27T11:28:36.198862Z",
     "iopub.status.busy": "2023-07-27T11:28:36.198415Z",
     "iopub.status.idle": "2023-07-27T11:28:47.572086Z",
     "shell.execute_reply": "2023-07-27T11:28:47.570925Z"
    },
    "papermill": {
     "duration": 11.398299,
     "end_time": "2023-07-27T11:28:47.574691",
     "exception": false,
     "start_time": "2023-07-27T11:28:36.176392",
     "status": "completed"
    },
    "tags": []
   },
   "outputs": [
    {
     "name": "stdout",
     "output_type": "stream",
     "text": [
      "(141865, 1024)\n"
     ]
    }
   ],
   "source": [
    "test_embeddings = np.load('/kaggle/input/t5embeds/test_embeds.npy')\n",
    "\n",
    "# Convert test_embeddings to dataframe\n",
    "column_num = test_embeddings.shape[1]\n",
    "test_df = pd.DataFrame(test_embeddings, columns = [\"Column_\" + str(i) for i in range(1, column_num+1)])\n",
    "print(test_df.shape)"
   ]
  },
  {
   "cell_type": "markdown",
   "id": "f92e7cd3",
   "metadata": {
    "papermill": {
     "duration": 0.020276,
     "end_time": "2023-07-27T11:28:47.615782",
     "exception": false,
     "start_time": "2023-07-27T11:28:47.595506",
     "status": "completed"
    },
    "tags": []
   },
   "source": [
    "The test_df is composed of 1024 columns and 141865 entries. We can see all 1024 dimensions(results will be truncated since column length is too long) of our dataset by printing out the first 5 entries using the following code:"
   ]
  },
  {
   "cell_type": "code",
   "execution_count": 29,
   "id": "16bb3801",
   "metadata": {
    "execution": {
     "iopub.execute_input": "2023-07-27T11:28:47.658706Z",
     "iopub.status.busy": "2023-07-27T11:28:47.658266Z",
     "iopub.status.idle": "2023-07-27T11:28:47.688157Z",
     "shell.execute_reply": "2023-07-27T11:28:47.686830Z"
    },
    "papermill": {
     "duration": 0.054077,
     "end_time": "2023-07-27T11:28:47.690877",
     "exception": false,
     "start_time": "2023-07-27T11:28:47.636800",
     "status": "completed"
    },
    "tags": []
   },
   "outputs": [
    {
     "data": {
      "text/html": [
       "<div>\n",
       "<style scoped>\n",
       "    .dataframe tbody tr th:only-of-type {\n",
       "        vertical-align: middle;\n",
       "    }\n",
       "\n",
       "    .dataframe tbody tr th {\n",
       "        vertical-align: top;\n",
       "    }\n",
       "\n",
       "    .dataframe thead th {\n",
       "        text-align: right;\n",
       "    }\n",
       "</style>\n",
       "<table border=\"1\" class=\"dataframe\">\n",
       "  <thead>\n",
       "    <tr style=\"text-align: right;\">\n",
       "      <th></th>\n",
       "      <th>Column_1</th>\n",
       "      <th>Column_2</th>\n",
       "      <th>Column_3</th>\n",
       "      <th>Column_4</th>\n",
       "      <th>Column_5</th>\n",
       "      <th>Column_6</th>\n",
       "      <th>Column_7</th>\n",
       "      <th>Column_8</th>\n",
       "      <th>Column_9</th>\n",
       "      <th>Column_10</th>\n",
       "      <th>...</th>\n",
       "      <th>Column_1015</th>\n",
       "      <th>Column_1016</th>\n",
       "      <th>Column_1017</th>\n",
       "      <th>Column_1018</th>\n",
       "      <th>Column_1019</th>\n",
       "      <th>Column_1020</th>\n",
       "      <th>Column_1021</th>\n",
       "      <th>Column_1022</th>\n",
       "      <th>Column_1023</th>\n",
       "      <th>Column_1024</th>\n",
       "    </tr>\n",
       "  </thead>\n",
       "  <tbody>\n",
       "    <tr>\n",
       "      <th>0</th>\n",
       "      <td>0.054705</td>\n",
       "      <td>0.063420</td>\n",
       "      <td>-0.015320</td>\n",
       "      <td>-0.016506</td>\n",
       "      <td>0.042195</td>\n",
       "      <td>0.021592</td>\n",
       "      <td>-0.118535</td>\n",
       "      <td>-0.063298</td>\n",
       "      <td>-0.046146</td>\n",
       "      <td>-0.102311</td>\n",
       "      <td>...</td>\n",
       "      <td>-0.019581</td>\n",
       "      <td>-0.043712</td>\n",
       "      <td>-0.072322</td>\n",
       "      <td>0.002404</td>\n",
       "      <td>0.018459</td>\n",
       "      <td>-0.047278</td>\n",
       "      <td>0.012195</td>\n",
       "      <td>-0.043319</td>\n",
       "      <td>0.036009</td>\n",
       "      <td>0.063093</td>\n",
       "    </tr>\n",
       "    <tr>\n",
       "      <th>1</th>\n",
       "      <td>0.090373</td>\n",
       "      <td>0.089842</td>\n",
       "      <td>-0.023887</td>\n",
       "      <td>-0.011446</td>\n",
       "      <td>0.051465</td>\n",
       "      <td>0.020982</td>\n",
       "      <td>-0.110989</td>\n",
       "      <td>-0.066646</td>\n",
       "      <td>-0.041259</td>\n",
       "      <td>-0.087551</td>\n",
       "      <td>...</td>\n",
       "      <td>-0.024399</td>\n",
       "      <td>-0.041957</td>\n",
       "      <td>-0.066329</td>\n",
       "      <td>0.006856</td>\n",
       "      <td>0.028449</td>\n",
       "      <td>-0.053758</td>\n",
       "      <td>0.009699</td>\n",
       "      <td>-0.053350</td>\n",
       "      <td>0.019644</td>\n",
       "      <td>0.079630</td>\n",
       "    </tr>\n",
       "    <tr>\n",
       "      <th>2</th>\n",
       "      <td>0.043588</td>\n",
       "      <td>0.039572</td>\n",
       "      <td>-0.014332</td>\n",
       "      <td>-0.011769</td>\n",
       "      <td>0.045109</td>\n",
       "      <td>0.015847</td>\n",
       "      <td>-0.103339</td>\n",
       "      <td>-0.047735</td>\n",
       "      <td>-0.022730</td>\n",
       "      <td>-0.091452</td>\n",
       "      <td>...</td>\n",
       "      <td>-0.029648</td>\n",
       "      <td>-0.037944</td>\n",
       "      <td>-0.046043</td>\n",
       "      <td>0.003603</td>\n",
       "      <td>0.018028</td>\n",
       "      <td>-0.030746</td>\n",
       "      <td>0.003671</td>\n",
       "      <td>-0.044464</td>\n",
       "      <td>0.030974</td>\n",
       "      <td>0.040322</td>\n",
       "    </tr>\n",
       "    <tr>\n",
       "      <th>3</th>\n",
       "      <td>0.055668</td>\n",
       "      <td>0.049560</td>\n",
       "      <td>-0.019646</td>\n",
       "      <td>-0.006977</td>\n",
       "      <td>0.039897</td>\n",
       "      <td>0.021177</td>\n",
       "      <td>-0.108079</td>\n",
       "      <td>-0.047191</td>\n",
       "      <td>-0.031517</td>\n",
       "      <td>-0.100057</td>\n",
       "      <td>...</td>\n",
       "      <td>-0.023210</td>\n",
       "      <td>-0.041704</td>\n",
       "      <td>-0.048440</td>\n",
       "      <td>0.006088</td>\n",
       "      <td>0.020110</td>\n",
       "      <td>-0.046751</td>\n",
       "      <td>-0.006635</td>\n",
       "      <td>-0.041455</td>\n",
       "      <td>0.016683</td>\n",
       "      <td>0.057030</td>\n",
       "    </tr>\n",
       "    <tr>\n",
       "      <th>4</th>\n",
       "      <td>0.022637</td>\n",
       "      <td>0.014306</td>\n",
       "      <td>-0.002696</td>\n",
       "      <td>-0.034456</td>\n",
       "      <td>0.034854</td>\n",
       "      <td>0.020822</td>\n",
       "      <td>-0.114046</td>\n",
       "      <td>-0.050019</td>\n",
       "      <td>-0.026491</td>\n",
       "      <td>-0.097928</td>\n",
       "      <td>...</td>\n",
       "      <td>-0.019185</td>\n",
       "      <td>-0.032108</td>\n",
       "      <td>-0.051394</td>\n",
       "      <td>0.008448</td>\n",
       "      <td>0.015208</td>\n",
       "      <td>-0.037987</td>\n",
       "      <td>0.030977</td>\n",
       "      <td>-0.042407</td>\n",
       "      <td>0.041232</td>\n",
       "      <td>0.047161</td>\n",
       "    </tr>\n",
       "  </tbody>\n",
       "</table>\n",
       "<p>5 rows × 1024 columns</p>\n",
       "</div>"
      ],
      "text/plain": [
       "   Column_1  Column_2  Column_3  Column_4  Column_5  Column_6  Column_7  \\\n",
       "0  0.054705  0.063420 -0.015320 -0.016506  0.042195  0.021592 -0.118535   \n",
       "1  0.090373  0.089842 -0.023887 -0.011446  0.051465  0.020982 -0.110989   \n",
       "2  0.043588  0.039572 -0.014332 -0.011769  0.045109  0.015847 -0.103339   \n",
       "3  0.055668  0.049560 -0.019646 -0.006977  0.039897  0.021177 -0.108079   \n",
       "4  0.022637  0.014306 -0.002696 -0.034456  0.034854  0.020822 -0.114046   \n",
       "\n",
       "   Column_8  Column_9  Column_10  ...  Column_1015  Column_1016  Column_1017  \\\n",
       "0 -0.063298 -0.046146  -0.102311  ...    -0.019581    -0.043712    -0.072322   \n",
       "1 -0.066646 -0.041259  -0.087551  ...    -0.024399    -0.041957    -0.066329   \n",
       "2 -0.047735 -0.022730  -0.091452  ...    -0.029648    -0.037944    -0.046043   \n",
       "3 -0.047191 -0.031517  -0.100057  ...    -0.023210    -0.041704    -0.048440   \n",
       "4 -0.050019 -0.026491  -0.097928  ...    -0.019185    -0.032108    -0.051394   \n",
       "\n",
       "   Column_1018  Column_1019  Column_1020  Column_1021  Column_1022  \\\n",
       "0     0.002404     0.018459    -0.047278     0.012195    -0.043319   \n",
       "1     0.006856     0.028449    -0.053758     0.009699    -0.053350   \n",
       "2     0.003603     0.018028    -0.030746     0.003671    -0.044464   \n",
       "3     0.006088     0.020110    -0.046751    -0.006635    -0.041455   \n",
       "4     0.008448     0.015208    -0.037987     0.030977    -0.042407   \n",
       "\n",
       "   Column_1023  Column_1024  \n",
       "0     0.036009     0.063093  \n",
       "1     0.019644     0.079630  \n",
       "2     0.030974     0.040322  \n",
       "3     0.016683     0.057030  \n",
       "4     0.041232     0.047161  \n",
       "\n",
       "[5 rows x 1024 columns]"
      ]
     },
     "execution_count": 29,
     "metadata": {},
     "output_type": "execute_result"
    }
   ],
   "source": [
    "test_df.head()"
   ]
  },
  {
   "cell_type": "markdown",
   "id": "dd778324",
   "metadata": {
    "papermill": {
     "duration": 0.020149,
     "end_time": "2023-07-27T11:28:47.732254",
     "exception": false,
     "start_time": "2023-07-27T11:28:47.712105",
     "status": "completed"
    },
    "tags": []
   },
   "source": [
    "We will now use the model to make predictions on the test embeddings."
   ]
  },
  {
   "cell_type": "code",
   "execution_count": 30,
   "id": "0bc60c29",
   "metadata": {
    "execution": {
     "iopub.execute_input": "2023-07-27T11:28:47.776097Z",
     "iopub.status.busy": "2023-07-27T11:28:47.775669Z",
     "iopub.status.idle": "2023-07-27T11:28:53.793156Z",
     "shell.execute_reply": "2023-07-27T11:28:53.792043Z"
    },
    "papermill": {
     "duration": 6.042273,
     "end_time": "2023-07-27T11:28:53.795941",
     "exception": false,
     "start_time": "2023-07-27T11:28:47.753668",
     "status": "completed"
    },
    "tags": []
   },
   "outputs": [],
   "source": [
    "predictions =  multi_target_classifier.predict_proba(test_df)"
   ]
  },
  {
   "cell_type": "code",
   "execution_count": 31,
   "id": "46cbf41a",
   "metadata": {
    "execution": {
     "iopub.execute_input": "2023-07-27T11:28:53.839141Z",
     "iopub.status.busy": "2023-07-27T11:28:53.838704Z",
     "iopub.status.idle": "2023-07-27T11:28:53.850526Z",
     "shell.execute_reply": "2023-07-27T11:28:53.848983Z"
    },
    "papermill": {
     "duration": 0.03641,
     "end_time": "2023-07-27T11:28:53.853192",
     "exception": false,
     "start_time": "2023-07-27T11:28:53.816782",
     "status": "completed"
    },
    "tags": []
   },
   "outputs": [
    {
     "data": {
      "text/plain": [
       "[array([[0.        , 1.        ],\n",
       "        [0.06666667, 0.93333333],\n",
       "        [0.        , 1.        ],\n",
       "        ...,\n",
       "        [1.        , 0.        ],\n",
       "        [0.66666667, 0.33333333],\n",
       "        [1.        , 0.        ]]),\n",
       " array([[0.        , 1.        ],\n",
       "        [0.13095238, 0.86904762],\n",
       "        [0.27777778, 0.72222222],\n",
       "        ...,\n",
       "        [0.66666667, 0.33333333],\n",
       "        [0.66666667, 0.33333333],\n",
       "        [0.        , 1.        ]]),\n",
       " array([[0.        , 1.        ],\n",
       "        [0.2       , 0.8       ],\n",
       "        [0.        , 1.        ],\n",
       "        ...,\n",
       "        [0.33333333, 0.66666667],\n",
       "        [0.66666667, 0.33333333],\n",
       "        [0.33333333, 0.66666667]]),\n",
       " array([[0.        , 1.        ],\n",
       "        [0.        , 1.        ],\n",
       "        [0.        , 1.        ],\n",
       "        ...,\n",
       "        [0.33333333, 0.66666667],\n",
       "        [0.66666667, 0.33333333],\n",
       "        [0.33333333, 0.66666667]]),\n",
       " array([[0.        , 1.        ],\n",
       "        [0.11111111, 0.88888889],\n",
       "        [0.55555556, 0.44444444],\n",
       "        ...,\n",
       "        [0.66666667, 0.33333333],\n",
       "        [0.33333333, 0.66666667],\n",
       "        [0.33333333, 0.66666667]]),\n",
       " array([[0.        , 1.        ],\n",
       "        [0.39444444, 0.60555556],\n",
       "        [0.33333333, 0.66666667],\n",
       "        ...,\n",
       "        [0.66666667, 0.33333333],\n",
       "        [0.66666667, 0.33333333],\n",
       "        [0.33333333, 0.66666667]]),\n",
       " array([[1.        , 0.        ],\n",
       "        [0.32910053, 0.67089947],\n",
       "        [1.        , 0.        ],\n",
       "        ...,\n",
       "        [1.        , 0.        ],\n",
       "        [0.66666667, 0.33333333],\n",
       "        [0.33333333, 0.66666667]]),\n",
       " array([[1.        , 0.        ],\n",
       "        [0.08333333, 0.91666667],\n",
       "        [1.        , 0.        ],\n",
       "        ...,\n",
       "        [0.66666667, 0.33333333],\n",
       "        [1.        , 0.        ],\n",
       "        [0.66666667, 0.33333333]]),\n",
       " array([[0.        , 1.        ],\n",
       "        [0.        , 1.        ],\n",
       "        [0.        , 1.        ],\n",
       "        ...,\n",
       "        [0.33333333, 0.66666667],\n",
       "        [0.66666667, 0.33333333],\n",
       "        [0.66666667, 0.33333333]]),\n",
       " array([[0.88888889, 0.11111111],\n",
       "        [0.38888889, 0.61111111],\n",
       "        [0.66666667, 0.33333333],\n",
       "        ...,\n",
       "        [0.66666667, 0.33333333],\n",
       "        [0.66666667, 0.33333333],\n",
       "        [0.        , 1.        ]]),\n",
       " array([[0., 1.],\n",
       "        [0., 1.],\n",
       "        [0., 1.],\n",
       "        ...,\n",
       "        [0., 1.],\n",
       "        [0., 1.],\n",
       "        [0., 1.]])]"
      ]
     },
     "execution_count": 31,
     "metadata": {},
     "output_type": "execute_result"
    }
   ],
   "source": [
    "predictions"
   ]
  },
  {
   "cell_type": "code",
   "execution_count": 32,
   "id": "14afcf49",
   "metadata": {
    "execution": {
     "iopub.execute_input": "2023-07-27T11:28:53.897143Z",
     "iopub.status.busy": "2023-07-27T11:28:53.896712Z",
     "iopub.status.idle": "2023-07-27T11:28:53.904187Z",
     "shell.execute_reply": "2023-07-27T11:28:53.903166Z"
    },
    "papermill": {
     "duration": 0.031978,
     "end_time": "2023-07-27T11:28:53.906672",
     "exception": false,
     "start_time": "2023-07-27T11:28:53.874694",
     "status": "completed"
    },
    "tags": []
   },
   "outputs": [
    {
     "data": {
      "text/plain": [
       "11"
      ]
     },
     "execution_count": 32,
     "metadata": {},
     "output_type": "execute_result"
    }
   ],
   "source": [
    "len(predictions)"
   ]
  },
  {
   "cell_type": "code",
   "execution_count": 33,
   "id": "e67cf8ce",
   "metadata": {
    "execution": {
     "iopub.execute_input": "2023-07-27T11:28:53.951209Z",
     "iopub.status.busy": "2023-07-27T11:28:53.950736Z",
     "iopub.status.idle": "2023-07-27T11:28:54.203965Z",
     "shell.execute_reply": "2023-07-27T11:28:54.202667Z"
    },
    "papermill": {
     "duration": 0.279336,
     "end_time": "2023-07-27T11:28:54.206863",
     "exception": false,
     "start_time": "2023-07-27T11:28:53.927527",
     "status": "completed"
    },
    "tags": []
   },
   "outputs": [],
   "source": [
    "df_submission = pd.DataFrame(columns = ['Protein Id', 'GO Term Id','Prediction'])\n",
    "test_protein_ids = np.load('/kaggle/input/t5embeds/test_ids.npy')"
   ]
  },
  {
   "cell_type": "code",
   "execution_count": null,
   "id": "8f0aab63",
   "metadata": {
    "execution": {
     "iopub.execute_input": "2023-07-18T14:41:32.518186Z",
     "iopub.status.busy": "2023-07-18T14:41:32.517833Z",
     "iopub.status.idle": "2023-07-18T14:41:32.527980Z",
     "shell.execute_reply": "2023-07-18T14:41:32.526247Z",
     "shell.execute_reply.started": "2023-07-18T14:41:32.518159Z"
    },
    "papermill": {
     "duration": 0.020495,
     "end_time": "2023-07-27T11:28:54.248281",
     "exception": false,
     "start_time": "2023-07-27T11:28:54.227786",
     "status": "completed"
    },
    "tags": []
   },
   "outputs": [],
   "source": []
  },
  {
   "cell_type": "code",
   "execution_count": 34,
   "id": "93928c58",
   "metadata": {
    "execution": {
     "iopub.execute_input": "2023-07-27T11:28:54.292280Z",
     "iopub.status.busy": "2023-07-27T11:28:54.291061Z",
     "iopub.status.idle": "2023-07-27T11:28:54.794716Z",
     "shell.execute_reply": "2023-07-27T11:28:54.793099Z"
    },
    "papermill": {
     "duration": 0.528143,
     "end_time": "2023-07-27T11:28:54.797126",
     "exception": true,
     "start_time": "2023-07-27T11:28:54.268983",
     "status": "failed"
    },
    "tags": []
   },
   "outputs": [
    {
     "ename": "TypeError",
     "evalue": "list indices must be integers or slices, not tuple",
     "output_type": "error",
     "traceback": [
      "\u001b[0;31m---------------------------------------------------------------------------\u001b[0m",
      "\u001b[0;31mTypeError\u001b[0m                                 Traceback (most recent call last)",
      "Cell \u001b[0;32mIn[34], line 3\u001b[0m\n\u001b[1;32m      1\u001b[0m df_submission[\u001b[38;5;124m'\u001b[39m\u001b[38;5;124mProtein Id\u001b[39m\u001b[38;5;124m'\u001b[39m] \u001b[38;5;241m=\u001b[39m test_protein_ids\n\u001b[1;32m      2\u001b[0m df_submission[\u001b[38;5;124m'\u001b[39m\u001b[38;5;124mGO Term Id\u001b[39m\u001b[38;5;124m'\u001b[39m] \u001b[38;5;241m=\u001b[39m \u001b[38;5;124m'\u001b[39m\u001b[38;5;124mGO:0005575\u001b[39m\u001b[38;5;124m'\u001b[39m\n\u001b[0;32m----> 3\u001b[0m df_submission[\u001b[38;5;124m'\u001b[39m\u001b[38;5;124mPrediction\u001b[39m\u001b[38;5;124m'\u001b[39m] \u001b[38;5;241m=\u001b[39m \u001b[43mpredictions\u001b[49m\u001b[43m[\u001b[49m\u001b[43m:\u001b[49m\u001b[43m,\u001b[49m\u001b[38;5;241;43m1\u001b[39;49m\u001b[43m]\u001b[49m\n",
      "\u001b[0;31mTypeError\u001b[0m: list indices must be integers or slices, not tuple"
     ]
    }
   ],
   "source": [
    "df_submission['Protein Id'] = test_protein_ids\n",
    "df_submission['GO Term Id'] = 'GO:0005575'\n",
    "df_submission['Prediction'] = predictions[:,1]"
   ]
  },
  {
   "cell_type": "code",
   "execution_count": null,
   "id": "164159b9",
   "metadata": {
    "execution": {
     "iopub.execute_input": "2023-07-11T12:03:26.183387Z",
     "iopub.status.busy": "2023-07-11T12:03:26.182992Z",
     "iopub.status.idle": "2023-07-11T12:03:26.193558Z",
     "shell.execute_reply": "2023-07-11T12:03:26.192339Z",
     "shell.execute_reply.started": "2023-07-11T12:03:26.183355Z"
    },
    "papermill": {
     "duration": null,
     "end_time": null,
     "exception": null,
     "start_time": null,
     "status": "pending"
    },
    "tags": []
   },
   "outputs": [],
   "source": [
    "df_submission"
   ]
  },
  {
   "cell_type": "code",
   "execution_count": null,
   "id": "f8fbe098",
   "metadata": {
    "papermill": {
     "duration": null,
     "end_time": null,
     "exception": null,
     "start_time": null,
     "status": "pending"
    },
    "tags": []
   },
   "outputs": [],
   "source": [
    "df_submission.to_csv(\"submission.tsv\",header=False, index=False, sep=\"\\t\")"
   ]
  }
 ],
 "metadata": {
  "kernelspec": {
   "display_name": "Python 3",
   "language": "python",
   "name": "python3"
  },
  "language_info": {
   "codemirror_mode": {
    "name": "ipython",
    "version": 3
   },
   "file_extension": ".py",
   "mimetype": "text/x-python",
   "name": "python",
   "nbconvert_exporter": "python",
   "pygments_lexer": "ipython3",
   "version": "3.10.12"
  },
  "papermill": {
   "default_parameters": {},
   "duration": 354.524777,
   "end_time": "2023-07-27T11:28:56.144833",
   "environment_variables": {},
   "exception": true,
   "input_path": "__notebook__.ipynb",
   "output_path": "__notebook__.ipynb",
   "parameters": {},
   "start_time": "2023-07-27T11:23:01.620056",
   "version": "2.4.0"
  }
 },
 "nbformat": 4,
 "nbformat_minor": 5
}
